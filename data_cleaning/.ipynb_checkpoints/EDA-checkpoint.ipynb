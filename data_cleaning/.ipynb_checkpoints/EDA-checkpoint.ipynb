{
 "cells": [
  {
   "cell_type": "code",
   "execution_count": 26,
   "id": "24a76bbe-6394-4fb2-a74f-4bade8f26724",
   "metadata": {},
   "outputs": [],
   "source": [
    "import pandas as pd\n",
    "import numpy as np"
   ]
  },
  {
   "cell_type": "code",
   "execution_count": 44,
   "id": "8c8c9c02-deaf-4672-964c-b022919fc7db",
   "metadata": {},
   "outputs": [],
   "source": [
    "data = pd.read_csv(\"../data_sources/BankChurners.csv\")"
   ]
  },
  {
   "cell_type": "code",
   "execution_count": 45,
   "id": "04aaf86d-e5cc-401a-af11-83bbd90300e8",
   "metadata": {},
   "outputs": [
    {
     "data": {
      "text/plain": [
       "CLIENTNUM                                                                                                                               int64\n",
       "Attrition_Flag                                                                                                                         object\n",
       "Customer_Age                                                                                                                            int64\n",
       "Gender                                                                                                                                 object\n",
       "Dependent_count                                                                                                                         int64\n",
       "Education_Level                                                                                                                        object\n",
       "Marital_Status                                                                                                                         object\n",
       "Income_Category                                                                                                                        object\n",
       "Card_Category                                                                                                                          object\n",
       "Months_on_book                                                                                                                          int64\n",
       "Total_Relationship_Count                                                                                                                int64\n",
       "Months_Inactive_12_mon                                                                                                                  int64\n",
       "Contacts_Count_12_mon                                                                                                                   int64\n",
       "Credit_Limit                                                                                                                          float64\n",
       "Total_Revolving_Bal                                                                                                                     int64\n",
       "Avg_Open_To_Buy                                                                                                                       float64\n",
       "Total_Amt_Chng_Q4_Q1                                                                                                                  float64\n",
       "Total_Trans_Amt                                                                                                                         int64\n",
       "Total_Trans_Ct                                                                                                                          int64\n",
       "Total_Ct_Chng_Q4_Q1                                                                                                                   float64\n",
       "Avg_Utilization_Ratio                                                                                                                 float64\n",
       "Naive_Bayes_Classifier_Attrition_Flag_Card_Category_Contacts_Count_12_mon_Dependent_count_Education_Level_Months_Inactive_12_mon_1    float64\n",
       "Naive_Bayes_Classifier_Attrition_Flag_Card_Category_Contacts_Count_12_mon_Dependent_count_Education_Level_Months_Inactive_12_mon_2    float64\n",
       "dtype: object"
      ]
     },
     "execution_count": 45,
     "metadata": {},
     "output_type": "execute_result"
    }
   ],
   "source": [
    "data.dtypes"
   ]
  },
  {
   "cell_type": "markdown",
   "id": "811d79ef-3132-4052-ac56-5e08e8740b29",
   "metadata": {},
   "source": [
    "# EXAMEN LIMPIEZA DE DATOS\n",
    "*def: Un gerente comercial de una cartera de tarjetas de crédito de consumo se enfrenta al problema de la deserción de clientes. Quieren analizar los datos para descubrir la razón detrás de esto y aprovechar lo mismo para predecir los clientes que probablemente abandonarán* \\\n",
    "- Tratar variables nulas"
   ]
  },
  {
   "cell_type": "code",
   "execution_count": 46,
   "id": "e9cefa6a-5419-4921-8f61-622cc30542df",
   "metadata": {},
   "outputs": [
    {
     "data": {
      "text/plain": [
       "Index(['Attrition_Flag', 'Gender', 'Education_Level', 'Marital_Status',\n",
       "       'Income_Category', 'Card_Category'],\n",
       "      dtype='object')"
      ]
     },
     "execution_count": 46,
     "metadata": {},
     "output_type": "execute_result"
    }
   ],
   "source": [
    "data.select_dtypes('object').columns"
   ]
  },
  {
   "cell_type": "code",
   "execution_count": 47,
   "id": "3cc271ee-462f-44ac-b536-49f7c035c2d0",
   "metadata": {},
   "outputs": [
    {
     "data": {
      "text/plain": [
       "Index(['CLIENTNUM', 'Customer_Age', 'Dependent_count', 'Months_on_book',\n",
       "       'Total_Relationship_Count', 'Months_Inactive_12_mon',\n",
       "       'Contacts_Count_12_mon', 'Total_Revolving_Bal', 'Total_Trans_Amt',\n",
       "       'Total_Trans_Ct'],\n",
       "      dtype='object')"
      ]
     },
     "execution_count": 47,
     "metadata": {},
     "output_type": "execute_result"
    }
   ],
   "source": [
    "data.select_dtypes('int64').columns"
   ]
  },
  {
   "cell_type": "code",
   "execution_count": 48,
   "id": "8feb0694-57bc-42c5-8315-6ef71476dace",
   "metadata": {},
   "outputs": [
    {
     "data": {
      "text/plain": [
       "Index(['Credit_Limit', 'Avg_Open_To_Buy', 'Total_Amt_Chng_Q4_Q1',\n",
       "       'Total_Ct_Chng_Q4_Q1', 'Avg_Utilization_Ratio',\n",
       "       'Naive_Bayes_Classifier_Attrition_Flag_Card_Category_Contacts_Count_12_mon_Dependent_count_Education_Level_Months_Inactive_12_mon_1',\n",
       "       'Naive_Bayes_Classifier_Attrition_Flag_Card_Category_Contacts_Count_12_mon_Dependent_count_Education_Level_Months_Inactive_12_mon_2'],\n",
       "      dtype='object')"
      ]
     },
     "execution_count": 48,
     "metadata": {},
     "output_type": "execute_result"
    }
   ],
   "source": [
    "data.select_dtypes('float64').columns"
   ]
  },
  {
   "cell_type": "code",
   "execution_count": 49,
   "id": "41743630-3020-41e2-9e5e-f33908ad457c",
   "metadata": {},
   "outputs": [],
   "source": [
    "utilizar = ['Credit_Limit', 'Avg_Open_To_Buy', 'Avg_Utilization_Ratio', 'Customer_Age', 'Total_Trans_Amt' ,'Months_on_book','Attrition_Flag', 'Gender', 'Education_Level', 'Marital_Status',\n",
    "       'Income_Category', 'Card_Category']"
   ]
  },
  {
   "cell_type": "code",
   "execution_count": 50,
   "id": "37062d0a-3a0b-435d-a81a-05191234f7dc",
   "metadata": {},
   "outputs": [
    {
     "data": {
      "text/html": [
       "<div>\n",
       "<style scoped>\n",
       "    .dataframe tbody tr th:only-of-type {\n",
       "        vertical-align: middle;\n",
       "    }\n",
       "\n",
       "    .dataframe tbody tr th {\n",
       "        vertical-align: top;\n",
       "    }\n",
       "\n",
       "    .dataframe thead th {\n",
       "        text-align: right;\n",
       "    }\n",
       "</style>\n",
       "<table border=\"1\" class=\"dataframe\">\n",
       "  <thead>\n",
       "    <tr style=\"text-align: right;\">\n",
       "      <th></th>\n",
       "      <th>Credit_Limit</th>\n",
       "      <th>Avg_Open_To_Buy</th>\n",
       "      <th>Avg_Utilization_Ratio</th>\n",
       "      <th>Customer_Age</th>\n",
       "      <th>Total_Trans_Amt</th>\n",
       "      <th>Months_on_book</th>\n",
       "      <th>Attrition_Flag</th>\n",
       "      <th>Gender</th>\n",
       "      <th>Education_Level</th>\n",
       "      <th>Marital_Status</th>\n",
       "      <th>Income_Category</th>\n",
       "      <th>Card_Category</th>\n",
       "    </tr>\n",
       "  </thead>\n",
       "  <tbody>\n",
       "    <tr>\n",
       "      <th>0</th>\n",
       "      <td>12691.0</td>\n",
       "      <td>11914.0</td>\n",
       "      <td>0.061</td>\n",
       "      <td>45</td>\n",
       "      <td>1144</td>\n",
       "      <td>39</td>\n",
       "      <td>Existing Customer</td>\n",
       "      <td>M</td>\n",
       "      <td>High School</td>\n",
       "      <td>Married</td>\n",
       "      <td>$60K - $80K</td>\n",
       "      <td>Blue</td>\n",
       "    </tr>\n",
       "    <tr>\n",
       "      <th>1</th>\n",
       "      <td>8256.0</td>\n",
       "      <td>7392.0</td>\n",
       "      <td>0.105</td>\n",
       "      <td>49</td>\n",
       "      <td>1291</td>\n",
       "      <td>44</td>\n",
       "      <td>Existing Customer</td>\n",
       "      <td>F</td>\n",
       "      <td>Graduate</td>\n",
       "      <td>Single</td>\n",
       "      <td>Less than $40K</td>\n",
       "      <td>Blue</td>\n",
       "    </tr>\n",
       "    <tr>\n",
       "      <th>2</th>\n",
       "      <td>3418.0</td>\n",
       "      <td>3418.0</td>\n",
       "      <td>0.000</td>\n",
       "      <td>51</td>\n",
       "      <td>1887</td>\n",
       "      <td>36</td>\n",
       "      <td>Existing Customer</td>\n",
       "      <td>M</td>\n",
       "      <td>Graduate</td>\n",
       "      <td>Married</td>\n",
       "      <td>$80K - $120K</td>\n",
       "      <td>Blue</td>\n",
       "    </tr>\n",
       "    <tr>\n",
       "      <th>3</th>\n",
       "      <td>3313.0</td>\n",
       "      <td>796.0</td>\n",
       "      <td>0.760</td>\n",
       "      <td>40</td>\n",
       "      <td>1171</td>\n",
       "      <td>34</td>\n",
       "      <td>Existing Customer</td>\n",
       "      <td>F</td>\n",
       "      <td>High School</td>\n",
       "      <td>Unknown</td>\n",
       "      <td>Less than $40K</td>\n",
       "      <td>Blue</td>\n",
       "    </tr>\n",
       "    <tr>\n",
       "      <th>4</th>\n",
       "      <td>4716.0</td>\n",
       "      <td>4716.0</td>\n",
       "      <td>0.000</td>\n",
       "      <td>40</td>\n",
       "      <td>816</td>\n",
       "      <td>21</td>\n",
       "      <td>Existing Customer</td>\n",
       "      <td>M</td>\n",
       "      <td>Uneducated</td>\n",
       "      <td>Married</td>\n",
       "      <td>$60K - $80K</td>\n",
       "      <td>Blue</td>\n",
       "    </tr>\n",
       "    <tr>\n",
       "      <th>...</th>\n",
       "      <td>...</td>\n",
       "      <td>...</td>\n",
       "      <td>...</td>\n",
       "      <td>...</td>\n",
       "      <td>...</td>\n",
       "      <td>...</td>\n",
       "      <td>...</td>\n",
       "      <td>...</td>\n",
       "      <td>...</td>\n",
       "      <td>...</td>\n",
       "      <td>...</td>\n",
       "      <td>...</td>\n",
       "    </tr>\n",
       "    <tr>\n",
       "      <th>10122</th>\n",
       "      <td>4003.0</td>\n",
       "      <td>2152.0</td>\n",
       "      <td>0.462</td>\n",
       "      <td>50</td>\n",
       "      <td>15476</td>\n",
       "      <td>40</td>\n",
       "      <td>Existing Customer</td>\n",
       "      <td>M</td>\n",
       "      <td>Graduate</td>\n",
       "      <td>Single</td>\n",
       "      <td>$40K - $60K</td>\n",
       "      <td>Blue</td>\n",
       "    </tr>\n",
       "    <tr>\n",
       "      <th>10123</th>\n",
       "      <td>4277.0</td>\n",
       "      <td>2091.0</td>\n",
       "      <td>0.511</td>\n",
       "      <td>41</td>\n",
       "      <td>8764</td>\n",
       "      <td>25</td>\n",
       "      <td>Attrited Customer</td>\n",
       "      <td>M</td>\n",
       "      <td>Unknown</td>\n",
       "      <td>Divorced</td>\n",
       "      <td>$40K - $60K</td>\n",
       "      <td>Blue</td>\n",
       "    </tr>\n",
       "    <tr>\n",
       "      <th>10124</th>\n",
       "      <td>5409.0</td>\n",
       "      <td>5409.0</td>\n",
       "      <td>0.000</td>\n",
       "      <td>44</td>\n",
       "      <td>10291</td>\n",
       "      <td>36</td>\n",
       "      <td>Attrited Customer</td>\n",
       "      <td>F</td>\n",
       "      <td>High School</td>\n",
       "      <td>Married</td>\n",
       "      <td>Less than $40K</td>\n",
       "      <td>Blue</td>\n",
       "    </tr>\n",
       "    <tr>\n",
       "      <th>10125</th>\n",
       "      <td>5281.0</td>\n",
       "      <td>5281.0</td>\n",
       "      <td>0.000</td>\n",
       "      <td>30</td>\n",
       "      <td>8395</td>\n",
       "      <td>36</td>\n",
       "      <td>Attrited Customer</td>\n",
       "      <td>M</td>\n",
       "      <td>Graduate</td>\n",
       "      <td>Unknown</td>\n",
       "      <td>$40K - $60K</td>\n",
       "      <td>Blue</td>\n",
       "    </tr>\n",
       "    <tr>\n",
       "      <th>10126</th>\n",
       "      <td>10388.0</td>\n",
       "      <td>8427.0</td>\n",
       "      <td>0.189</td>\n",
       "      <td>43</td>\n",
       "      <td>10294</td>\n",
       "      <td>25</td>\n",
       "      <td>Attrited Customer</td>\n",
       "      <td>F</td>\n",
       "      <td>Graduate</td>\n",
       "      <td>Married</td>\n",
       "      <td>Less than $40K</td>\n",
       "      <td>Silver</td>\n",
       "    </tr>\n",
       "  </tbody>\n",
       "</table>\n",
       "<p>10127 rows × 12 columns</p>\n",
       "</div>"
      ],
      "text/plain": [
       "       Credit_Limit  Avg_Open_To_Buy  Avg_Utilization_Ratio  Customer_Age  \\\n",
       "0           12691.0          11914.0                  0.061            45   \n",
       "1            8256.0           7392.0                  0.105            49   \n",
       "2            3418.0           3418.0                  0.000            51   \n",
       "3            3313.0            796.0                  0.760            40   \n",
       "4            4716.0           4716.0                  0.000            40   \n",
       "...             ...              ...                    ...           ...   \n",
       "10122        4003.0           2152.0                  0.462            50   \n",
       "10123        4277.0           2091.0                  0.511            41   \n",
       "10124        5409.0           5409.0                  0.000            44   \n",
       "10125        5281.0           5281.0                  0.000            30   \n",
       "10126       10388.0           8427.0                  0.189            43   \n",
       "\n",
       "       Total_Trans_Amt  Months_on_book     Attrition_Flag Gender  \\\n",
       "0                 1144              39  Existing Customer      M   \n",
       "1                 1291              44  Existing Customer      F   \n",
       "2                 1887              36  Existing Customer      M   \n",
       "3                 1171              34  Existing Customer      F   \n",
       "4                  816              21  Existing Customer      M   \n",
       "...                ...             ...                ...    ...   \n",
       "10122            15476              40  Existing Customer      M   \n",
       "10123             8764              25  Attrited Customer      M   \n",
       "10124            10291              36  Attrited Customer      F   \n",
       "10125             8395              36  Attrited Customer      M   \n",
       "10126            10294              25  Attrited Customer      F   \n",
       "\n",
       "      Education_Level Marital_Status Income_Category Card_Category  \n",
       "0         High School        Married     $60K - $80K          Blue  \n",
       "1            Graduate         Single  Less than $40K          Blue  \n",
       "2            Graduate        Married    $80K - $120K          Blue  \n",
       "3         High School        Unknown  Less than $40K          Blue  \n",
       "4          Uneducated        Married     $60K - $80K          Blue  \n",
       "...               ...            ...             ...           ...  \n",
       "10122        Graduate         Single     $40K - $60K          Blue  \n",
       "10123         Unknown       Divorced     $40K - $60K          Blue  \n",
       "10124     High School        Married  Less than $40K          Blue  \n",
       "10125        Graduate        Unknown     $40K - $60K          Blue  \n",
       "10126        Graduate        Married  Less than $40K        Silver  \n",
       "\n",
       "[10127 rows x 12 columns]"
      ]
     },
     "execution_count": 50,
     "metadata": {},
     "output_type": "execute_result"
    }
   ],
   "source": [
    "data.loc[:, utilizar]"
   ]
  },
  {
   "cell_type": "markdown",
   "id": "e91aa6ff-e537-487e-8dc7-9c640ef2b3e9",
   "metadata": {},
   "source": [
    "- En caso de que la columna tenga mas del 90% de valores nulos excluir "
   ]
  },
  {
   "cell_type": "code",
   "execution_count": 51,
   "id": "ece7a226-4d09-4f12-ad23-479db3c00468",
   "metadata": {},
   "outputs": [
    {
     "name": "stdout",
     "output_type": "stream",
     "text": [
      "<class 'pandas.core.frame.DataFrame'>\n",
      "RangeIndex: 10127 entries, 0 to 10126\n",
      "Data columns (total 23 columns):\n",
      " #   Column                                                                                                                              Non-Null Count  Dtype  \n",
      "---  ------                                                                                                                              --------------  -----  \n",
      " 0   CLIENTNUM                                                                                                                           10127 non-null  int64  \n",
      " 1   Attrition_Flag                                                                                                                      10127 non-null  object \n",
      " 2   Customer_Age                                                                                                                        10127 non-null  int64  \n",
      " 3   Gender                                                                                                                              10127 non-null  object \n",
      " 4   Dependent_count                                                                                                                     10127 non-null  int64  \n",
      " 5   Education_Level                                                                                                                     10127 non-null  object \n",
      " 6   Marital_Status                                                                                                                      10127 non-null  object \n",
      " 7   Income_Category                                                                                                                     10127 non-null  object \n",
      " 8   Card_Category                                                                                                                       10127 non-null  object \n",
      " 9   Months_on_book                                                                                                                      10127 non-null  int64  \n",
      " 10  Total_Relationship_Count                                                                                                            10127 non-null  int64  \n",
      " 11  Months_Inactive_12_mon                                                                                                              10127 non-null  int64  \n",
      " 12  Contacts_Count_12_mon                                                                                                               10127 non-null  int64  \n",
      " 13  Credit_Limit                                                                                                                        10127 non-null  float64\n",
      " 14  Total_Revolving_Bal                                                                                                                 10127 non-null  int64  \n",
      " 15  Avg_Open_To_Buy                                                                                                                     10127 non-null  float64\n",
      " 16  Total_Amt_Chng_Q4_Q1                                                                                                                10127 non-null  float64\n",
      " 17  Total_Trans_Amt                                                                                                                     10127 non-null  int64  \n",
      " 18  Total_Trans_Ct                                                                                                                      10127 non-null  int64  \n",
      " 19  Total_Ct_Chng_Q4_Q1                                                                                                                 10127 non-null  float64\n",
      " 20  Avg_Utilization_Ratio                                                                                                               10127 non-null  float64\n",
      " 21  Naive_Bayes_Classifier_Attrition_Flag_Card_Category_Contacts_Count_12_mon_Dependent_count_Education_Level_Months_Inactive_12_mon_1  10127 non-null  float64\n",
      " 22  Naive_Bayes_Classifier_Attrition_Flag_Card_Category_Contacts_Count_12_mon_Dependent_count_Education_Level_Months_Inactive_12_mon_2  10127 non-null  float64\n",
      "dtypes: float64(7), int64(10), object(6)\n",
      "memory usage: 1.8+ MB\n"
     ]
    }
   ],
   "source": [
    "data.info() ## Para ver resumen de las columnas con el conteo de valores nulos."
   ]
  },
  {
   "cell_type": "code",
   "execution_count": 52,
   "id": "556cce3c-d56e-4030-a7c7-87c68852d134",
   "metadata": {},
   "outputs": [],
   "source": [
    "columns_valid = []\n",
    "for column_ in data.columns:\n",
    "    percentage = np.sum(pd.isna( data.loc[ : , column_ ] )) / data.shape[0]\n",
    "    if percentage <= 0.9:\n",
    "        columns_valid.append(column_)\n",
    "    else:\n",
    "        data = data.drop(columns=column_)"
   ]
  },
  {
   "cell_type": "code",
   "execution_count": 53,
   "id": "d295c9aa-0fd1-4d38-840d-5576bb7607ce",
   "metadata": {},
   "outputs": [
    {
     "data": {
      "text/plain": [
       "['CLIENTNUM',\n",
       " 'Attrition_Flag',\n",
       " 'Customer_Age',\n",
       " 'Gender',\n",
       " 'Dependent_count',\n",
       " 'Education_Level',\n",
       " 'Marital_Status',\n",
       " 'Income_Category',\n",
       " 'Card_Category',\n",
       " 'Months_on_book',\n",
       " 'Total_Relationship_Count',\n",
       " 'Months_Inactive_12_mon',\n",
       " 'Contacts_Count_12_mon',\n",
       " 'Credit_Limit',\n",
       " 'Total_Revolving_Bal',\n",
       " 'Avg_Open_To_Buy',\n",
       " 'Total_Amt_Chng_Q4_Q1',\n",
       " 'Total_Trans_Amt',\n",
       " 'Total_Trans_Ct',\n",
       " 'Total_Ct_Chng_Q4_Q1',\n",
       " 'Avg_Utilization_Ratio',\n",
       " 'Naive_Bayes_Classifier_Attrition_Flag_Card_Category_Contacts_Count_12_mon_Dependent_count_Education_Level_Months_Inactive_12_mon_1',\n",
       " 'Naive_Bayes_Classifier_Attrition_Flag_Card_Category_Contacts_Count_12_mon_Dependent_count_Education_Level_Months_Inactive_12_mon_2']"
      ]
     },
     "execution_count": 53,
     "metadata": {},
     "output_type": "execute_result"
    }
   ],
   "source": [
    "columns_valid ## Veremos la columnas validas (con menos del 90% de valores nulos)"
   ]
  },
  {
   "cell_type": "code",
   "execution_count": 54,
   "id": "04d7d9bd-1b3c-4844-a9ce-33ef00d9f289",
   "metadata": {},
   "outputs": [
    {
     "data": {
      "text/html": [
       "<div>\n",
       "<style scoped>\n",
       "    .dataframe tbody tr th:only-of-type {\n",
       "        vertical-align: middle;\n",
       "    }\n",
       "\n",
       "    .dataframe tbody tr th {\n",
       "        vertical-align: top;\n",
       "    }\n",
       "\n",
       "    .dataframe thead th {\n",
       "        text-align: right;\n",
       "    }\n",
       "</style>\n",
       "<table border=\"1\" class=\"dataframe\">\n",
       "  <thead>\n",
       "    <tr style=\"text-align: right;\">\n",
       "      <th></th>\n",
       "      <th>CLIENTNUM</th>\n",
       "      <th>Attrition_Flag</th>\n",
       "      <th>Customer_Age</th>\n",
       "      <th>Gender</th>\n",
       "      <th>Dependent_count</th>\n",
       "      <th>Education_Level</th>\n",
       "      <th>Marital_Status</th>\n",
       "      <th>Income_Category</th>\n",
       "      <th>Card_Category</th>\n",
       "      <th>Months_on_book</th>\n",
       "      <th>...</th>\n",
       "      <th>Credit_Limit</th>\n",
       "      <th>Total_Revolving_Bal</th>\n",
       "      <th>Avg_Open_To_Buy</th>\n",
       "      <th>Total_Amt_Chng_Q4_Q1</th>\n",
       "      <th>Total_Trans_Amt</th>\n",
       "      <th>Total_Trans_Ct</th>\n",
       "      <th>Total_Ct_Chng_Q4_Q1</th>\n",
       "      <th>Avg_Utilization_Ratio</th>\n",
       "      <th>Naive_Bayes_Classifier_Attrition_Flag_Card_Category_Contacts_Count_12_mon_Dependent_count_Education_Level_Months_Inactive_12_mon_1</th>\n",
       "      <th>Naive_Bayes_Classifier_Attrition_Flag_Card_Category_Contacts_Count_12_mon_Dependent_count_Education_Level_Months_Inactive_12_mon_2</th>\n",
       "    </tr>\n",
       "  </thead>\n",
       "  <tbody>\n",
       "    <tr>\n",
       "      <th>0</th>\n",
       "      <td>768805383</td>\n",
       "      <td>Existing Customer</td>\n",
       "      <td>45</td>\n",
       "      <td>M</td>\n",
       "      <td>3</td>\n",
       "      <td>High School</td>\n",
       "      <td>Married</td>\n",
       "      <td>$60K - $80K</td>\n",
       "      <td>Blue</td>\n",
       "      <td>39</td>\n",
       "      <td>...</td>\n",
       "      <td>12691.0</td>\n",
       "      <td>777</td>\n",
       "      <td>11914.0</td>\n",
       "      <td>1.335</td>\n",
       "      <td>1144</td>\n",
       "      <td>42</td>\n",
       "      <td>1.625</td>\n",
       "      <td>0.061</td>\n",
       "      <td>0.000093</td>\n",
       "      <td>0.99991</td>\n",
       "    </tr>\n",
       "  </tbody>\n",
       "</table>\n",
       "<p>1 rows × 23 columns</p>\n",
       "</div>"
      ],
      "text/plain": [
       "   CLIENTNUM     Attrition_Flag  Customer_Age Gender  Dependent_count  \\\n",
       "0  768805383  Existing Customer            45      M                3   \n",
       "\n",
       "  Education_Level Marital_Status Income_Category Card_Category  \\\n",
       "0     High School        Married     $60K - $80K          Blue   \n",
       "\n",
       "   Months_on_book  ...  Credit_Limit  Total_Revolving_Bal  Avg_Open_To_Buy  \\\n",
       "0              39  ...       12691.0                  777          11914.0   \n",
       "\n",
       "   Total_Amt_Chng_Q4_Q1  Total_Trans_Amt  Total_Trans_Ct  Total_Ct_Chng_Q4_Q1  \\\n",
       "0                 1.335             1144              42                1.625   \n",
       "\n",
       "   Avg_Utilization_Ratio  \\\n",
       "0                  0.061   \n",
       "\n",
       "   Naive_Bayes_Classifier_Attrition_Flag_Card_Category_Contacts_Count_12_mon_Dependent_count_Education_Level_Months_Inactive_12_mon_1  \\\n",
       "0                                           0.000093                                                                                    \n",
       "\n",
       "   Naive_Bayes_Classifier_Attrition_Flag_Card_Category_Contacts_Count_12_mon_Dependent_count_Education_Level_Months_Inactive_12_mon_2  \n",
       "0                                            0.99991                                                                                   \n",
       "\n",
       "[1 rows x 23 columns]"
      ]
     },
     "execution_count": 54,
     "metadata": {},
     "output_type": "execute_result"
    }
   ],
   "source": [
    "data2.head(1)"
   ]
  },
  {
   "cell_type": "code",
   "execution_count": null,
   "id": "f8c820ee-301f-4a1b-82a5-bc8fc0266aae",
   "metadata": {},
   "outputs": [],
   "source": []
  }
 ],
 "metadata": {
  "kernelspec": {
   "display_name": "Python 3 (ipykernel)",
   "language": "python",
   "name": "python3"
  },
  "language_info": {
   "codemirror_mode": {
    "name": "ipython",
    "version": 3
   },
   "file_extension": ".py",
   "mimetype": "text/x-python",
   "name": "python",
   "nbconvert_exporter": "python",
   "pygments_lexer": "ipython3",
   "version": "3.9.12"
  }
 },
 "nbformat": 4,
 "nbformat_minor": 5
}
