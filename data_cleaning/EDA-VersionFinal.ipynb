{
 "cells": [
  {
   "cell_type": "code",
   "execution_count": 8395,
   "id": "24a76bbe-6394-4fb2-a74f-4bade8f26724",
   "metadata": {},
   "outputs": [],
   "source": [
    "import pandas as pd\n",
    "import numpy as np\n",
    "\n",
    "from datetime import date\n",
    "\n",
    "import matplotlib.pyplot as plt\n",
    "import seaborn as sns"
   ]
  },
  {
   "cell_type": "code",
   "execution_count": 8396,
   "id": "8c8c9c02-deaf-4672-964c-b022919fc7db",
   "metadata": {},
   "outputs": [],
   "source": [
    "data = pd.read_csv(\"../data_sources/BankChurners.csv\")"
   ]
  },
  {
   "cell_type": "code",
   "execution_count": 8397,
   "id": "6d2197e7-97f0-4bd2-b17c-2c826ba07da4",
   "metadata": {},
   "outputs": [
    {
     "data": {
      "text/plain": [
       "10127"
      ]
     },
     "execution_count": 8397,
     "metadata": {},
     "output_type": "execute_result"
    }
   ],
   "source": [
    "data.shape[0]"
   ]
  },
  {
   "cell_type": "code",
   "execution_count": 8398,
   "id": "04aaf86d-e5cc-401a-af11-83bbd90300e8",
   "metadata": {},
   "outputs": [
    {
     "data": {
      "text/plain": [
       "CLIENTNUM                                                                                                                               int64\n",
       "Attrition_Flag                                                                                                                         object\n",
       "Customer_Age                                                                                                                            int64\n",
       "Gender                                                                                                                                 object\n",
       "Dependent_count                                                                                                                         int64\n",
       "Education_Level                                                                                                                        object\n",
       "Marital_Status                                                                                                                         object\n",
       "Income_Category                                                                                                                        object\n",
       "Card_Category                                                                                                                          object\n",
       "Months_on_book                                                                                                                          int64\n",
       "Total_Relationship_Count                                                                                                                int64\n",
       "Months_Inactive_12_mon                                                                                                                  int64\n",
       "Contacts_Count_12_mon                                                                                                                   int64\n",
       "Credit_Limit                                                                                                                          float64\n",
       "Total_Revolving_Bal                                                                                                                     int64\n",
       "Avg_Open_To_Buy                                                                                                                       float64\n",
       "Total_Amt_Chng_Q4_Q1                                                                                                                  float64\n",
       "Total_Trans_Amt                                                                                                                         int64\n",
       "Total_Trans_Ct                                                                                                                          int64\n",
       "Total_Ct_Chng_Q4_Q1                                                                                                                   float64\n",
       "Avg_Utilization_Ratio                                                                                                                 float64\n",
       "Naive_Bayes_Classifier_Attrition_Flag_Card_Category_Contacts_Count_12_mon_Dependent_count_Education_Level_Months_Inactive_12_mon_1    float64\n",
       "Naive_Bayes_Classifier_Attrition_Flag_Card_Category_Contacts_Count_12_mon_Dependent_count_Education_Level_Months_Inactive_12_mon_2    float64\n",
       "dtype: object"
      ]
     },
     "execution_count": 8398,
     "metadata": {},
     "output_type": "execute_result"
    }
   ],
   "source": [
    "data.dtypes"
   ]
  },
  {
   "cell_type": "markdown",
   "id": "811d79ef-3132-4052-ac56-5e08e8740b29",
   "metadata": {},
   "source": [
    "# EXAMEN LIMPIEZA DE DATOS\n",
    "*def: Un gerente comercial de una cartera de tarjetas de crédito de consumo se enfrenta al problema de la deserción de clientes. Quieren analizar los datos para descubrir la razón detrás de esto y aprovechar lo mismo para predecir los clientes que probablemente abandonarán* \\\n",
    "1. Tratar variables nulas"
   ]
  },
  {
   "cell_type": "markdown",
   "id": "e91aa6ff-e537-487e-8dc7-9c640ef2b3e9",
   "metadata": {},
   "source": [
    "- En caso de que la columna tenga mas del 90% de valores nulos excluir "
   ]
  },
  {
   "cell_type": "code",
   "execution_count": 8399,
   "id": "ece7a226-4d09-4f12-ad23-479db3c00468",
   "metadata": {},
   "outputs": [
    {
     "data": {
      "text/plain": [
       "CLIENTNUM                                                                                                                             0\n",
       "Attrition_Flag                                                                                                                        0\n",
       "Customer_Age                                                                                                                          0\n",
       "Gender                                                                                                                                0\n",
       "Dependent_count                                                                                                                       0\n",
       "Education_Level                                                                                                                       0\n",
       "Marital_Status                                                                                                                        0\n",
       "Income_Category                                                                                                                       0\n",
       "Card_Category                                                                                                                         0\n",
       "Months_on_book                                                                                                                        0\n",
       "Total_Relationship_Count                                                                                                              0\n",
       "Months_Inactive_12_mon                                                                                                                0\n",
       "Contacts_Count_12_mon                                                                                                                 0\n",
       "Credit_Limit                                                                                                                          0\n",
       "Total_Revolving_Bal                                                                                                                   0\n",
       "Avg_Open_To_Buy                                                                                                                       0\n",
       "Total_Amt_Chng_Q4_Q1                                                                                                                  0\n",
       "Total_Trans_Amt                                                                                                                       0\n",
       "Total_Trans_Ct                                                                                                                        0\n",
       "Total_Ct_Chng_Q4_Q1                                                                                                                   0\n",
       "Avg_Utilization_Ratio                                                                                                                 0\n",
       "Naive_Bayes_Classifier_Attrition_Flag_Card_Category_Contacts_Count_12_mon_Dependent_count_Education_Level_Months_Inactive_12_mon_1    0\n",
       "Naive_Bayes_Classifier_Attrition_Flag_Card_Category_Contacts_Count_12_mon_Dependent_count_Education_Level_Months_Inactive_12_mon_2    0\n",
       "dtype: int64"
      ]
     },
     "execution_count": 8399,
     "metadata": {},
     "output_type": "execute_result"
    }
   ],
   "source": [
    "data.isnull().sum() ## Para ver resumen de las columnas con el conteo de valores nulos."
   ]
  },
  {
   "cell_type": "markdown",
   "id": "66364f0f-8dd2-4dee-9a7b-33d14304e726",
   "metadata": {},
   "source": [
    "Realizamos la validación del porcentaje que representa la posible data null en cada columna de la data historica sin realizarle ningun tipo de transformación aún \\\n",
    "Con lo que tendriamos un array con las columnas que pasan la condición de tener menos del 90% de valores nulos"
   ]
  },
  {
   "cell_type": "code",
   "execution_count": 8400,
   "id": "556cce3c-d56e-4030-a7c7-87c68852d134",
   "metadata": {},
   "outputs": [],
   "source": [
    "columns_valid = []\n",
    "for column_ in data.columns:\n",
    "    percentage = np.sum(pd.isna( data.loc[ : , column_ ] )) / data.shape[0]\n",
    "    if percentage <= 0.9:\n",
    "        columns_valid.append(column_)\n",
    "    else:\n",
    "        data = data.drop(columns=column_)"
   ]
  },
  {
   "cell_type": "code",
   "execution_count": 8401,
   "id": "d295c9aa-0fd1-4d38-840d-5576bb7607ce",
   "metadata": {},
   "outputs": [
    {
     "data": {
      "text/plain": [
       "['CLIENTNUM',\n",
       " 'Attrition_Flag',\n",
       " 'Customer_Age',\n",
       " 'Gender',\n",
       " 'Dependent_count',\n",
       " 'Education_Level',\n",
       " 'Marital_Status',\n",
       " 'Income_Category',\n",
       " 'Card_Category',\n",
       " 'Months_on_book',\n",
       " 'Total_Relationship_Count',\n",
       " 'Months_Inactive_12_mon',\n",
       " 'Contacts_Count_12_mon',\n",
       " 'Credit_Limit',\n",
       " 'Total_Revolving_Bal',\n",
       " 'Avg_Open_To_Buy',\n",
       " 'Total_Amt_Chng_Q4_Q1',\n",
       " 'Total_Trans_Amt',\n",
       " 'Total_Trans_Ct',\n",
       " 'Total_Ct_Chng_Q4_Q1',\n",
       " 'Avg_Utilization_Ratio',\n",
       " 'Naive_Bayes_Classifier_Attrition_Flag_Card_Category_Contacts_Count_12_mon_Dependent_count_Education_Level_Months_Inactive_12_mon_1',\n",
       " 'Naive_Bayes_Classifier_Attrition_Flag_Card_Category_Contacts_Count_12_mon_Dependent_count_Education_Level_Months_Inactive_12_mon_2']"
      ]
     },
     "execution_count": 8401,
     "metadata": {},
     "output_type": "execute_result"
    }
   ],
   "source": [
    "columns_valid ## Veremos la columnas validas (con menos del 90% de valores nulos)"
   ]
  },
  {
   "cell_type": "code",
   "execution_count": 8402,
   "id": "e9cefa6a-5419-4921-8f61-622cc30542df",
   "metadata": {},
   "outputs": [],
   "source": [
    "Categorical = data.loc[:,columns_valid].select_dtypes('object').columns.astype('object')"
   ]
  },
  {
   "cell_type": "markdown",
   "id": "63fe87e4-98de-4b5d-9c37-1071df18c6df",
   "metadata": {},
   "source": [
    "- caso de que sean variables categóricas reemplazar por el valor “others”\n",
    "\n",
    "*def:* Ciclo para recorrer las columnas de variable categorica, buscar valores nulos y modifcarlos por *others*"
   ]
  },
  {
   "cell_type": "code",
   "execution_count": 8403,
   "id": "ee7bf9ce-f6b4-42c3-b632-24379507885c",
   "metadata": {},
   "outputs": [],
   "source": [
    "for c_ in Categorical:\n",
    "    data.loc[ pd.isnull(data[c_]), c_ ] = 'Others'"
   ]
  },
  {
   "cell_type": "markdown",
   "id": "c9d56705-f12c-41ec-8396-2012442d8599",
   "metadata": {},
   "source": [
    "*Quitar columnas con un unico nivel (100% de representatividad), \\\n",
    "columnas con la totalidad de valores distintos (1% de representatividad) \\\n",
    "Columnas con más de un nivel y que al menos 1 nivel tengo más del 70% de representatividad* \\\n",
    "Con la finalidad de tener una data limpia que no se vea afectada por un variable donde predomine muy notablemente un nivel de la misma"
   ]
  },
  {
   "cell_type": "code",
   "execution_count": 8404,
   "id": "a0db275a-a83b-4537-9295-bbbfd9b25724",
   "metadata": {},
   "outputs": [],
   "source": [
    "columnsAnalisys = [] \n",
    "for c_ in data.columns:\n",
    "    val = data.loc[ :, c_ ].drop_duplicates()\n",
    "    if (val.shape[0] > 1) & (val.shape[0] < data.shape[0]):\n",
    "        dfTmp = data.groupby(c_, as_index = False).agg({'CLIENTNUM': ['count']})\n",
    "        dfTmp.columns = dfTmp.columns.droplevel(1)\n",
    "        dfTmp['porcentage'] = dfTmp.apply(lambda r: ((r['CLIENTNUM'])/data.shape[0])*100, axis = 1)\n",
    "        valR = dfTmp.loc[ dfTmp['porcentage'] >= 70, : ].shape[0]\n",
    "        if valR == 0:\n",
    "            columnsAnalisys.append(c_)"
   ]
  },
  {
   "cell_type": "code",
   "execution_count": 8405,
   "id": "831da4bc-a4a1-456b-be06-1785e8be03c7",
   "metadata": {},
   "outputs": [
    {
     "data": {
      "text/plain": [
       "['Customer_Age',\n",
       " 'Gender',\n",
       " 'Dependent_count',\n",
       " 'Education_Level',\n",
       " 'Marital_Status',\n",
       " 'Income_Category',\n",
       " 'Months_on_book',\n",
       " 'Total_Relationship_Count',\n",
       " 'Months_Inactive_12_mon',\n",
       " 'Contacts_Count_12_mon',\n",
       " 'Credit_Limit',\n",
       " 'Total_Revolving_Bal',\n",
       " 'Avg_Open_To_Buy',\n",
       " 'Total_Amt_Chng_Q4_Q1',\n",
       " 'Total_Trans_Amt',\n",
       " 'Total_Trans_Ct',\n",
       " 'Total_Ct_Chng_Q4_Q1',\n",
       " 'Avg_Utilization_Ratio',\n",
       " 'Naive_Bayes_Classifier_Attrition_Flag_Card_Category_Contacts_Count_12_mon_Dependent_count_Education_Level_Months_Inactive_12_mon_1',\n",
       " 'Naive_Bayes_Classifier_Attrition_Flag_Card_Category_Contacts_Count_12_mon_Dependent_count_Education_Level_Months_Inactive_12_mon_2']"
      ]
     },
     "execution_count": 8405,
     "metadata": {},
     "output_type": "execute_result"
    }
   ],
   "source": [
    "columnsAnalisys"
   ]
  },
  {
   "cell_type": "markdown",
   "id": "1c376a38-eb92-4da6-a348-aac4b85446f1",
   "metadata": {},
   "source": [
    "*Realizamos la separación de los tipos de variables*"
   ]
  },
  {
   "cell_type": "code",
   "execution_count": 8406,
   "id": "defb8c56-703c-47f0-95f2-a374ebf0a8aa",
   "metadata": {},
   "outputs": [],
   "source": [
    "Categorical = data.loc[:,columnsAnalisys].select_dtypes('object').columns.astype('object')"
   ]
  },
  {
   "cell_type": "code",
   "execution_count": 8407,
   "id": "3cc271ee-462f-44ac-b536-49f7c035c2d0",
   "metadata": {},
   "outputs": [
    {
     "data": {
      "text/plain": [
       "Index(['Customer_Age', 'Dependent_count', 'Months_on_book',\n",
       "       'Total_Relationship_Count', 'Months_Inactive_12_mon',\n",
       "       'Contacts_Count_12_mon', 'Total_Revolving_Bal', 'Total_Trans_Amt',\n",
       "       'Total_Trans_Ct'],\n",
       "      dtype='object')"
      ]
     },
     "execution_count": 8407,
     "metadata": {},
     "output_type": "execute_result"
    }
   ],
   "source": [
    "data.loc[:,columnsAnalisys].select_dtypes('int64').columns"
   ]
  },
  {
   "cell_type": "code",
   "execution_count": 8408,
   "id": "8feb0694-57bc-42c5-8315-6ef71476dace",
   "metadata": {},
   "outputs": [
    {
     "data": {
      "text/plain": [
       "Index(['Credit_Limit', 'Avg_Open_To_Buy', 'Total_Amt_Chng_Q4_Q1',\n",
       "       'Total_Ct_Chng_Q4_Q1', 'Avg_Utilization_Ratio',\n",
       "       'Naive_Bayes_Classifier_Attrition_Flag_Card_Category_Contacts_Count_12_mon_Dependent_count_Education_Level_Months_Inactive_12_mon_1',\n",
       "       'Naive_Bayes_Classifier_Attrition_Flag_Card_Category_Contacts_Count_12_mon_Dependent_count_Education_Level_Months_Inactive_12_mon_2'],\n",
       "      dtype='object')"
      ]
     },
     "execution_count": 8408,
     "metadata": {},
     "output_type": "execute_result"
    }
   ],
   "source": [
    "data.loc[:,columnsAnalisys].select_dtypes('float64').columns"
   ]
  },
  {
   "cell_type": "code",
   "execution_count": 8409,
   "id": "808eabd1-6603-43d0-a330-959f18b9d0a1",
   "metadata": {},
   "outputs": [],
   "source": [
    "columnsAnalisys =  ['Customer_Age',\n",
    " 'Gender',\n",
    " 'Dependent_count',\n",
    " 'Education_Level',\n",
    " 'Marital_Status',\n",
    " 'Income_Category',\n",
    " 'Months_on_book',\n",
    " 'Total_Relationship_Count',\n",
    " 'Months_Inactive_12_mon',\n",
    " 'Contacts_Count_12_mon',\n",
    " 'Credit_Limit',\n",
    " 'Total_Revolving_Bal',\n",
    " 'Avg_Open_To_Buy',\n",
    " 'Total_Amt_Chng_Q4_Q1',\n",
    " 'Total_Trans_Amt',\n",
    " 'Total_Trans_Ct',\n",
    " 'Total_Ct_Chng_Q4_Q1',\n",
    " 'Avg_Utilization_Ratio']"
   ]
  },
  {
   "cell_type": "markdown",
   "id": "f303036e-d2d1-46fe-b517-53918e6a671e",
   "metadata": {
    "tags": []
   },
   "source": [
    "### Nota: \n",
    "Se retiraron las columnas \"*Naive_Bayes_Classifier_Attrition_Flag_Card_Category_Contacts_Count_12_mon_Dependent_count_Education_Level_Months_Inactive_12_mon_1* y *Naive_Bayes_Classifier_Attrition_Flag_Card_Category_Contacts_Count_12_mon_Dependent_count_Education_Level_Months_Inactive_12_mon_2*\" porque representan variables de respuestas o etiquetas"
   ]
  },
  {
   "cell_type": "markdown",
   "id": "1d46689b-6ad4-49e1-8588-d55978f52bb7",
   "metadata": {},
   "source": [
    "- Limpieza de valores númericas"
   ]
  },
  {
   "cell_type": "code",
   "execution_count": 8410,
   "id": "858e333e-b078-47a5-9607-e7bac7647bd1",
   "metadata": {},
   "outputs": [
    {
     "data": {
      "text/plain": [
       "Gender\n",
       "F         0.529081\n",
       "M         0.470919\n",
       "dtype: float64"
      ]
     },
     "execution_count": 8410,
     "metadata": {},
     "output_type": "execute_result"
    }
   ],
   "source": [
    "data.loc[:, ['Gender']].value_counts() / data.shape[0]"
   ]
  },
  {
   "cell_type": "code",
   "execution_count": 8411,
   "id": "0383bf05-3838-43de-b336-a96f913674ca",
   "metadata": {},
   "outputs": [
    {
     "data": {
      "text/plain": [
       "Education_Level\n",
       "Graduate           0.308877\n",
       "High School        0.198776\n",
       "Unknown            0.149995\n",
       "Uneducated         0.146835\n",
       "College            0.100030\n",
       "Post-Graduate      0.050953\n",
       "Doctorate          0.044534\n",
       "dtype: float64"
      ]
     },
     "execution_count": 8411,
     "metadata": {},
     "output_type": "execute_result"
    }
   ],
   "source": [
    "data.loc[:, ['Education_Level']].value_counts() / data.shape[0]"
   ]
  },
  {
   "cell_type": "markdown",
   "id": "aeb0bab2-ec3f-44b7-afb5-df87dd4276a1",
   "metadata": {},
   "source": [
    "*Para los niveles de Educación, decidimos trabajar con todos los niveles que encontramos en la data historica, ya que el nivel con menor % de representatividad de la data es 4.44% y consideramos que es un porcentaje que podría hacer mucha diferencia*"
   ]
  },
  {
   "cell_type": "code",
   "execution_count": 8412,
   "id": "5f6954bd-36ea-43ac-b4cf-3bb9eff2a109",
   "metadata": {},
   "outputs": [
    {
     "name": "stderr",
     "output_type": "stream",
     "text": [
      "D:\\ProgramData\\Anaconda3\\lib\\site-packages\\IPython\\core\\displayhook.py:275: UserWarning: Output cache limit (currently 1000 entries) hit.\n",
      "Flushing oldest 200 entries.\n",
      "  warn('Output cache limit (currently {sz} entries) hit.\\n'\n"
     ]
    },
    {
     "data": {
      "text/plain": [
       "{'whiskers': [<matplotlib.lines.Line2D at 0x2a83de6f850>,\n",
       "  <matplotlib.lines.Line2D at 0x2a83de6fee0>],\n",
       " 'caps': [<matplotlib.lines.Line2D at 0x2a83de68790>,\n",
       "  <matplotlib.lines.Line2D at 0x2a83de6c940>],\n",
       " 'boxes': [<matplotlib.lines.Line2D at 0x2a80b013940>],\n",
       " 'medians': [<matplotlib.lines.Line2D at 0x2a83de1d4f0>],\n",
       " 'fliers': [<matplotlib.lines.Line2D at 0x2a83dd517c0>],\n",
       " 'means': []}"
      ]
     },
     "execution_count": 8412,
     "metadata": {},
     "output_type": "execute_result"
    },
    {
     "data": {
      "image/png": "[encoded data removed]",
      "text/plain": [
       "<Figure size 432x288 with 1 Axes>"
      ]
     },
     "metadata": {
      "needs_background": "light"
     },
     "output_type": "display_data"
    }
   ],
   "source": [
    "plt.boxplot(data.loc[ : ,['Gender']].value_counts())"
   ]
  },
  {
   "cell_type": "markdown",
   "id": "da36c389-0b83-45be-a776-71926c36929f",
   "metadata": {},
   "source": [
    "Trabajamos ambos valores de \"*Gender*\" porque la columna está representada por dos niveles, en los cuales ninguno tiene dominio marcado uno sobre el otro en cuanto al % de representatividad (diferencia de casi el 7% Femenino sobre el Masculino)."
   ]
  },
  {
   "cell_type": "markdown",
   "id": "12eab0b4-f27b-4f77-88d5-35b54fb97911",
   "metadata": {},
   "source": [
    "##### LIMPIEZA DE VALORES NULOS EN VARIABLES NÚMERICAS\n",
    "- En caso de que se variable numérica, identifique alguna buena estratificación para remplazar los valores nulos por el valor de la mediana\n",
    "\n",
    "Estrategia: generos, nivel de educación, categoria de ingresos y estado marital"
   ]
  },
  {
   "cell_type": "code",
   "execution_count": 8413,
   "id": "895f6687-4119-4f45-933b-23bc2742e1ce",
   "metadata": {},
   "outputs": [],
   "source": [
    "for c_ in data.loc[ : ,columnsAnalisys].select_dtypes(['int64','float64']).columns:\n",
    "    data.loc[ np.isnan(data[c_]), c_ ] = data.loc[: , ['Gender','Education_Level','Marital_Status','Income_Category','Credit_Limit']].groupby(['Gender','Education_Level','Marital_Status','Income_Category'], as_index = False).median()"
   ]
  },
  {
   "cell_type": "markdown",
   "id": "a9793bc7-a402-4963-8dbe-a1ddeebaa349",
   "metadata": {
    "tags": []
   },
   "source": [
    "# ANALISIS PARA LA VARIABLE NUMERICA \n",
    "\n",
    "*Variable númericas continuas:* \n",
    "- *Credit_Limit* \n",
    "- *Avg_Utilization_Ratio*  \n",
    "- *Avg_Open_To_Buy*\n",
    "\n",
    "*Variables númericas continuas que no creímos necesario limpiar:*\n",
    "- *Total_Trans_amt:* La consideramos no tan necesaria, ya que se representa como un cantidad símbolica de los últimos 12 meses de transacciones\n",
    "- *Total_amt_chng_Q4_Q1:* La consideramos no tan necesaria, ya que se representa como un cantidad símbolica del cambio que pudo ocurrir en los últimos 12 meses de transacciones \n",
    "\n",
    "*Variable discretas:* \n",
    "- *Months_on_book* \n",
    "- *Total_Relationship_Count* \n",
    "- *Months_Inactive_12_mon* \n",
    "- *Contacts_Count_12_mon* \n",
    "- *Total_Ct_chng_Q4_Q1* \n",
    "- *Total_Trans_Ct*\n",
    "Variables descartadas para realizar el analisis y limpieza, porque se están utilizando como variables de frecuencia\n",
    "\n",
    "## *CREDIT_LIMIT*\n",
    "\n",
    "*Explicación/Analisis:* Luego de realizar un estricto analisis a la data historica, en el que logramos apreciar una tendencia marcada en cuanto al limite de crédito en el genero Femenino con respecto al Masculino. Realizamos varios analisis sin el sesgo de genero, observamos que el tratamiento de la variable númerica continua (Credit_Limit), no nos arrojaba resultados del todo satisfactorios, por lo cual decidimos tener en cuenta como primera estratificación la columna de genero (Ya que tiene más de 1 nivel, y ninguno de sus niveles representa más del 70% de la data), separando los registros por generos, nivel de educación, categoria de ingresos y estado marital; Llegando al punto de granularidad donde mejor resultados obtuvimos con la limpieza de valores atipicos a la variable continua."
   ]
  },
  {
   "cell_type": "markdown",
   "id": "d15c29a1-ae8a-47be-b426-0bad5f7ba34b",
   "metadata": {
    "tags": []
   },
   "source": [
    "### Caso #1\n",
    "- *Gender:* F\n",
    "- *Education_Level:* Uneducated\n",
    "- *Marital_Status:* Married"
   ]
  },
  {
   "cell_type": "code",
   "execution_count": 8414,
   "id": "d35898dc-14dd-4078-81ca-7d86322a752f",
   "metadata": {},
   "outputs": [
    {
     "data": {
      "text/plain": [
       "<AxesSubplot:xlabel='Education_Level', ylabel='Credit_Limit'>"
      ]
     },
     "execution_count": 8414,
     "metadata": {},
     "output_type": "execute_result"
    },
    {
     "data": {
      "image/png": "[encoded data removed]",
      "text/plain": [
       "<Figure size 432x288 with 1 Axes>"
      ]
     },
     "metadata": {
      "needs_background": "light"
     },
     "output_type": "display_data"
    }
   ],
   "source": [
    "sns.boxplot(data = data.loc[ (data['Gender'] == 'F'), : ], x= 'Education_Level', y ='Credit_Limit' )"
   ]
  },
  {
   "cell_type": "code",
   "execution_count": 8415,
   "id": "dcd6befa-998b-404f-ac9c-821c4f15898c",
   "metadata": {},
   "outputs": [
    {
     "data": {
      "text/plain": [
       "<AxesSubplot:xlabel='Marital_Status', ylabel='Credit_Limit'>"
      ]
     },
     "execution_count": 8415,
     "metadata": {},
     "output_type": "execute_result"
    },
    {
     "data": {
      "image/png": "[encoded data removed]",
      "text/plain": [
       "<Figure size 432x288 with 1 Axes>"
      ]
     },
     "metadata": {
      "needs_background": "light"
     },
     "output_type": "display_data"
    }
   ],
   "source": [
    "sns.boxplot(data = data.loc[ (data['Gender'] == 'F') & (data['Education_Level'] == 'Uneducated'), : ], x= 'Marital_Status', y ='Credit_Limit' )"
   ]
  },
  {
   "cell_type": "code",
   "execution_count": 8416,
   "id": "fe501948-2ce0-458e-a76f-9ca5539ae368",
   "metadata": {},
   "outputs": [
    {
     "data": {
      "text/plain": [
       "<AxesSubplot:xlabel='Income_Category', ylabel='Credit_Limit'>"
      ]
     },
     "execution_count": 8416,
     "metadata": {},
     "output_type": "execute_result"
    },
    {
     "data": {
      "image/png": "[encoded data removed]",
      "text/plain": [
       "<Figure size 432x288 with 1 Axes>"
      ]
     },
     "metadata": {
      "needs_background": "light"
     },
     "output_type": "display_data"
    }
   ],
   "source": [
    "sns.boxplot(data = data.loc[ (data['Gender'] == 'F') & (data['Education_Level'] == 'Uneducated') & (data['Marital_Status'] == 'Married'), : ], x= 'Income_Category', y ='Credit_Limit' )"
   ]
  },
  {
   "cell_type": "markdown",
   "id": "0a712b8f-b161-4e3d-913d-c6536aa41105",
   "metadata": {},
   "source": [
    "### Caso #2\n",
    "- *Gender:* M\n",
    "- *Education_Level:* Uneducated\n",
    "- *Marital_Status:* Married"
   ]
  },
  {
   "cell_type": "code",
   "execution_count": 8417,
   "id": "1ffbae9f-ebfb-4df1-9d81-410bb4a13b37",
   "metadata": {},
   "outputs": [
    {
     "data": {
      "text/plain": [
       "<AxesSubplot:xlabel='Education_Level', ylabel='Credit_Limit'>"
      ]
     },
     "execution_count": 8417,
     "metadata": {},
     "output_type": "execute_result"
    },
    {
     "data": {
      "image/png": "[encoded data removed]",
      "text/plain": [
       "<Figure size 432x288 with 1 Axes>"
      ]
     },
     "metadata": {
      "needs_background": "light"
     },
     "output_type": "display_data"
    }
   ],
   "source": [
    "sns.boxplot(data = data.loc[ (data['Gender'] == 'M'), : ], x= 'Education_Level', y ='Credit_Limit' )"
   ]
  },
  {
   "cell_type": "code",
   "execution_count": 8418,
   "id": "9f4cf5b5-4dfa-4884-89da-897da785e1ff",
   "metadata": {},
   "outputs": [
    {
     "data": {
      "text/plain": [
       "<AxesSubplot:xlabel='Marital_Status', ylabel='Credit_Limit'>"
      ]
     },
     "execution_count": 8418,
     "metadata": {},
     "output_type": "execute_result"
    },
    {
     "data": {
      "image/png": "[encoded data removed]",
      "text/plain": [
       "<Figure size 432x288 with 1 Axes>"
      ]
     },
     "metadata": {
      "needs_background": "light"
     },
     "output_type": "display_data"
    }
   ],
   "source": [
    "sns.boxplot(data = data.loc[ (data['Gender'] == 'M') & (data['Education_Level'] == 'Uneducated'), : ], x= 'Marital_Status', y ='Credit_Limit' )"
   ]
  },
  {
   "cell_type": "code",
   "execution_count": 8419,
   "id": "37eb40a5-3201-4cc5-b6d6-9c25dcb2b9ee",
   "metadata": {},
   "outputs": [
    {
     "data": {
      "text/plain": [
       "<AxesSubplot:xlabel='Income_Category', ylabel='Credit_Limit'>"
      ]
     },
     "execution_count": 8419,
     "metadata": {},
     "output_type": "execute_result"
    },
    {
     "data": {
      "image/png": "[encoded data removed]",
      "text/plain": [
       "<Figure size 432x288 with 1 Axes>"
      ]
     },
     "metadata": {
      "needs_background": "light"
     },
     "output_type": "display_data"
    }
   ],
   "source": [
    "sns.boxplot(data = data.loc[ (data['Gender'] == 'M') & (data['Education_Level'] == 'Uneducated') & (data['Marital_Status'] == 'Married'), : ], x= 'Income_Category', y ='Credit_Limit' )"
   ]
  },
  {
   "cell_type": "markdown",
   "id": "0be9398b-a5f3-4981-b93a-86a4a3b440df",
   "metadata": {},
   "source": [
    "### ANALISIS DE CASO ESPECIFICO\n",
    "*Def:* El caso seleccionado de los anteriormente vistos para la variable númerica \"*Credit_Limit*\", es el caso #1:\n",
    "- *Gender:* F\n",
    "- *Education_Level:* Uneducated\n",
    "- *Marital_Status:* Married\n",
    "- *Income_Category:* Less than 40K *Categoría seleccionada para hacer el zoom*"
   ]
  },
  {
   "cell_type": "code",
   "execution_count": 8420,
   "id": "b5ea5c44-ec96-4969-8a85-d01f5d0d42de",
   "metadata": {},
   "outputs": [],
   "source": [
    "Unknow_Income = data.loc[ (data['Gender'] == 'F') & (data['Education_Level'] == 'Uneducated') & (data['Marital_Status'] == 'Married') & (data['Income_Category'] == 'Less than $40K'), ['Credit_Limit']]"
   ]
  },
  {
   "cell_type": "code",
   "execution_count": 8421,
   "id": "98d6b2c4-fc6b-4f18-975e-07bf1cf973e1",
   "metadata": {},
   "outputs": [
    {
     "data": {
      "text/plain": [
       "{'whiskers': [<matplotlib.lines.Line2D at 0x2a8414634f0>,\n",
       "  <matplotlib.lines.Line2D at 0x2a8414637c0>],\n",
       " 'caps': [<matplotlib.lines.Line2D at 0x2a841463a90>,\n",
       "  <matplotlib.lines.Line2D at 0x2a841463d60>],\n",
       " 'boxes': [<matplotlib.lines.Line2D at 0x2a841463220>],\n",
       " 'medians': [<matplotlib.lines.Line2D at 0x2a84148f070>],\n",
       " 'fliers': [<matplotlib.lines.Line2D at 0x2a84148f340>],\n",
       " 'means': []}"
      ]
     },
     "execution_count": 8421,
     "metadata": {},
     "output_type": "execute_result"
    },
    {
     "data": {
      "image/png": "[encoded data removed]",
      "text/plain": [
       "<Figure size 432x288 with 1 Axes>"
      ]
     },
     "metadata": {
      "needs_background": "light"
     },
     "output_type": "display_data"
    }
   ],
   "source": [
    "plt.boxplot(Unknow_Income)"
   ]
  },
  {
   "cell_type": "code",
   "execution_count": 8422,
   "id": "ab8e6976-f862-4e1f-84f0-e48fd3d72e26",
   "metadata": {},
   "outputs": [],
   "source": [
    "q1 = np.quantile(Unknow_Income, .25)\n",
    "q3 = np.quantile(Unknow_Income, .75)"
   ]
  },
  {
   "cell_type": "code",
   "execution_count": 8423,
   "id": "e18d19b4-e502-45a3-9a09-ff922ff36409",
   "metadata": {},
   "outputs": [],
   "source": [
    "iqr = q3 - q1"
   ]
  },
  {
   "cell_type": "code",
   "execution_count": 8424,
   "id": "6887918c-c177-4a8b-a384-d3e214693143",
   "metadata": {},
   "outputs": [],
   "source": [
    "lower_bound = q1 - (1.5*iqr)\n",
    "upper_bound = q3 + (1.5*iqr)"
   ]
  },
  {
   "cell_type": "code",
   "execution_count": 8425,
   "id": "79b19222-27b8-4907-9be4-d593470d1393",
   "metadata": {},
   "outputs": [
    {
     "data": {
      "text/plain": [
       "7170.5"
      ]
     },
     "execution_count": 8425,
     "metadata": {},
     "output_type": "execute_result"
    }
   ],
   "source": [
    "upper_bound"
   ]
  },
  {
   "cell_type": "code",
   "execution_count": 8426,
   "id": "167004b5-a29a-4e84-8492-49c472897121",
   "metadata": {},
   "outputs": [
    {
     "data": {
      "text/plain": [
       "-817.5"
      ]
     },
     "execution_count": 8426,
     "metadata": {},
     "output_type": "execute_result"
    }
   ],
   "source": [
    "lower_bound"
   ]
  },
  {
   "cell_type": "markdown",
   "id": "a465d803-8be5-4212-b4c1-1dd1f6e83d9f",
   "metadata": {},
   "source": [
    "# AUTOMATIZAR\n",
    "## CREDIT_LIMIT"
   ]
  },
  {
   "cell_type": "code",
   "execution_count": 8427,
   "id": "1e258e04-79f2-4cc5-89f3-4b8cd322b33c",
   "metadata": {},
   "outputs": [],
   "source": [
    "Columns_drop = [] ##Definimos este arreglo para guardar las columnas que vayamos agregando a la data original y que al momento de finalizar el analisis, podemos quitarlas, dejando únicamente los resultado (data limpia)"
   ]
  },
  {
   "cell_type": "code",
   "execution_count": 8428,
   "id": "afadbf47-ce7c-4df7-bd6b-f348414aca83",
   "metadata": {},
   "outputs": [],
   "source": [
    "dfq1 = data.loc[: , ['Gender','Education_Level','Marital_Status','Income_Category','Credit_Limit']].groupby(['Gender','Education_Level','Marital_Status','Income_Category'], as_index = False).quantile(0.25)\n",
    "dfq1.columns = ['Gender','Education_Level','Marital_Status','Income_Category','Credit_Limit_Q1']"
   ]
  },
  {
   "cell_type": "code",
   "execution_count": 8429,
   "id": "0aaa1900-0c1a-4ac4-9838-e87a8aa4a079",
   "metadata": {},
   "outputs": [],
   "source": [
    "dfq3 = data.loc[: , ['Gender','Education_Level','Marital_Status','Income_Category','Credit_Limit']].groupby(['Gender','Education_Level','Marital_Status','Income_Category'], as_index = False).quantile(0.75)\n",
    "dfq3.columns = ['Gender','Education_Level','Marital_Status','Income_Category','Credit_Limit_Q3']"
   ]
  },
  {
   "cell_type": "code",
   "execution_count": 8430,
   "id": "7cc159c3-4f4e-4504-b5a8-29115b0e5625",
   "metadata": {},
   "outputs": [],
   "source": [
    "dfmean = data.loc[: , ['Gender','Education_Level','Marital_Status','Income_Category','Credit_Limit']].groupby(['Gender','Education_Level','Marital_Status','Income_Category'], as_index = False).mean()\n",
    "dfmean.columns = ['Gender','Education_Level','Marital_Status','Income_Category','Credit_Limit_MEAN']"
   ]
  },
  {
   "cell_type": "code",
   "execution_count": 8431,
   "id": "b4c4153a-8af2-4d08-877b-909ce3750809",
   "metadata": {},
   "outputs": [],
   "source": [
    "df_iqr = dfq1.merge(dfq3, on = ['Gender','Education_Level','Marital_Status','Income_Category'], how = 'inner').merge(dfmean, on = ['Gender','Education_Level','Marital_Status','Income_Category'], how = 'inner')"
   ]
  },
  {
   "cell_type": "code",
   "execution_count": 8432,
   "id": "e733b26c-1f43-481f-8d2f-a2bfff6f42aa",
   "metadata": {},
   "outputs": [
    {
     "data": {
      "text/html": [
       "<div>\n",
       "<style scoped>\n",
       "    .dataframe tbody tr th:only-of-type {\n",
       "        vertical-align: middle;\n",
       "    }\n",
       "\n",
       "    .dataframe tbody tr th {\n",
       "        vertical-align: top;\n",
       "    }\n",
       "\n",
       "    .dataframe thead th {\n",
       "        text-align: right;\n",
       "    }\n",
       "</style>\n",
       "<table border=\"1\" class=\"dataframe\">\n",
       "  <thead>\n",
       "    <tr style=\"text-align: right;\">\n",
       "      <th></th>\n",
       "      <th>Gender</th>\n",
       "      <th>Education_Level</th>\n",
       "      <th>Marital_Status</th>\n",
       "      <th>Income_Category</th>\n",
       "      <th>Credit_Limit_Q1</th>\n",
       "      <th>Credit_Limit_Q3</th>\n",
       "      <th>Credit_Limit_MEAN</th>\n",
       "    </tr>\n",
       "  </thead>\n",
       "  <tbody>\n",
       "    <tr>\n",
       "      <th>0</th>\n",
       "      <td>F</td>\n",
       "      <td>College</td>\n",
       "      <td>Divorced</td>\n",
       "      <td>$40K - $60K</td>\n",
       "      <td>3076.0</td>\n",
       "      <td>6443.0</td>\n",
       "      <td>6114.176923</td>\n",
       "    </tr>\n",
       "    <tr>\n",
       "      <th>1</th>\n",
       "      <td>F</td>\n",
       "      <td>College</td>\n",
       "      <td>Divorced</td>\n",
       "      <td>Less than $40K</td>\n",
       "      <td>1843.5</td>\n",
       "      <td>3873.5</td>\n",
       "      <td>3028.244444</td>\n",
       "    </tr>\n",
       "    <tr>\n",
       "      <th>2</th>\n",
       "      <td>F</td>\n",
       "      <td>College</td>\n",
       "      <td>Divorced</td>\n",
       "      <td>Unknown</td>\n",
       "      <td>3264.0</td>\n",
       "      <td>11881.0</td>\n",
       "      <td>7388.144444</td>\n",
       "    </tr>\n",
       "  </tbody>\n",
       "</table>\n",
       "</div>"
      ],
      "text/plain": [
       "  Gender Education_Level Marital_Status Income_Category  Credit_Limit_Q1  \\\n",
       "0      F         College       Divorced     $40K - $60K           3076.0   \n",
       "1      F         College       Divorced  Less than $40K           1843.5   \n",
       "2      F         College       Divorced         Unknown           3264.0   \n",
       "\n",
       "   Credit_Limit_Q3  Credit_Limit_MEAN  \n",
       "0           6443.0        6114.176923  \n",
       "1           3873.5        3028.244444  \n",
       "2          11881.0        7388.144444  "
      ]
     },
     "execution_count": 8432,
     "metadata": {},
     "output_type": "execute_result"
    }
   ],
   "source": [
    "df_iqr.head(3)"
   ]
  },
  {
   "cell_type": "code",
   "execution_count": 8433,
   "id": "dba81e50-1748-414e-9369-fc7980a0151f",
   "metadata": {},
   "outputs": [],
   "source": [
    "df_iqr['iqr'] = df_iqr.apply(lambda r: (r['Credit_Limit_Q3'] - r['Credit_Limit_Q1']), axis = 1)"
   ]
  },
  {
   "cell_type": "code",
   "execution_count": 8434,
   "id": "04a489ac-e1c2-4a60-851b-965e826cdbaf",
   "metadata": {},
   "outputs": [
    {
     "data": {
      "text/html": [
       "<div>\n",
       "<style scoped>\n",
       "    .dataframe tbody tr th:only-of-type {\n",
       "        vertical-align: middle;\n",
       "    }\n",
       "\n",
       "    .dataframe tbody tr th {\n",
       "        vertical-align: top;\n",
       "    }\n",
       "\n",
       "    .dataframe thead th {\n",
       "        text-align: right;\n",
       "    }\n",
       "</style>\n",
       "<table border=\"1\" class=\"dataframe\">\n",
       "  <thead>\n",
       "    <tr style=\"text-align: right;\">\n",
       "      <th></th>\n",
       "      <th>Gender</th>\n",
       "      <th>Education_Level</th>\n",
       "      <th>Marital_Status</th>\n",
       "      <th>Income_Category</th>\n",
       "      <th>Credit_Limit_Q1</th>\n",
       "      <th>Credit_Limit_Q3</th>\n",
       "      <th>Credit_Limit_MEAN</th>\n",
       "      <th>iqr</th>\n",
       "    </tr>\n",
       "  </thead>\n",
       "  <tbody>\n",
       "    <tr>\n",
       "      <th>0</th>\n",
       "      <td>F</td>\n",
       "      <td>College</td>\n",
       "      <td>Divorced</td>\n",
       "      <td>$40K - $60K</td>\n",
       "      <td>3076.0</td>\n",
       "      <td>6443.0</td>\n",
       "      <td>6114.176923</td>\n",
       "      <td>3367.0</td>\n",
       "    </tr>\n",
       "    <tr>\n",
       "      <th>1</th>\n",
       "      <td>F</td>\n",
       "      <td>College</td>\n",
       "      <td>Divorced</td>\n",
       "      <td>Less than $40K</td>\n",
       "      <td>1843.5</td>\n",
       "      <td>3873.5</td>\n",
       "      <td>3028.244444</td>\n",
       "      <td>2030.0</td>\n",
       "    </tr>\n",
       "    <tr>\n",
       "      <th>2</th>\n",
       "      <td>F</td>\n",
       "      <td>College</td>\n",
       "      <td>Divorced</td>\n",
       "      <td>Unknown</td>\n",
       "      <td>3264.0</td>\n",
       "      <td>11881.0</td>\n",
       "      <td>7388.144444</td>\n",
       "      <td>8617.0</td>\n",
       "    </tr>\n",
       "  </tbody>\n",
       "</table>\n",
       "</div>"
      ],
      "text/plain": [
       "  Gender Education_Level Marital_Status Income_Category  Credit_Limit_Q1  \\\n",
       "0      F         College       Divorced     $40K - $60K           3076.0   \n",
       "1      F         College       Divorced  Less than $40K           1843.5   \n",
       "2      F         College       Divorced         Unknown           3264.0   \n",
       "\n",
       "   Credit_Limit_Q3  Credit_Limit_MEAN     iqr  \n",
       "0           6443.0        6114.176923  3367.0  \n",
       "1           3873.5        3028.244444  2030.0  \n",
       "2          11881.0        7388.144444  8617.0  "
      ]
     },
     "execution_count": 8434,
     "metadata": {},
     "output_type": "execute_result"
    }
   ],
   "source": [
    "df_iqr.head(3)"
   ]
  },
  {
   "cell_type": "code",
   "execution_count": 8435,
   "id": "ac4c1efb-c7fd-4316-a0c2-8598853b09c1",
   "metadata": {},
   "outputs": [],
   "source": [
    "df_iqr['upper_bound'] = df_iqr.apply(lambda r: (r['Credit_Limit_Q3'] + (1.5*r['iqr'])), axis = 1)\n",
    "df_iqr['lower_bound'] = df_iqr.apply(lambda r: (r['Credit_Limit_Q1'] - (1.5*r['iqr'])), axis = 1)"
   ]
  },
  {
   "cell_type": "code",
   "execution_count": 8436,
   "id": "8688458a-0760-43fd-b8f3-a5168af29c08",
   "metadata": {},
   "outputs": [],
   "source": [
    "Columns_drop = np.append(Columns_drop,['Credit_Limit_Q1','Credit_Limit_Q3','Credit_Limit_MEAN','iqr','upper_bound','lower_bound'],axis=None)"
   ]
  },
  {
   "cell_type": "code",
   "execution_count": 8437,
   "id": "0212d4ba-ebc0-4251-8651-ed013e579109",
   "metadata": {},
   "outputs": [
    {
     "data": {
      "text/html": [
       "<div>\n",
       "<style scoped>\n",
       "    .dataframe tbody tr th:only-of-type {\n",
       "        vertical-align: middle;\n",
       "    }\n",
       "\n",
       "    .dataframe tbody tr th {\n",
       "        vertical-align: top;\n",
       "    }\n",
       "\n",
       "    .dataframe thead th {\n",
       "        text-align: right;\n",
       "    }\n",
       "</style>\n",
       "<table border=\"1\" class=\"dataframe\">\n",
       "  <thead>\n",
       "    <tr style=\"text-align: right;\">\n",
       "      <th></th>\n",
       "      <th>Gender</th>\n",
       "      <th>Education_Level</th>\n",
       "      <th>Marital_Status</th>\n",
       "      <th>Income_Category</th>\n",
       "      <th>Credit_Limit_Q1</th>\n",
       "      <th>Credit_Limit_Q3</th>\n",
       "      <th>Credit_Limit_MEAN</th>\n",
       "      <th>iqr</th>\n",
       "      <th>upper_bound</th>\n",
       "      <th>lower_bound</th>\n",
       "    </tr>\n",
       "  </thead>\n",
       "  <tbody>\n",
       "    <tr>\n",
       "      <th>0</th>\n",
       "      <td>F</td>\n",
       "      <td>College</td>\n",
       "      <td>Divorced</td>\n",
       "      <td>$40K - $60K</td>\n",
       "      <td>3076.0</td>\n",
       "      <td>6443.0</td>\n",
       "      <td>6114.176923</td>\n",
       "      <td>3367.0</td>\n",
       "      <td>11493.5</td>\n",
       "      <td>-1974.5</td>\n",
       "    </tr>\n",
       "    <tr>\n",
       "      <th>1</th>\n",
       "      <td>F</td>\n",
       "      <td>College</td>\n",
       "      <td>Divorced</td>\n",
       "      <td>Less than $40K</td>\n",
       "      <td>1843.5</td>\n",
       "      <td>3873.5</td>\n",
       "      <td>3028.244444</td>\n",
       "      <td>2030.0</td>\n",
       "      <td>6918.5</td>\n",
       "      <td>-1201.5</td>\n",
       "    </tr>\n",
       "    <tr>\n",
       "      <th>2</th>\n",
       "      <td>F</td>\n",
       "      <td>College</td>\n",
       "      <td>Divorced</td>\n",
       "      <td>Unknown</td>\n",
       "      <td>3264.0</td>\n",
       "      <td>11881.0</td>\n",
       "      <td>7388.144444</td>\n",
       "      <td>8617.0</td>\n",
       "      <td>24806.5</td>\n",
       "      <td>-9661.5</td>\n",
       "    </tr>\n",
       "  </tbody>\n",
       "</table>\n",
       "</div>"
      ],
      "text/plain": [
       "  Gender Education_Level Marital_Status Income_Category  Credit_Limit_Q1  \\\n",
       "0      F         College       Divorced     $40K - $60K           3076.0   \n",
       "1      F         College       Divorced  Less than $40K           1843.5   \n",
       "2      F         College       Divorced         Unknown           3264.0   \n",
       "\n",
       "   Credit_Limit_Q3  Credit_Limit_MEAN     iqr  upper_bound  lower_bound  \n",
       "0           6443.0        6114.176923  3367.0      11493.5      -1974.5  \n",
       "1           3873.5        3028.244444  2030.0       6918.5      -1201.5  \n",
       "2          11881.0        7388.144444  8617.0      24806.5      -9661.5  "
      ]
     },
     "execution_count": 8437,
     "metadata": {},
     "output_type": "execute_result"
    }
   ],
   "source": [
    "df_iqr.head(3)"
   ]
  },
  {
   "cell_type": "code",
   "execution_count": 8438,
   "id": "cdfa7bb4-6860-4900-bdec-8ddb4990825f",
   "metadata": {},
   "outputs": [],
   "source": [
    "df_f = data.merge(df_iqr, on = ['Gender','Education_Level','Marital_Status','Income_Category'], how='left').copy()"
   ]
  },
  {
   "cell_type": "code",
   "execution_count": 8439,
   "id": "83d85b4d-0ee5-41b8-917f-106416f650ca",
   "metadata": {},
   "outputs": [
    {
     "data": {
      "text/plain": [
       "(10127, 29)"
      ]
     },
     "execution_count": 8439,
     "metadata": {},
     "output_type": "execute_result"
    }
   ],
   "source": [
    "df_f.shape"
   ]
  },
  {
   "cell_type": "code",
   "execution_count": 8440,
   "id": "9ee90e7a-c2ed-4de3-a5ce-052c6a18dab5",
   "metadata": {},
   "outputs": [],
   "source": [
    "def newCredit_Limit(r):\n",
    "    if (r['Credit_Limit'] < r['lower_bound']) | (r['Credit_Limit'] > r['upper_bound']):\n",
    "        return r['Credit_Limit_MEAN']\n",
    "    else:\n",
    "        return r['Credit_Limit']"
   ]
  },
  {
   "cell_type": "code",
   "execution_count": 8441,
   "id": "78b587c9-8b0e-4d5a-b430-c1f292b717b7",
   "metadata": {},
   "outputs": [],
   "source": [
    "df_f['new_Credit_Limit'] = df_f.apply( lambda r: newCredit_Limit(r), axis = 1 )\n",
    "Columns_drop = np.append(Columns_drop,'Credit_Limit',axis=None)"
   ]
  },
  {
   "cell_type": "markdown",
   "id": "bb885638-1dd4-40ff-a8eb-bd04c9c2a3ec",
   "metadata": {
    "tags": []
   },
   "source": [
    "# COMPARACIONES\n",
    "## CREDIT_LIMIT\n",
    "\n",
    "*def:* Comparamos el caso especifico al que decidimos realizarle \"Zoom\" para poder ver más a detalles la representación de la data en el boxplot. Donde *default* hace referencia al caso que decidimos analizar, mientras *cleaned* se refiere al resultado despues de la limpieza de valores atipicos de la data"
   ]
  },
  {
   "cell_type": "markdown",
   "id": "62cb2ae2-1928-4a8c-9bf2-bbd5cdc6e3d7",
   "metadata": {},
   "source": [
    "- Credit_limit vs new_Credit_Limit"
   ]
  },
  {
   "cell_type": "code",
   "execution_count": 8442,
   "id": "2f969881-b72e-4398-9834-8e03130995fb",
   "metadata": {},
   "outputs": [],
   "source": [
    "default = data.loc[ (data['Gender'] == 'M') & (data['Education_Level'] == 'Uneducated') & (data['Marital_Status'] == 'Married') & (data['Income_Category'] == 'Less than $40K'), ['Credit_Limit']]"
   ]
  },
  {
   "cell_type": "code",
   "execution_count": 8443,
   "id": "f0f60d97-6e9c-4418-a853-d4a16d58dd66",
   "metadata": {},
   "outputs": [
    {
     "data": {
      "text/plain": [
       "{'whiskers': [<matplotlib.lines.Line2D at 0x2a84308b9a0>,\n",
       "  <matplotlib.lines.Line2D at 0x2a84308bc70>],\n",
       " 'caps': [<matplotlib.lines.Line2D at 0x2a84308bf40>,\n",
       "  <matplotlib.lines.Line2D at 0x2a84307d250>],\n",
       " 'boxes': [<matplotlib.lines.Line2D at 0x2a84308b6d0>],\n",
       " 'medians': [<matplotlib.lines.Line2D at 0x2a84307d520>],\n",
       " 'fliers': [<matplotlib.lines.Line2D at 0x2a84307d7f0>],\n",
       " 'means': []}"
      ]
     },
     "execution_count": 8443,
     "metadata": {},
     "output_type": "execute_result"
    },
    {
     "data": {
      "image/png": "[encoded data removed]",
      "text/plain": [
       "<Figure size 432x288 with 1 Axes>"
      ]
     },
     "metadata": {
      "needs_background": "light"
     },
     "output_type": "display_data"
    }
   ],
   "source": [
    "plt.boxplot(default)"
   ]
  },
  {
   "cell_type": "code",
   "execution_count": 8444,
   "id": "d1962655-cebf-46a5-a68b-0893d7cb1a55",
   "metadata": {},
   "outputs": [],
   "source": [
    "cleaned = df_f.loc[ (df_f['Gender'] == 'M') & (df_f['Education_Level'] == 'Uneducated') & (df_f['Marital_Status'] == 'Married') & (df_f['Income_Category'] == 'Less than $40K'), ['new_Credit_Limit']]"
   ]
  },
  {
   "cell_type": "code",
   "execution_count": 8445,
   "id": "9d1de96f-b070-4c2a-9d4b-b787eb768d3c",
   "metadata": {},
   "outputs": [
    {
     "data": {
      "text/plain": [
       "{'whiskers': [<matplotlib.lines.Line2D at 0x2a841771d30>,\n",
       "  <matplotlib.lines.Line2D at 0x2a840dd2040>],\n",
       " 'caps': [<matplotlib.lines.Line2D at 0x2a840dd2310>,\n",
       "  <matplotlib.lines.Line2D at 0x2a840dd25e0>],\n",
       " 'boxes': [<matplotlib.lines.Line2D at 0x2a841771a60>],\n",
       " 'medians': [<matplotlib.lines.Line2D at 0x2a840dd28b0>],\n",
       " 'fliers': [<matplotlib.lines.Line2D at 0x2a840dd2b80>],\n",
       " 'means': []}"
      ]
     },
     "execution_count": 8445,
     "metadata": {},
     "output_type": "execute_result"
    },
    {
     "data": {
      "image/png": "[encoded data removed]",
      "text/plain": [
       "<Figure size 432x288 with 1 Axes>"
      ]
     },
     "metadata": {
      "needs_background": "light"
     },
     "output_type": "display_data"
    }
   ],
   "source": [
    "plt.boxplot(cleaned)"
   ]
  },
  {
   "cell_type": "markdown",
   "id": "4035af3d-7946-4c12-8489-24d7df1707dc",
   "metadata": {},
   "source": [
    "Apreciando el resultado de los dos boxplot anteriores, podemos deducir que nuestra limpieza con el metodo de estratificación realizado, fue efectivo"
   ]
  },
  {
   "cell_type": "code",
   "execution_count": 8446,
   "id": "d5b4656c-8a04-4bb1-8e5d-3814b6db7f50",
   "metadata": {},
   "outputs": [
    {
     "data": {
      "text/plain": [
       "<AxesSubplot:xlabel='Education_Level', ylabel='Credit_Limit'>"
      ]
     },
     "execution_count": 8446,
     "metadata": {},
     "output_type": "execute_result"
    },
    {
     "data": {
      "image/png": "[encoded data removed]",
      "text/plain": [
       "<Figure size 432x288 with 1 Axes>"
      ]
     },
     "metadata": {
      "needs_background": "light"
     },
     "output_type": "display_data"
    }
   ],
   "source": [
    "sns.boxplot(data = data.loc[ (data['Gender'] == 'F'), : ], x= 'Education_Level', y ='Credit_Limit' )"
   ]
  },
  {
   "cell_type": "code",
   "execution_count": 8447,
   "id": "4fba7245-329b-42c5-843b-58f4eca6f135",
   "metadata": {},
   "outputs": [
    {
     "data": {
      "text/plain": [
       "<AxesSubplot:xlabel='Education_Level', ylabel='new_Credit_Limit'>"
      ]
     },
     "execution_count": 8447,
     "metadata": {},
     "output_type": "execute_result"
    },
    {
     "data": {
      "image/png": "[encoded data removed]",
      "text/plain": [
       "<Figure size 432x288 with 1 Axes>"
      ]
     },
     "metadata": {
      "needs_background": "light"
     },
     "output_type": "display_data"
    }
   ],
   "source": [
    "sns.boxplot(data = df_f.loc[ (df_f['Gender'] == 'F'), : ], x= 'Education_Level', y ='new_Credit_Limit' )"
   ]
  },
  {
   "cell_type": "code",
   "execution_count": 8448,
   "id": "a94b83e1-4d05-40fa-9036-48dc165e2b6d",
   "metadata": {},
   "outputs": [
    {
     "data": {
      "text/html": [
       "<div>\n",
       "<style scoped>\n",
       "    .dataframe tbody tr th:only-of-type {\n",
       "        vertical-align: middle;\n",
       "    }\n",
       "\n",
       "    .dataframe tbody tr th {\n",
       "        vertical-align: top;\n",
       "    }\n",
       "\n",
       "    .dataframe thead th {\n",
       "        text-align: right;\n",
       "    }\n",
       "</style>\n",
       "<table border=\"1\" class=\"dataframe\">\n",
       "  <thead>\n",
       "    <tr style=\"text-align: right;\">\n",
       "      <th></th>\n",
       "      <th>CLIENTNUM</th>\n",
       "      <th>Attrition_Flag</th>\n",
       "      <th>Customer_Age</th>\n",
       "      <th>Gender</th>\n",
       "      <th>Dependent_count</th>\n",
       "      <th>Education_Level</th>\n",
       "      <th>Marital_Status</th>\n",
       "      <th>Income_Category</th>\n",
       "      <th>Card_Category</th>\n",
       "      <th>Months_on_book</th>\n",
       "      <th>...</th>\n",
       "      <th>Avg_Utilization_Ratio</th>\n",
       "      <th>Naive_Bayes_Classifier_Attrition_Flag_Card_Category_Contacts_Count_12_mon_Dependent_count_Education_Level_Months_Inactive_12_mon_1</th>\n",
       "      <th>Naive_Bayes_Classifier_Attrition_Flag_Card_Category_Contacts_Count_12_mon_Dependent_count_Education_Level_Months_Inactive_12_mon_2</th>\n",
       "      <th>Credit_Limit_Q1</th>\n",
       "      <th>Credit_Limit_Q3</th>\n",
       "      <th>Credit_Limit_MEAN</th>\n",
       "      <th>iqr</th>\n",
       "      <th>upper_bound</th>\n",
       "      <th>lower_bound</th>\n",
       "      <th>new_Credit_Limit</th>\n",
       "    </tr>\n",
       "  </thead>\n",
       "  <tbody>\n",
       "    <tr>\n",
       "      <th>0</th>\n",
       "      <td>768805383</td>\n",
       "      <td>Existing Customer</td>\n",
       "      <td>45.0</td>\n",
       "      <td>M</td>\n",
       "      <td>3.0</td>\n",
       "      <td>High School</td>\n",
       "      <td>Married</td>\n",
       "      <td>$60K - $80K</td>\n",
       "      <td>Blue</td>\n",
       "      <td>39.0</td>\n",
       "      <td>...</td>\n",
       "      <td>0.061</td>\n",
       "      <td>0.000093</td>\n",
       "      <td>0.99991</td>\n",
       "      <td>3885.75</td>\n",
       "      <td>12531.75</td>\n",
       "      <td>8920.041333</td>\n",
       "      <td>8646.0</td>\n",
       "      <td>25500.75</td>\n",
       "      <td>-9083.25</td>\n",
       "      <td>12691.0000</td>\n",
       "    </tr>\n",
       "    <tr>\n",
       "      <th>1</th>\n",
       "      <td>818770008</td>\n",
       "      <td>Existing Customer</td>\n",
       "      <td>49.0</td>\n",
       "      <td>F</td>\n",
       "      <td>5.0</td>\n",
       "      <td>Graduate</td>\n",
       "      <td>Single</td>\n",
       "      <td>Less than $40K</td>\n",
       "      <td>Blue</td>\n",
       "      <td>44.0</td>\n",
       "      <td>...</td>\n",
       "      <td>0.105</td>\n",
       "      <td>0.000057</td>\n",
       "      <td>0.99994</td>\n",
       "      <td>2027.00</td>\n",
       "      <td>4403.00</td>\n",
       "      <td>3832.913400</td>\n",
       "      <td>2376.0</td>\n",
       "      <td>7967.00</td>\n",
       "      <td>-1537.00</td>\n",
       "      <td>3832.9134</td>\n",
       "    </tr>\n",
       "  </tbody>\n",
       "</table>\n",
       "<p>2 rows × 30 columns</p>\n",
       "</div>"
      ],
      "text/plain": [
       "   CLIENTNUM     Attrition_Flag  Customer_Age Gender  Dependent_count  \\\n",
       "0  768805383  Existing Customer          45.0      M              3.0   \n",
       "1  818770008  Existing Customer          49.0      F              5.0   \n",
       "\n",
       "  Education_Level Marital_Status Income_Category Card_Category  \\\n",
       "0     High School        Married     $60K - $80K          Blue   \n",
       "1        Graduate         Single  Less than $40K          Blue   \n",
       "\n",
       "   Months_on_book  ...  Avg_Utilization_Ratio  \\\n",
       "0            39.0  ...                  0.061   \n",
       "1            44.0  ...                  0.105   \n",
       "\n",
       "   Naive_Bayes_Classifier_Attrition_Flag_Card_Category_Contacts_Count_12_mon_Dependent_count_Education_Level_Months_Inactive_12_mon_1  \\\n",
       "0                                           0.000093                                                                                    \n",
       "1                                           0.000057                                                                                    \n",
       "\n",
       "   Naive_Bayes_Classifier_Attrition_Flag_Card_Category_Contacts_Count_12_mon_Dependent_count_Education_Level_Months_Inactive_12_mon_2  \\\n",
       "0                                            0.99991                                                                                    \n",
       "1                                            0.99994                                                                                    \n",
       "\n",
       "   Credit_Limit_Q1  Credit_Limit_Q3  Credit_Limit_MEAN     iqr  upper_bound  \\\n",
       "0          3885.75         12531.75        8920.041333  8646.0     25500.75   \n",
       "1          2027.00          4403.00        3832.913400  2376.0      7967.00   \n",
       "\n",
       "   lower_bound  new_Credit_Limit  \n",
       "0     -9083.25        12691.0000  \n",
       "1     -1537.00         3832.9134  \n",
       "\n",
       "[2 rows x 30 columns]"
      ]
     },
     "execution_count": 8448,
     "metadata": {},
     "output_type": "execute_result"
    }
   ],
   "source": [
    "df_f.head(2)"
   ]
  },
  {
   "cell_type": "markdown",
   "id": "a3dd9fbc-4131-4ee5-995f-da3266a06ee8",
   "metadata": {},
   "source": [
    "#### HISTOGRAMAS\n",
    "##### CREDIT_LIMIT\n",
    "*def:* Observamos los histogramas del caso especifico al que decidimos realizarle \"Zoom\" para poder ver más a detalles la representación de la data en el histograma. Donde *default* hace referencia al caso que decidimos analizar, mientras *cleaned* se refiere al resultado despues de la limpieza de valores atipicos de la data"
   ]
  },
  {
   "cell_type": "code",
   "execution_count": 8449,
   "id": "5bd6d3a0-4a90-4b64-8658-d07019105d2d",
   "metadata": {},
   "outputs": [
    {
     "data": {
      "text/plain": [
       "Credit_Limit    12685.0\n",
       "dtype: float64"
      ]
     },
     "execution_count": 8449,
     "metadata": {},
     "output_type": "execute_result"
    }
   ],
   "source": [
    "default.max()"
   ]
  },
  {
   "cell_type": "code",
   "execution_count": 8450,
   "id": "7f36b895-5537-47b0-8f37-58e6b99d57b2",
   "metadata": {},
   "outputs": [
    {
     "data": {
      "text/plain": [
       "Credit_Limit    1438.3\n",
       "dtype: float64"
      ]
     },
     "execution_count": 8450,
     "metadata": {},
     "output_type": "execute_result"
    }
   ],
   "source": [
    "default.min()"
   ]
  },
  {
   "cell_type": "code",
   "execution_count": 8451,
   "id": "4d2ba6ea-b227-4d64-bbcd-22cd322c3a68",
   "metadata": {},
   "outputs": [
    {
     "data": {
      "image/png": "[encoded data removed]",
      "text/plain": [
       "<Figure size 432x288 with 1 Axes>"
      ]
     },
     "metadata": {
      "needs_background": "light"
     },
     "output_type": "display_data"
    }
   ],
   "source": [
    "intervalos = np.arange(1438.0, 12685.0, 1300) #calculamos los extremos de los intervalos\n",
    "\n",
    "plt.hist(x=default, bins=intervalos, color='#F2AB6D', rwidth=0.85)\n",
    "plt.title('Histograma de limite de Créditos default')\n",
    "plt.xlabel('Limite de crédito')\n",
    "plt.ylabel('Frecuencia')\n",
    "plt.xticks(intervalos)\n",
    "\n",
    "plt.show() #dibujamos el histograma"
   ]
  },
  {
   "cell_type": "code",
   "execution_count": 8452,
   "id": "e9dfcd49-7215-4de7-ba77-5b15b05928d4",
   "metadata": {},
   "outputs": [
    {
     "data": {
      "text/plain": [
       "new_Credit_Limit    8837.0\n",
       "dtype: float64"
      ]
     },
     "execution_count": 8452,
     "metadata": {},
     "output_type": "execute_result"
    }
   ],
   "source": [
    "cleaned.max()"
   ]
  },
  {
   "cell_type": "code",
   "execution_count": 8453,
   "id": "65849a9a-b332-499d-ab48-e9f22c5e0000",
   "metadata": {},
   "outputs": [
    {
     "data": {
      "text/plain": [
       "new_Credit_Limit    1438.3\n",
       "dtype: float64"
      ]
     },
     "execution_count": 8453,
     "metadata": {},
     "output_type": "execute_result"
    }
   ],
   "source": [
    "cleaned.min()"
   ]
  },
  {
   "cell_type": "code",
   "execution_count": 8454,
   "id": "ac8c9467-7619-47a0-a848-ca8ed5cb9f73",
   "metadata": {},
   "outputs": [
    {
     "data": {
      "image/png": "[encoded data removed]",
      "text/plain": [
       "<Figure size 432x288 with 1 Axes>"
      ]
     },
     "metadata": {
      "needs_background": "light"
     },
     "output_type": "display_data"
    }
   ],
   "source": [
    "intervalos = np.arange(1438.0, 8837.0, 700) #calculamos los extremos de los intervalos\n",
    "\n",
    "plt.hist(x=cleaned, bins=intervalos, color='#F2AB6D', rwidth=0.85)\n",
    "plt.title('Histograma de limite de Créditos cleaned')\n",
    "plt.xlabel('Limite de crédito')\n",
    "plt.ylabel('Frecuencia')\n",
    "plt.xticks(intervalos)\n",
    "\n",
    "plt.show() #dibujamos el histograma"
   ]
  },
  {
   "cell_type": "markdown",
   "id": "5a59d7a0-576b-4a56-9b37-c1bfaf1cdd9c",
   "metadata": {},
   "source": [
    "## *AVG_UTILIZATION_RATIO*\n",
    "\n",
    "*Explicación/Analisis:* Al tratarse de una variable númerica, que está contenida entre 0-1, es decir, 0 - 100% es imporante analizarla y la estratificación que decidimos realizar es por la categoria de ingresos y el nivel de educación. Ya que al tratarse de una variable que nos indica el promedio de uso de la tarjeta, consideramos conveniente estratificar la data por esos dos criterios, ya que podríamos decir que una persona con ingresos bajos, como podría ser un estudiante de high school, no tiene un uso promedio alto de la tarjeta, y basandonos en ese criterio, llegamos a la conclusión de que la estratificación propuesta resultaría ser la más adecuada, aprobación que se ve reflejada en los resultados luego de la limpieza"
   ]
  },
  {
   "cell_type": "markdown",
   "id": "2ad1cc50-56fb-41fc-b3b2-c124c8f14665",
   "metadata": {},
   "source": [
    "### Caso #1\n",
    "- *Income_Category:* $80K - $120K\n",
    "- *Education_Level:* Graduate"
   ]
  },
  {
   "cell_type": "code",
   "execution_count": 8455,
   "id": "cf0761a3-821d-44a8-9ce6-6cf09206fafd",
   "metadata": {},
   "outputs": [
    {
     "data": {
      "text/plain": [
       "Income_Category\n",
       "Less than $40K     0.351634\n",
       "$40K - $60K        0.176755\n",
       "$80K - $120K       0.151575\n",
       "$60K - $80K        0.138442\n",
       "Unknown            0.109805\n",
       "$120K +            0.071788\n",
       "dtype: float64"
      ]
     },
     "execution_count": 8455,
     "metadata": {},
     "output_type": "execute_result"
    }
   ],
   "source": [
    "df_f.loc[:, ['Income_Category']].value_counts() / df_f.shape[0]"
   ]
  },
  {
   "cell_type": "markdown",
   "id": "7967a988-335e-4e69-8ac5-435362ae1280",
   "metadata": {},
   "source": [
    "Utilizaremos todos los niveles de categoria de ingresos, porque el 7% es una representatividad bastante significativa"
   ]
  },
  {
   "cell_type": "code",
   "execution_count": 8456,
   "id": "969c413c-411e-4f60-9b71-aa8eb2aeab0b",
   "metadata": {},
   "outputs": [
    {
     "data": {
      "text/plain": [
       "<AxesSubplot:xlabel='Education_Level', ylabel='Avg_Utilization_Ratio'>"
      ]
     },
     "execution_count": 8456,
     "metadata": {},
     "output_type": "execute_result"
    },
    {
     "data": {
      "image/png": "[encoded data removed]",
      "text/plain": [
       "<Figure size 432x288 with 1 Axes>"
      ]
     },
     "metadata": {
      "needs_background": "light"
     },
     "output_type": "display_data"
    }
   ],
   "source": [
    "sns.boxplot(data = df_f.loc[ (df_f['Income_Category'] == '$80K - $120K'), : ], x= 'Education_Level', y ='Avg_Utilization_Ratio' )"
   ]
  },
  {
   "cell_type": "code",
   "execution_count": 8457,
   "id": "73859b16-2b84-4c8e-98a5-7fbd094d73af",
   "metadata": {},
   "outputs": [
    {
     "data": {
      "text/plain": [
       "<AxesSubplot:xlabel='Marital_Status', ylabel='Avg_Utilization_Ratio'>"
      ]
     },
     "execution_count": 8457,
     "metadata": {},
     "output_type": "execute_result"
    },
    {
     "data": {
      "image/png": "[encoded data removed]",
      "text/plain": [
       "<Figure size 432x288 with 1 Axes>"
      ]
     },
     "metadata": {
      "needs_background": "light"
     },
     "output_type": "display_data"
    }
   ],
   "source": [
    "sns.boxplot(data = df_f.loc[ (data['Income_Category'] == '$80K - $120K') & (df_f['Education_Level'] == 'Graduate'), : ], x= 'Marital_Status', y ='Avg_Utilization_Ratio' )"
   ]
  },
  {
   "cell_type": "markdown",
   "id": "3de06518-745e-4cfd-9a29-2416daef9d86",
   "metadata": {},
   "source": [
    "### Caso #2\n",
    "- *Income_Category:* $120K +\n",
    "- *Education_Level:* Graduate"
   ]
  },
  {
   "cell_type": "code",
   "execution_count": 8458,
   "id": "8fcce25e-878f-4de2-8f34-2beac9318b47",
   "metadata": {},
   "outputs": [
    {
     "data": {
      "text/plain": [
       "<AxesSubplot:xlabel='Education_Level', ylabel='Avg_Utilization_Ratio'>"
      ]
     },
     "execution_count": 8458,
     "metadata": {},
     "output_type": "execute_result"
    },
    {
     "data": {
      "image/png": "[encoded data removed]",
      "text/plain": [
       "<Figure size 432x288 with 1 Axes>"
      ]
     },
     "metadata": {
      "needs_background": "light"
     },
     "output_type": "display_data"
    }
   ],
   "source": [
    "sns.boxplot(data = df_f.loc[ (df_f['Income_Category'] == '$120K +'), : ], x= 'Education_Level', y ='Avg_Utilization_Ratio' )"
   ]
  },
  {
   "cell_type": "code",
   "execution_count": 8459,
   "id": "6ab01035-366a-475b-9630-2d25b62ef718",
   "metadata": {},
   "outputs": [
    {
     "data": {
      "text/plain": [
       "<AxesSubplot:xlabel='Marital_Status', ylabel='Avg_Utilization_Ratio'>"
      ]
     },
     "execution_count": 8459,
     "metadata": {},
     "output_type": "execute_result"
    },
    {
     "data": {
      "image/png": "[encoded data removed]",
      "text/plain": [
       "<Figure size 432x288 with 1 Axes>"
      ]
     },
     "metadata": {
      "needs_background": "light"
     },
     "output_type": "display_data"
    }
   ],
   "source": [
    "sns.boxplot(data = df_f.loc[ (data['Income_Category'] == '$120K +') & (df_f['Education_Level'] == 'Graduate'), : ], x= 'Marital_Status', y ='Avg_Utilization_Ratio' )"
   ]
  },
  {
   "cell_type": "markdown",
   "id": "8c4bf396-cf5e-41ab-be97-b88676e0f3a7",
   "metadata": {},
   "source": [
    "### ANALISIS DE CASO ESPECIFICO\n",
    "*Def:* El caso seleccionado de los anteriormente vistos para la variable númerica \"*avg_utilization_ratio*\", es el caso #1:\n",
    "- *Income_Category:* $80K - $120K\n",
    "- *Education_Level:* Graduate\n",
    "- *Marital-Status:* Married *Categoría seleccionada para hacer el zoom*"
   ]
  },
  {
   "cell_type": "code",
   "execution_count": 8460,
   "id": "afcf88ba-80b1-4f79-b39c-d98ed32149db",
   "metadata": {},
   "outputs": [],
   "source": [
    "avg_marital = df_f.loc[ (df_f['Income_Category'] == '$80K - $120K') & (df_f['Education_Level'] == 'Graduate') & (df_f['Marital_Status'] == 'Married'), ['Avg_Utilization_Ratio']]"
   ]
  },
  {
   "cell_type": "code",
   "execution_count": 8461,
   "id": "941a7126-f04c-4193-9cef-82aedd04f5e5",
   "metadata": {},
   "outputs": [
    {
     "data": {
      "text/plain": [
       "{'whiskers': [<matplotlib.lines.Line2D at 0x2a842c36730>,\n",
       "  <matplotlib.lines.Line2D at 0x2a842c36a00>],\n",
       " 'caps': [<matplotlib.lines.Line2D at 0x2a842c36cd0>,\n",
       "  <matplotlib.lines.Line2D at 0x2a842c36fa0>],\n",
       " 'boxes': [<matplotlib.lines.Line2D at 0x2a842c36460>],\n",
       " 'medians': [<matplotlib.lines.Line2D at 0x2a842c462b0>],\n",
       " 'fliers': [<matplotlib.lines.Line2D at 0x2a842c46580>],\n",
       " 'means': []}"
      ]
     },
     "execution_count": 8461,
     "metadata": {},
     "output_type": "execute_result"
    },
    {
     "data": {
      "image/png": "[encoded data removed]",
      "text/plain": [
       "<Figure size 432x288 with 1 Axes>"
      ]
     },
     "metadata": {
      "needs_background": "light"
     },
     "output_type": "display_data"
    }
   ],
   "source": [
    "plt.boxplot(avg_marital)"
   ]
  },
  {
   "cell_type": "code",
   "execution_count": 8462,
   "id": "ac346a16-4b55-4109-b09f-ec496fb95916",
   "metadata": {},
   "outputs": [],
   "source": [
    "q1 = np.quantile(avg_marital,.25)\n",
    "q3 = np.quantile(avg_marital,.75)\n",
    "iqr = q3-q1\n",
    "upper_bound = q3 + (1.5*iqr)\n",
    "lower_bound = q1 - (1.5*iqr)"
   ]
  },
  {
   "cell_type": "code",
   "execution_count": 8463,
   "id": "580695c2-1b57-41fb-ab90-dbea922760db",
   "metadata": {},
   "outputs": [
    {
     "data": {
      "text/plain": [
       "0.039"
      ]
     },
     "execution_count": 8463,
     "metadata": {},
     "output_type": "execute_result"
    }
   ],
   "source": [
    "q1"
   ]
  },
  {
   "cell_type": "code",
   "execution_count": 8464,
   "id": "f3abf3df-b857-415a-b16a-b217ae74ebe2",
   "metadata": {},
   "outputs": [
    {
     "data": {
      "text/plain": [
       "0.249"
      ]
     },
     "execution_count": 8464,
     "metadata": {},
     "output_type": "execute_result"
    }
   ],
   "source": [
    "q3"
   ]
  },
  {
   "cell_type": "code",
   "execution_count": 8465,
   "id": "176163db-82f9-44d2-a94f-fdf08af4e6b9",
   "metadata": {},
   "outputs": [
    {
     "data": {
      "text/plain": [
       "0.21"
      ]
     },
     "execution_count": 8465,
     "metadata": {},
     "output_type": "execute_result"
    }
   ],
   "source": [
    "iqr"
   ]
  },
  {
   "cell_type": "code",
   "execution_count": 8466,
   "id": "4b24e5fd-9d51-42eb-b1fb-1f2398451a62",
   "metadata": {},
   "outputs": [
    {
     "data": {
      "text/plain": [
       "0.5640000000000001"
      ]
     },
     "execution_count": 8466,
     "metadata": {},
     "output_type": "execute_result"
    }
   ],
   "source": [
    "upper_bound"
   ]
  },
  {
   "cell_type": "code",
   "execution_count": 8467,
   "id": "d0666821-3a7c-4fe8-9156-aefa1445758a",
   "metadata": {},
   "outputs": [
    {
     "data": {
      "text/plain": [
       "-0.276"
      ]
     },
     "execution_count": 8467,
     "metadata": {},
     "output_type": "execute_result"
    }
   ],
   "source": [
    "lower_bound"
   ]
  },
  {
   "cell_type": "markdown",
   "id": "20d6c030-dbcd-49f3-a989-ec07bafc0871",
   "metadata": {
    "jp-MarkdownHeadingCollapsed": true,
    "tags": []
   },
   "source": [
    "# AUTOMATIZAR\n",
    "## AVG_UTILIZATION_RATIO"
   ]
  },
  {
   "cell_type": "code",
   "execution_count": 8468,
   "id": "abbd6f69-de74-41f0-91a0-55cf389c6233",
   "metadata": {},
   "outputs": [],
   "source": [
    "dfq1 = df_f.loc[: , ['Education_Level','Marital_Status','Income_Category','Avg_Utilization_Ratio']].groupby(['Education_Level','Marital_Status','Income_Category'], as_index = False).quantile(0.25).copy()\n",
    "dfq1.columns = ['Education_Level','Marital_Status','Income_Category','Avg_Utilization_Ratio_Q1']\n",
    "\n",
    "dfq3 = df_f.loc[: , ['Education_Level','Marital_Status','Income_Category','Avg_Utilization_Ratio']].groupby(['Education_Level','Marital_Status','Income_Category'], as_index = False).quantile(0.75).copy()\n",
    "dfq3.columns = ['Education_Level','Marital_Status','Income_Category','Avg_Utilization_Ratio_Q3']\n",
    "\n",
    "dfmean = df_f.loc[: ,['Education_Level','Marital_Status','Income_Category','Avg_Utilization_Ratio']].groupby(['Education_Level','Marital_Status','Income_Category'], as_index = False).mean().copy()\n",
    "dfmean.columns = ['Education_Level','Marital_Status','Income_Category','Avg_Utilization_Ratio_MEAN']\n",
    "\n",
    "df_iqr = dfq1.merge(dfq3, on = ['Education_Level','Marital_Status','Income_Category'], how = 'inner').merge(dfmean, on = ['Education_Level','Marital_Status','Income_Category'], how = 'inner').copy()"
   ]
  },
  {
   "cell_type": "code",
   "execution_count": 8469,
   "id": "55d26225-b0f4-4be3-9be7-292b34e04261",
   "metadata": {},
   "outputs": [],
   "source": [
    "df_iqr['iqr_Avg'] = df_iqr.apply(lambda r: (r['Avg_Utilization_Ratio_Q3'] - r['Avg_Utilization_Ratio_Q1']), axis = 1)"
   ]
  },
  {
   "cell_type": "code",
   "execution_count": 8470,
   "id": "31852210-42b5-4434-93dc-c4a82ff0dc14",
   "metadata": {},
   "outputs": [],
   "source": [
    "df_iqr['upper_bound_Avg'] = df_iqr.apply(lambda r: (r['Avg_Utilization_Ratio_Q3'] + (1.5*r['iqr_Avg'])), axis = 1)\n",
    "df_iqr['lower_bound_Avg'] = df_iqr.apply(lambda r: (r['Avg_Utilization_Ratio_Q1'] - (1.5*r['iqr_Avg'])), axis = 1)"
   ]
  },
  {
   "cell_type": "code",
   "execution_count": 8471,
   "id": "c1edd74d-9ddf-4245-821a-527c439f7dd5",
   "metadata": {},
   "outputs": [],
   "source": [
    "df_f = df_f.merge(df_iqr, on = ['Education_Level','Marital_Status','Income_Category'], how='left').copy()"
   ]
  },
  {
   "cell_type": "code",
   "execution_count": 8472,
   "id": "693fe8b7-3b84-4c7d-bc00-49ab928cfa2d",
   "metadata": {},
   "outputs": [],
   "source": [
    "def newCredit_Limit(r):\n",
    "    if (r['Avg_Utilization_Ratio'] < r['lower_bound_Avg']) | (r['Avg_Utilization_Ratio'] > r['upper_bound_Avg']):\n",
    "        return r['Avg_Utilization_Ratio_MEAN']\n",
    "    else:\n",
    "        return r['Avg_Utilization_Ratio']"
   ]
  },
  {
   "cell_type": "code",
   "execution_count": 8473,
   "id": "194d7e14-37d8-4dba-bb4e-451972d939f1",
   "metadata": {},
   "outputs": [],
   "source": [
    "Columns_drop = np.append(Columns_drop,['Avg_Utilization_Ratio_Q1','Avg_Utilization_Ratio_Q3','Avg_Utilization_Ratio_MEAN','iqr_Avg','upper_bound_Avg','lower_bound_Avg'],axis=None)"
   ]
  },
  {
   "cell_type": "code",
   "execution_count": 8474,
   "id": "5c460305-0a86-4c27-bd85-4c4897ec35a0",
   "metadata": {},
   "outputs": [],
   "source": [
    "df_f['new_Avg_Utilization_Ratio'] = df_f.apply( lambda r: newCredit_Limit(r), axis = 1 )\n",
    "Columns_drop = np.append(Columns_drop,'Avg_Utilization_Ratio',axis=None)"
   ]
  },
  {
   "cell_type": "markdown",
   "id": "24ed9ba4-e4d5-4cca-876e-49b56d3ce2c2",
   "metadata": {},
   "source": [
    "# COMPARACIONES\n",
    "## AVG_UTILIZATION_RATIO\n",
    "\n",
    "*def:* Comparamos el caso especifico al que decidimos realizarle \"Zoom\" para poder ver más a detalles la representación de la data en el boxplot. Donde *default* hace referencia al caso que decidimos analizar, mientras *cleaned* se refiere al resultado despues de la limpieza de valores atipicos de la data"
   ]
  },
  {
   "cell_type": "code",
   "execution_count": 8475,
   "id": "8fadc770-d5c9-43c8-83da-4705718c8572",
   "metadata": {},
   "outputs": [],
   "source": [
    "default = df_f.loc[ (data['Income_Category'] == '$80K - $120K') & (df_f['Education_Level'] == 'Graduate') & (df_f['Marital_Status'] == 'Married'), ['Avg_Utilization_Ratio']]"
   ]
  },
  {
   "cell_type": "code",
   "execution_count": 8476,
   "id": "d496a4ab-4839-4873-91c9-f4c4375d6041",
   "metadata": {},
   "outputs": [
    {
     "data": {
      "text/plain": [
       "{'whiskers': [<matplotlib.lines.Line2D at 0x2a844d74160>,\n",
       "  <matplotlib.lines.Line2D at 0x2a844d74430>],\n",
       " 'caps': [<matplotlib.lines.Line2D at 0x2a844d74700>,\n",
       "  <matplotlib.lines.Line2D at 0x2a844d749d0>],\n",
       " 'boxes': [<matplotlib.lines.Line2D at 0x2a844d82e50>],\n",
       " 'medians': [<matplotlib.lines.Line2D at 0x2a844d74ca0>],\n",
       " 'fliers': [<matplotlib.lines.Line2D at 0x2a844d74f70>],\n",
       " 'means': []}"
      ]
     },
     "execution_count": 8476,
     "metadata": {},
     "output_type": "execute_result"
    },
    {
     "data": {
      "image/png": "[encoded data removed]",
      "text/plain": [
       "<Figure size 432x288 with 1 Axes>"
      ]
     },
     "metadata": {
      "needs_background": "light"
     },
     "output_type": "display_data"
    }
   ],
   "source": [
    "plt.boxplot(default)"
   ]
  },
  {
   "cell_type": "code",
   "execution_count": 8477,
   "id": "3a0b6f17-4604-48fd-904d-f0cef307b40f",
   "metadata": {},
   "outputs": [],
   "source": [
    "cleaned = df_f.loc[ (df_f['Income_Category'] == '$80K - $120K') & (df_f['Education_Level'] == 'Graduate') & (df_f['Marital_Status'] == 'Married'), ['new_Avg_Utilization_Ratio']]"
   ]
  },
  {
   "cell_type": "code",
   "execution_count": 8478,
   "id": "76c9adf2-fd98-40f1-b025-7521cb703a40",
   "metadata": {},
   "outputs": [
    {
     "data": {
      "text/plain": [
       "{'whiskers': [<matplotlib.lines.Line2D at 0x2a844164520>,\n",
       "  <matplotlib.lines.Line2D at 0x2a8441647f0>],\n",
       " 'caps': [<matplotlib.lines.Line2D at 0x2a844164ac0>,\n",
       "  <matplotlib.lines.Line2D at 0x2a844164d90>],\n",
       " 'boxes': [<matplotlib.lines.Line2D at 0x2a844164250>],\n",
       " 'medians': [<matplotlib.lines.Line2D at 0x2a842c920a0>],\n",
       " 'fliers': [<matplotlib.lines.Line2D at 0x2a842c92370>],\n",
       " 'means': []}"
      ]
     },
     "execution_count": 8478,
     "metadata": {},
     "output_type": "execute_result"
    },
    {
     "data": {
      "image/png": "[encoded data removed]",
      "text/plain": [
       "<Figure size 432x288 with 1 Axes>"
      ]
     },
     "metadata": {
      "needs_background": "light"
     },
     "output_type": "display_data"
    }
   ],
   "source": [
    "plt.boxplot(cleaned)"
   ]
  },
  {
   "cell_type": "markdown",
   "id": "fd333bbf-8054-4497-b610-6705d5ca0bf7",
   "metadata": {},
   "source": [
    "Como podemos observar luego de la limpieza de la data para la variable númerica *avg_utilization_ratio* se encuentran una serie de valores encima del limite del q4, sin embargo, estos valores no se consideran atipicos, porque están dentro del upper_bound"
   ]
  },
  {
   "cell_type": "code",
   "execution_count": 8479,
   "id": "6e3207cd-f80b-468b-8890-a17ee16be03e",
   "metadata": {},
   "outputs": [
    {
     "data": {
      "text/plain": [
       "<AxesSubplot:xlabel='Education_Level', ylabel='Avg_Utilization_Ratio'>"
      ]
     },
     "execution_count": 8479,
     "metadata": {},
     "output_type": "execute_result"
    },
    {
     "data": {
      "image/png": "[encoded data removed]",
      "text/plain": [
       "<Figure size 432x288 with 1 Axes>"
      ]
     },
     "metadata": {
      "needs_background": "light"
     },
     "output_type": "display_data"
    }
   ],
   "source": [
    "sns.boxplot(data = df_f.loc[ (df_f['Income_Category'] == '$80K - $120K'), : ], x= 'Education_Level', y ='Avg_Utilization_Ratio' )"
   ]
  },
  {
   "cell_type": "code",
   "execution_count": 8480,
   "id": "ea43a86a-6dc1-4b94-9e51-a69e546c7c65",
   "metadata": {},
   "outputs": [
    {
     "data": {
      "text/plain": [
       "<AxesSubplot:xlabel='Education_Level', ylabel='new_Avg_Utilization_Ratio'>"
      ]
     },
     "execution_count": 8480,
     "metadata": {},
     "output_type": "execute_result"
    },
    {
     "data": {
      "image/png": "[encoded data removed]",
      "text/plain": [
       "<Figure size 432x288 with 1 Axes>"
      ]
     },
     "metadata": {
      "needs_background": "light"
     },
     "output_type": "display_data"
    }
   ],
   "source": [
    "sns.boxplot(data = df_f.loc[ (df_f['Income_Category'] == '$80K - $120K'), : ], x= 'Education_Level', y ='new_Avg_Utilization_Ratio' )"
   ]
  },
  {
   "cell_type": "markdown",
   "id": "ba47568f-f784-412d-926b-9c8a85d6f7ff",
   "metadata": {},
   "source": [
    "#### HISTOGRAMAS\n",
    "##### AVG_UTILIZATION_RATIO\n",
    "*def:* Observamos los histogramas del caso especifico al que decidimos realizarle \"Zoom\" para poder ver más a detalles la representación de la data en el histograma. Donde *default* hace referencia al caso que decidimos analizar, mientras *cleaned* se refiere al resultado despues de la limpieza de valores atipicos de la data\n",
    "Con la estrategia que utilzamos para estratificar, logramos ver que se limpió una buena cantidad de data, es decir, primero teniamos un max de cerca de 0.9 y luego de nuestra limpieza obtuvimos cerca 0.5, la limpieza a esta variable numerica la realizamos sin entrar al vicio analitico."
   ]
  },
  {
   "cell_type": "code",
   "execution_count": 8481,
   "id": "04e94587-b430-48e5-b064-790f584b6a00",
   "metadata": {},
   "outputs": [
    {
     "data": {
      "text/plain": [
       "Avg_Utilization_Ratio    0.928\n",
       "dtype: float64"
      ]
     },
     "execution_count": 8481,
     "metadata": {},
     "output_type": "execute_result"
    }
   ],
   "source": [
    "default.max()"
   ]
  },
  {
   "cell_type": "code",
   "execution_count": 8482,
   "id": "ca00e8d4-4ba4-4a99-8306-3e4ca52b50fa",
   "metadata": {},
   "outputs": [
    {
     "data": {
      "text/plain": [
       "Avg_Utilization_Ratio    0.0\n",
       "dtype: float64"
      ]
     },
     "execution_count": 8482,
     "metadata": {},
     "output_type": "execute_result"
    }
   ],
   "source": [
    "default.min()"
   ]
  },
  {
   "cell_type": "code",
   "execution_count": 8483,
   "id": "8a0376d2-47fb-449d-b593-e5e48b79f7dd",
   "metadata": {},
   "outputs": [
    {
     "data": {
      "image/png": "[encoded data removed]",
      "text/plain": [
       "<Figure size 432x288 with 1 Axes>"
      ]
     },
     "metadata": {
      "needs_background": "light"
     },
     "output_type": "display_data"
    }
   ],
   "source": [
    "intervalos = np.arange(0.0, 0.928, 0.1) #calculamos los extremos de los intervalos\n",
    "\n",
    "plt.hist(x=default, bins=intervalos, color='#F2AB6D', rwidth=0.85)\n",
    "plt.title('Histograma de Radio promedio de Utilizacion default')\n",
    "plt.xlabel('Radio promedio de Utilizacion')\n",
    "plt.ylabel('Frecuencia')\n",
    "plt.xticks(intervalos)\n",
    "\n",
    "plt.show() #dibujamos el histograma"
   ]
  },
  {
   "cell_type": "code",
   "execution_count": 8484,
   "id": "7012016a-0083-4523-881d-2e492fb7d6c8",
   "metadata": {},
   "outputs": [
    {
     "data": {
      "text/plain": [
       "new_Avg_Utilization_Ratio    0.547\n",
       "dtype: float64"
      ]
     },
     "execution_count": 8484,
     "metadata": {},
     "output_type": "execute_result"
    }
   ],
   "source": [
    "cleaned.max()"
   ]
  },
  {
   "cell_type": "code",
   "execution_count": 8485,
   "id": "ef0b4d5f-39be-44ce-b3ce-029473c2dbe9",
   "metadata": {},
   "outputs": [
    {
     "data": {
      "text/plain": [
       "new_Avg_Utilization_Ratio    0.0\n",
       "dtype: float64"
      ]
     },
     "execution_count": 8485,
     "metadata": {},
     "output_type": "execute_result"
    }
   ],
   "source": [
    "cleaned.min()"
   ]
  },
  {
   "cell_type": "code",
   "execution_count": 8486,
   "id": "9002c05b-53fa-464f-93a0-2d778faf0e01",
   "metadata": {},
   "outputs": [
    {
     "data": {
      "image/png": "[encoded data removed]",
      "text/plain": [
       "<Figure size 432x288 with 1 Axes>"
      ]
     },
     "metadata": {
      "needs_background": "light"
     },
     "output_type": "display_data"
    }
   ],
   "source": [
    "intervalos = np.arange(0.0, 0.547, 0.05) #calculamos los extremos de los intervalos\n",
    "\n",
    "plt.hist(x=cleaned, bins=intervalos, color='#F2AB6D', rwidth=0.85)\n",
    "plt.title('Histograma de Radio promedio de Utilizacion cleaned')\n",
    "plt.xlabel('Radio promedio de Utilizacion')\n",
    "plt.ylabel('Frecuencia')\n",
    "plt.xticks(intervalos)\n",
    "\n",
    "plt.show() #dibujamos el histograma"
   ]
  },
  {
   "cell_type": "markdown",
   "id": "5e3fb85a-4bef-47a3-8c91-4d455c18437b",
   "metadata": {},
   "source": [
    "## *AVG_OPEN_TO_BUY*\n",
    "\n",
    "*Explicación/Analisis:* Se trata de una variable que representa el el promedio de dinero disponible para realizar compras, para realizar el analisis de está variable númerica utilizamos un solo nivel de granularidad, que es la categoria de ingresos, porque consideramos que el promedio de dinero disponible para realizar compras está relacionado o puede ser comparable con otras personas con la misma categoria de ingresos\n",
    "\n",
    "Para este caso, no utilizaremos tanto nivel de estratificación, ya que decidimos limpiar la data o la variable *AVG_OPEN_TO_BUY* únicamente dependiendo de la categoria de ingresos, sin quitar ningun nivel de está categoria porque la frecuencia más baja es de 7% que representa una buena cantidad de información.\n",
    "\n",
    "Hacemos de una sola vez el analisis especifico de está variable, para luego pasar a la automatización"
   ]
  },
  {
   "cell_type": "markdown",
   "id": "c78b08cf-c6a8-4f21-97b2-f45e77e82fc3",
   "metadata": {},
   "source": [
    "### Caso #1\n",
    "- *Income_Category:* $80K - $120K"
   ]
  },
  {
   "cell_type": "code",
   "execution_count": 8487,
   "id": "59ed9dc6-25e4-4c0c-918e-f02ce3770d19",
   "metadata": {},
   "outputs": [
    {
     "data": {
      "text/plain": [
       "Income_Category\n",
       "Less than $40K     0.351634\n",
       "$40K - $60K        0.176755\n",
       "$80K - $120K       0.151575\n",
       "$60K - $80K        0.138442\n",
       "Unknown            0.109805\n",
       "$120K +            0.071788\n",
       "dtype: float64"
      ]
     },
     "execution_count": 8487,
     "metadata": {},
     "output_type": "execute_result"
    }
   ],
   "source": [
    "df_f.loc[:, ['Income_Category']].value_counts() / df_f.shape[0]"
   ]
  },
  {
   "cell_type": "code",
   "execution_count": 8488,
   "id": "50994f24-731b-43bc-ad1e-ea6222986223",
   "metadata": {},
   "outputs": [],
   "source": [
    "c1 = df_f.loc[ (df_f['Income_Category'] == 'Less than $40K'), ['Avg_Open_To_Buy']]"
   ]
  },
  {
   "cell_type": "code",
   "execution_count": 8489,
   "id": "0674d7a1-b652-462c-bc02-3b641853a29a",
   "metadata": {},
   "outputs": [
    {
     "data": {
      "text/plain": [
       "{'whiskers': [<matplotlib.lines.Line2D at 0x2a842fac430>,\n",
       "  <matplotlib.lines.Line2D at 0x2a842fac700>],\n",
       " 'caps': [<matplotlib.lines.Line2D at 0x2a842fac9d0>,\n",
       "  <matplotlib.lines.Line2D at 0x2a842facca0>],\n",
       " 'boxes': [<matplotlib.lines.Line2D at 0x2a842fac160>],\n",
       " 'medians': [<matplotlib.lines.Line2D at 0x2a842facf70>],\n",
       " 'fliers': [<matplotlib.lines.Line2D at 0x2a842fb9280>],\n",
       " 'means': []}"
      ]
     },
     "execution_count": 8489,
     "metadata": {},
     "output_type": "execute_result"
    },
    {
     "data": {
      "image/png": "[encoded data removed]",
      "text/plain": [
       "<Figure size 432x288 with 1 Axes>"
      ]
     },
     "metadata": {
      "needs_background": "light"
     },
     "output_type": "display_data"
    }
   ],
   "source": [
    "plt.boxplot(c1)"
   ]
  },
  {
   "cell_type": "code",
   "execution_count": 8490,
   "id": "717da6a8-4532-488a-ab0e-b8234e4b1b87",
   "metadata": {},
   "outputs": [],
   "source": [
    "q1 = np.quantile(c1,.25)\n",
    "q3 = np.quantile(c1,.75)\n",
    "iqr = q3-q1\n",
    "upper_bound = q3 + (1.5*iqr)\n",
    "lower_bound = q1 - (1.5*iqr)"
   ]
  },
  {
   "cell_type": "code",
   "execution_count": 8491,
   "id": "b1fe0a41-150e-44f5-90e0-fab941fa8c82",
   "metadata": {},
   "outputs": [
    {
     "data": {
      "text/plain": [
       "830.0"
      ]
     },
     "execution_count": 8491,
     "metadata": {},
     "output_type": "execute_result"
    }
   ],
   "source": [
    "q1"
   ]
  },
  {
   "cell_type": "code",
   "execution_count": 8492,
   "id": "e9912dd3-9877-4558-86bf-342c780eca8a",
   "metadata": {},
   "outputs": [
    {
     "data": {
      "text/plain": [
       "3245.0"
      ]
     },
     "execution_count": 8492,
     "metadata": {},
     "output_type": "execute_result"
    }
   ],
   "source": [
    "q3"
   ]
  },
  {
   "cell_type": "code",
   "execution_count": 8493,
   "id": "2c7a5585-4c4f-4c40-8543-c219afa417e9",
   "metadata": {},
   "outputs": [
    {
     "data": {
      "text/plain": [
       "2415.0"
      ]
     },
     "execution_count": 8493,
     "metadata": {},
     "output_type": "execute_result"
    }
   ],
   "source": [
    "iqr"
   ]
  },
  {
   "cell_type": "code",
   "execution_count": 8494,
   "id": "57d9fc87-dd79-4dc0-bbb1-32cea076c8b0",
   "metadata": {},
   "outputs": [
    {
     "data": {
      "text/plain": [
       "6867.5"
      ]
     },
     "execution_count": 8494,
     "metadata": {},
     "output_type": "execute_result"
    }
   ],
   "source": [
    "upper_bound"
   ]
  },
  {
   "cell_type": "code",
   "execution_count": 8495,
   "id": "a60011f1-9047-4818-b393-ae9a6f5cd095",
   "metadata": {},
   "outputs": [
    {
     "data": {
      "text/plain": [
       "-2792.5"
      ]
     },
     "execution_count": 8495,
     "metadata": {},
     "output_type": "execute_result"
    }
   ],
   "source": [
    "lower_bound"
   ]
  },
  {
   "cell_type": "markdown",
   "id": "6f8a95d2-8a1e-474a-a22d-b7f19e0eae63",
   "metadata": {},
   "source": [
    "# AUTOMATIZAR\n",
    "## TOTAL_TRANS_AMT"
   ]
  },
  {
   "cell_type": "code",
   "execution_count": 8496,
   "id": "b3683c3a-c9bf-49ba-b694-7d1dca164f10",
   "metadata": {},
   "outputs": [],
   "source": [
    "dfq1 = df_f.loc[: , ['Income_Category','Avg_Open_To_Buy']].groupby(['Income_Category'], as_index = False).quantile(0.25).copy()\n",
    "dfq1.columns = ['Income_Category','Avg_Open_To_Buy_Q1']\n",
    "\n",
    "dfq3 = df_f.loc[: , ['Income_Category','Avg_Open_To_Buy']].groupby(['Income_Category'], as_index = False).quantile(0.75).copy()\n",
    "dfq3.columns = ['Income_Category','Avg_Open_To_Buy_Q3']\n",
    "\n",
    "dfmean = df_f.loc[: , ['Income_Category','Avg_Open_To_Buy']].groupby(['Income_Category'], as_index = False).mean().copy()\n",
    "dfmean.columns = ['Income_Category','Avg_Open_To_Buy_MEAN']\n",
    "\n",
    "df_iqr = dfq1.merge(dfq3, on = ['Income_Category'], how = 'inner').merge(dfmean, on = ['Income_Category'], how = 'inner').copy()"
   ]
  },
  {
   "cell_type": "code",
   "execution_count": 8497,
   "id": "2f8dcbad-2fdc-47b3-8198-4b4cc7237c04",
   "metadata": {},
   "outputs": [],
   "source": [
    "df_iqr['iqr_Avg_Open'] = df_iqr.apply(lambda r: (r['Avg_Open_To_Buy_Q3'] - r['Avg_Open_To_Buy_Q1']), axis = 1)"
   ]
  },
  {
   "cell_type": "code",
   "execution_count": 8498,
   "id": "586f74aa-4a73-416a-bdd8-8a707dee3f33",
   "metadata": {},
   "outputs": [],
   "source": [
    "df_iqr['upper_bound_Avg_Open'] = df_iqr.apply(lambda r: (r['Avg_Open_To_Buy_Q3'] + (1.5*r['iqr_Avg_Open'])), axis = 1)\n",
    "df_iqr['lower_bound_Avg_Open'] = df_iqr.apply(lambda r: (r['Avg_Open_To_Buy_Q1'] - (1.5*r['iqr_Avg_Open'])), axis = 1)"
   ]
  },
  {
   "cell_type": "code",
   "execution_count": 8499,
   "id": "bdbe4047-be7d-44eb-baee-39f661139038",
   "metadata": {},
   "outputs": [],
   "source": [
    "df_f = df_f.merge(df_iqr, on = ['Income_Category'], how='left').copy()"
   ]
  },
  {
   "cell_type": "code",
   "execution_count": 8500,
   "id": "b396147e-75be-4744-9af5-646e8ccbc4e0",
   "metadata": {},
   "outputs": [],
   "source": [
    "def newCredit_Limit(r):\n",
    "    if (r['Avg_Open_To_Buy'] < r['lower_bound_Avg_Open']) | (r['Avg_Open_To_Buy'] > r['upper_bound_Avg_Open']):\n",
    "        return r['Avg_Open_To_Buy_MEAN']\n",
    "    else:\n",
    "        return r['Avg_Open_To_Buy']"
   ]
  },
  {
   "cell_type": "code",
   "execution_count": 8501,
   "id": "4a22e049-2d53-4166-84eb-0e9b47f07302",
   "metadata": {},
   "outputs": [],
   "source": [
    "Columns_drop = np.append(Columns_drop,['Avg_Open_To_Buy_Q1','Avg_Open_To_Buy_Q3','Avg_Open_To_Buy_MEAN','iqr_Avg_Open','upper_bound_Avg_Open','lower_bound_Avg_Open'],axis=None)"
   ]
  },
  {
   "cell_type": "code",
   "execution_count": 8502,
   "id": "57fc2024-396b-4c39-9e0f-6cce38909f89",
   "metadata": {},
   "outputs": [],
   "source": [
    "df_f['new_Avg_Open_To_Buy'] = df_f.apply( lambda r: newCredit_Limit(r), axis = 1 )\n",
    "Columns_drop = np.append(Columns_drop,'Avg_Open_To_Buy',axis=None)"
   ]
  },
  {
   "cell_type": "markdown",
   "id": "89665c7a-1f06-4409-8255-f8a6d8094ece",
   "metadata": {},
   "source": [
    "# COMPARACIONES\n",
    "## AVG_OPEN_TO_BUY\n",
    "\n",
    "*def:* Comparamos el caso especifico al que decidimos realizarle \"Zoom\" para poder ver más a detalles la representación de la data en el boxplot. Donde *default* hace referencia al caso que decidimos analizar, mientras *cleaned* se refiere al resultado despues de la limpieza de valores atipicos de la data"
   ]
  },
  {
   "cell_type": "code",
   "execution_count": 8503,
   "id": "22a969cd-1995-4d38-87f8-2521fb7dddc6",
   "metadata": {},
   "outputs": [],
   "source": [
    "default = df_f.loc[ (df_f['Income_Category'] == 'Less than $40K'), ['Avg_Open_To_Buy']]"
   ]
  },
  {
   "cell_type": "code",
   "execution_count": 8504,
   "id": "6da43199-da12-42a7-b190-1cfa0f0dbe72",
   "metadata": {},
   "outputs": [
    {
     "data": {
      "text/plain": [
       "{'whiskers': [<matplotlib.lines.Line2D at 0x2a84555c460>,\n",
       "  <matplotlib.lines.Line2D at 0x2a84555c730>],\n",
       " 'caps': [<matplotlib.lines.Line2D at 0x2a84555ca00>,\n",
       "  <matplotlib.lines.Line2D at 0x2a84555ccd0>],\n",
       " 'boxes': [<matplotlib.lines.Line2D at 0x2a84555c190>],\n",
       " 'medians': [<matplotlib.lines.Line2D at 0x2a84555cfa0>],\n",
       " 'fliers': [<matplotlib.lines.Line2D at 0x2a8455502b0>],\n",
       " 'means': []}"
      ]
     },
     "execution_count": 8504,
     "metadata": {},
     "output_type": "execute_result"
    },
    {
     "data": {
      "image/png": "[encoded data removed]",
      "text/plain": [
       "<Figure size 432x288 with 1 Axes>"
      ]
     },
     "metadata": {
      "needs_background": "light"
     },
     "output_type": "display_data"
    }
   ],
   "source": [
    "plt.boxplot(default)"
   ]
  },
  {
   "cell_type": "markdown",
   "id": "c743bbb7-95bb-4932-9ab5-9a3193e7fa12",
   "metadata": {},
   "source": [
    "A este punto de resultado obtenido, podríamos garantizar que a un nivel más granular entrariamos en sobreajuste, porque podemos observar que con el nivel de estratificación que le aplicamos obtuvimos una reducción enorme de valores atipicos, donde los valores sobre el límite de Q4, no son más que valores considerados dentro de \"lo normal\" porque siguen estando dentro y bastante por debajo del upper bound"
   ]
  },
  {
   "cell_type": "code",
   "execution_count": 8505,
   "id": "603b0ecf-995d-4227-ba4b-2ae34ac89b42",
   "metadata": {},
   "outputs": [],
   "source": [
    "cleaned = df_f.loc[ (df_f['Income_Category'] == 'Less than $40K'), ['new_Avg_Open_To_Buy']]"
   ]
  },
  {
   "cell_type": "code",
   "execution_count": 8506,
   "id": "0d302d0b-562b-4778-a841-0a335e29c1a1",
   "metadata": {},
   "outputs": [
    {
     "data": {
      "text/plain": [
       "{'whiskers': [<matplotlib.lines.Line2D at 0x2a8444dfc10>,\n",
       "  <matplotlib.lines.Line2D at 0x2a8444dfee0>],\n",
       " 'caps': [<matplotlib.lines.Line2D at 0x2a8430111f0>,\n",
       "  <matplotlib.lines.Line2D at 0x2a8430114c0>],\n",
       " 'boxes': [<matplotlib.lines.Line2D at 0x2a8444df940>],\n",
       " 'medians': [<matplotlib.lines.Line2D at 0x2a843011790>],\n",
       " 'fliers': [<matplotlib.lines.Line2D at 0x2a843011a60>],\n",
       " 'means': []}"
      ]
     },
     "execution_count": 8506,
     "metadata": {},
     "output_type": "execute_result"
    },
    {
     "data": {
      "image/png": "[encoded data removed]",
      "text/plain": [
       "<Figure size 432x288 with 1 Axes>"
      ]
     },
     "metadata": {
      "needs_background": "light"
     },
     "output_type": "display_data"
    }
   ],
   "source": [
    "plt.boxplot(cleaned)"
   ]
  },
  {
   "cell_type": "markdown",
   "id": "2488ea43-27b3-4ee5-b78c-265ab55715e7",
   "metadata": {},
   "source": [
    "#### HISTOGRAMAS\n",
    "##### TOTAL_TRANS_AMT\n",
    "*def:* Observamos los histogramas del caso especifico al que decidimos realizarle \"Zoom\" para poder ver más a detalles la representación de la data en el histograma. Donde *default* hace referencia al caso que decidimos analizar, mientras *cleaned* se refiere al resultado despues de la limpieza de valores atipicos de la data\n",
    "Con la estrategia que utilzamos para estratificar, logramos ver que se limpió una buena cantidad de data, es decir, primero teniamos un max de arriba de 16000 y luego de nuestra limpieza obtuvimos arriba de 6000, la limpieza a esta variable numerica la realizamos sin entrar al vicio analitico y con un grado de granularidad bastante grande ya habían categorias de ingresos para los cuales los valores atipicos era 0."
   ]
  },
  {
   "cell_type": "code",
   "execution_count": 8507,
   "id": "9d4a6fd3-1930-443e-bf37-8768f8033ef4",
   "metadata": {},
   "outputs": [
    {
     "data": {
      "text/plain": [
       "Avg_Open_To_Buy    15987.0\n",
       "dtype: float64"
      ]
     },
     "execution_count": 8507,
     "metadata": {},
     "output_type": "execute_result"
    }
   ],
   "source": [
    "default.max()"
   ]
  },
  {
   "cell_type": "code",
   "execution_count": 8508,
   "id": "27e9bfe2-fb43-40bc-bc75-5643ac8b6309",
   "metadata": {},
   "outputs": [
    {
     "data": {
      "text/plain": [
       "Avg_Open_To_Buy    10.0\n",
       "dtype: float64"
      ]
     },
     "execution_count": 8508,
     "metadata": {},
     "output_type": "execute_result"
    }
   ],
   "source": [
    "default.min()"
   ]
  },
  {
   "cell_type": "code",
   "execution_count": 8509,
   "id": "bc0e636a-b9c5-4515-afb1-c65355857e76",
   "metadata": {},
   "outputs": [
    {
     "data": {
      "image/png": "[encoded data removed]",
      "text/plain": [
       "<Figure size 432x288 with 1 Axes>"
      ]
     },
     "metadata": {
      "needs_background": "light"
     },
     "output_type": "display_data"
    }
   ],
   "source": [
    "intervalos = np.arange(563.0, 17498.0, 1500.0) #calculamos los extremos de los intervalos\n",
    "\n",
    "plt.hist(x=default, bins=intervalos, color='#F2AB6D', rwidth=0.85)\n",
    "plt.title('Histograma de Promedio disponible para compras default')\n",
    "plt.xlabel('Promedio disponible para compras')\n",
    "plt.ylabel('Frecuencia')\n",
    "plt.xticks(intervalos)\n",
    "\n",
    "plt.show() #dibujamos el histograma"
   ]
  },
  {
   "cell_type": "code",
   "execution_count": 8510,
   "id": "d5a68844-7839-4fb3-a1ad-51e9713e7af0",
   "metadata": {},
   "outputs": [
    {
     "data": {
      "text/plain": [
       "new_Avg_Open_To_Buy    6867.0\n",
       "dtype: float64"
      ]
     },
     "execution_count": 8510,
     "metadata": {},
     "output_type": "execute_result"
    }
   ],
   "source": [
    "cleaned.max()"
   ]
  },
  {
   "cell_type": "code",
   "execution_count": 8511,
   "id": "8a108e3d-d867-4c31-9a45-49e14f66e8bd",
   "metadata": {},
   "outputs": [
    {
     "data": {
      "text/plain": [
       "new_Avg_Open_To_Buy    10.0\n",
       "dtype: float64"
      ]
     },
     "execution_count": 8511,
     "metadata": {},
     "output_type": "execute_result"
    }
   ],
   "source": [
    "cleaned.min()"
   ]
  },
  {
   "cell_type": "code",
   "execution_count": 8512,
   "id": "53cce785-3553-40bd-932f-b031b9a2358f",
   "metadata": {},
   "outputs": [
    {
     "data": {
      "image/png": "[encoded data removed]",
      "text/plain": [
       "<Figure size 432x288 with 1 Axes>"
      ]
     },
     "metadata": {
      "needs_background": "light"
     },
     "output_type": "display_data"
    }
   ],
   "source": [
    "intervalos = np.arange(563.0, 9071.0, 1000.0) #calculamos los extremos de los intervalos\n",
    "\n",
    "plt.hist(x=cleaned, bins=intervalos, color='#F2AB6D', rwidth=0.85)\n",
    "plt.title('Histograma de Promedio disponible para compras Cleaned')\n",
    "plt.xlabel('Promedio disponible para compras')\n",
    "plt.ylabel('Frecuencia')\n",
    "plt.xticks(intervalos)\n",
    "\n",
    "plt.show() #dibujamos el histograma"
   ]
  },
  {
   "cell_type": "markdown",
   "id": "5842dd9d-1820-4854-98d0-6d073bc8544b",
   "metadata": {},
   "source": [
    "Con el histograma, podemos observar que los valores que se consideraron atipicos en el analisis, ahora se encuentrar concentrados en un el valor de la media, según la estratificación, cabe destacar que este gráfico es únicamente para la categoria de ingresos de *$80K - $120K*"
   ]
  },
  {
   "cell_type": "markdown",
   "id": "95587e94-0a18-4dc0-8797-4f57c0188599",
   "metadata": {},
   "source": [
    "### CONCLUSIONES DE LA LIMPIEZA DE VARIABLES NÚMERICAS CONTINUAS\n",
    "Limpiamos un total de 4 variables númericas continuas donde para cada una buscamos un nivel muy adecuado de estratificación, en algunos casos evitando entrar al vicio analitico y llegando a un punto de granularidad adecuado para una estratificación no tan sobreajustada y tampoco muy floja, cabe destacar que para las categorias usadas para filtrar estas variables númericas, no se realizó la eliminación de data, ya que se podía apreciar una cantidad de data, generalmente mayor al 6 - 7%, que es una cantidad bastante significativa.\n",
    "\n",
    "El enfoque del analisis pude verse complejo por la gran cantidad de variables numericas que tenía la data historica, sin embargo, gracias al analisis, logramos identificar esas variables númericas continuas que eran lo suficientemente decisivas y las que no representaban mucha influencia entre la data como para realizar una limpieza "
   ]
  },
  {
   "cell_type": "markdown",
   "id": "ba0bd6f5-88fd-4aa0-89ab-df47cad6b718",
   "metadata": {},
   "source": [
    "### ANALISIS AUTOMATIZADO DE VARIABLES CATEGORICAS\n",
    "\n",
    "*def:* Para las variables categoricas decidimos realizar la transformación de los dos niveles con menor porcentaje de representatividad, donde el porcentaje de representatividad fuese menor al 10%, de igual forma, la nueva categorización para valores Unknown, también será otros. Tomamos la decisión de hacerlo así para no tener datos \"sin saber\" y categorizarlo de una buena vez en others al igual que los niveles que cumplan las condiciones antes mencionadas"
   ]
  },
  {
   "cell_type": "code",
   "execution_count": 8513,
   "id": "a769fdc8-5127-439e-bbd7-c00d35a1faa6",
   "metadata": {},
   "outputs": [],
   "source": [
    "result = pd.DataFrame()\n",
    "for c_ in Categorical:\n",
    "    dfTmp = df_f.loc[: , c_].value_counts().rename_axis('level').reset_index(name='count')\n",
    "    dfTmp['percentage'] = dfTmp['count']/df_f.shape[0]\n",
    "    dfTmp['var'] = c_\n",
    "    result = pd.concat([result, dfTmp])"
   ]
  },
  {
   "cell_type": "code",
   "execution_count": 8514,
   "id": "4d0b8b5d-7af5-45b0-a44b-6991a2503780",
   "metadata": {},
   "outputs": [],
   "source": [
    "result = result.sort_values(['var','percentage'], ascending = True)"
   ]
  },
  {
   "cell_type": "code",
   "execution_count": 8515,
   "id": "233ba13c-fbdb-44fb-b7a8-0706c9d73884",
   "metadata": {},
   "outputs": [],
   "source": [
    "result['rank'] = result.groupby('var', as_index = False).cumcount()"
   ]
  },
  {
   "cell_type": "code",
   "execution_count": 8516,
   "id": "1dede787-aad3-40bc-9621-5ae286809457",
   "metadata": {},
   "outputs": [],
   "source": [
    "def newCategoricalValue(r):\n",
    "    if ((r['rank'] <= 1 ) & (r['percentage'] < 0.1)) | (r['level'] == 'Unknown'):\n",
    "        return 'Others'\n",
    "    else:\n",
    "        return r['level']"
   ]
  },
  {
   "cell_type": "code",
   "execution_count": 8517,
   "id": "10a6e8e4-f5d7-4bd6-bf5a-e0739897e992",
   "metadata": {},
   "outputs": [],
   "source": [
    "result['new_level'] = result.apply(lambda r: newCategoricalValue(r), axis = 1)"
   ]
  },
  {
   "cell_type": "code",
   "execution_count": 8518,
   "id": "98e30a3b-cc26-4821-934b-21258e33cf32",
   "metadata": {},
   "outputs": [],
   "source": [
    "result = result.loc[ :, ['level','var','new_level']]"
   ]
  },
  {
   "cell_type": "code",
   "execution_count": 8519,
   "id": "da9f7dff-98b3-4a60-b4a6-272422f8e042",
   "metadata": {},
   "outputs": [
    {
     "data": {
      "text/html": [
       "<div>\n",
       "<style scoped>\n",
       "    .dataframe tbody tr th:only-of-type {\n",
       "        vertical-align: middle;\n",
       "    }\n",
       "\n",
       "    .dataframe tbody tr th {\n",
       "        vertical-align: top;\n",
       "    }\n",
       "\n",
       "    .dataframe thead th {\n",
       "        text-align: right;\n",
       "    }\n",
       "</style>\n",
       "<table border=\"1\" class=\"dataframe\">\n",
       "  <thead>\n",
       "    <tr style=\"text-align: right;\">\n",
       "      <th></th>\n",
       "      <th>level</th>\n",
       "      <th>var</th>\n",
       "      <th>new_level</th>\n",
       "    </tr>\n",
       "  </thead>\n",
       "  <tbody>\n",
       "    <tr>\n",
       "      <th>6</th>\n",
       "      <td>Doctorate</td>\n",
       "      <td>Education_Level</td>\n",
       "      <td>Others</td>\n",
       "    </tr>\n",
       "    <tr>\n",
       "      <th>5</th>\n",
       "      <td>Post-Graduate</td>\n",
       "      <td>Education_Level</td>\n",
       "      <td>Others</td>\n",
       "    </tr>\n",
       "    <tr>\n",
       "      <th>4</th>\n",
       "      <td>College</td>\n",
       "      <td>Education_Level</td>\n",
       "      <td>College</td>\n",
       "    </tr>\n",
       "    <tr>\n",
       "      <th>3</th>\n",
       "      <td>Uneducated</td>\n",
       "      <td>Education_Level</td>\n",
       "      <td>Uneducated</td>\n",
       "    </tr>\n",
       "    <tr>\n",
       "      <th>2</th>\n",
       "      <td>Unknown</td>\n",
       "      <td>Education_Level</td>\n",
       "      <td>Others</td>\n",
       "    </tr>\n",
       "    <tr>\n",
       "      <th>1</th>\n",
       "      <td>High School</td>\n",
       "      <td>Education_Level</td>\n",
       "      <td>High School</td>\n",
       "    </tr>\n",
       "    <tr>\n",
       "      <th>0</th>\n",
       "      <td>Graduate</td>\n",
       "      <td>Education_Level</td>\n",
       "      <td>Graduate</td>\n",
       "    </tr>\n",
       "    <tr>\n",
       "      <th>1</th>\n",
       "      <td>M</td>\n",
       "      <td>Gender</td>\n",
       "      <td>M</td>\n",
       "    </tr>\n",
       "    <tr>\n",
       "      <th>0</th>\n",
       "      <td>F</td>\n",
       "      <td>Gender</td>\n",
       "      <td>F</td>\n",
       "    </tr>\n",
       "    <tr>\n",
       "      <th>5</th>\n",
       "      <td>$120K +</td>\n",
       "      <td>Income_Category</td>\n",
       "      <td>Others</td>\n",
       "    </tr>\n",
       "    <tr>\n",
       "      <th>4</th>\n",
       "      <td>Unknown</td>\n",
       "      <td>Income_Category</td>\n",
       "      <td>Others</td>\n",
       "    </tr>\n",
       "    <tr>\n",
       "      <th>3</th>\n",
       "      <td>$60K - $80K</td>\n",
       "      <td>Income_Category</td>\n",
       "      <td>$60K - $80K</td>\n",
       "    </tr>\n",
       "    <tr>\n",
       "      <th>2</th>\n",
       "      <td>$80K - $120K</td>\n",
       "      <td>Income_Category</td>\n",
       "      <td>$80K - $120K</td>\n",
       "    </tr>\n",
       "    <tr>\n",
       "      <th>1</th>\n",
       "      <td>$40K - $60K</td>\n",
       "      <td>Income_Category</td>\n",
       "      <td>$40K - $60K</td>\n",
       "    </tr>\n",
       "    <tr>\n",
       "      <th>0</th>\n",
       "      <td>Less than $40K</td>\n",
       "      <td>Income_Category</td>\n",
       "      <td>Less than $40K</td>\n",
       "    </tr>\n",
       "    <tr>\n",
       "      <th>3</th>\n",
       "      <td>Divorced</td>\n",
       "      <td>Marital_Status</td>\n",
       "      <td>Others</td>\n",
       "    </tr>\n",
       "    <tr>\n",
       "      <th>2</th>\n",
       "      <td>Unknown</td>\n",
       "      <td>Marital_Status</td>\n",
       "      <td>Others</td>\n",
       "    </tr>\n",
       "    <tr>\n",
       "      <th>1</th>\n",
       "      <td>Single</td>\n",
       "      <td>Marital_Status</td>\n",
       "      <td>Single</td>\n",
       "    </tr>\n",
       "    <tr>\n",
       "      <th>0</th>\n",
       "      <td>Married</td>\n",
       "      <td>Marital_Status</td>\n",
       "      <td>Married</td>\n",
       "    </tr>\n",
       "  </tbody>\n",
       "</table>\n",
       "</div>"
      ],
      "text/plain": [
       "            level              var       new_level\n",
       "6       Doctorate  Education_Level          Others\n",
       "5   Post-Graduate  Education_Level          Others\n",
       "4         College  Education_Level         College\n",
       "3      Uneducated  Education_Level      Uneducated\n",
       "2         Unknown  Education_Level          Others\n",
       "1     High School  Education_Level     High School\n",
       "0        Graduate  Education_Level        Graduate\n",
       "1               M           Gender               M\n",
       "0               F           Gender               F\n",
       "5         $120K +  Income_Category          Others\n",
       "4         Unknown  Income_Category          Others\n",
       "3     $60K - $80K  Income_Category     $60K - $80K\n",
       "2    $80K - $120K  Income_Category    $80K - $120K\n",
       "1     $40K - $60K  Income_Category     $40K - $60K\n",
       "0  Less than $40K  Income_Category  Less than $40K\n",
       "3        Divorced   Marital_Status          Others\n",
       "2         Unknown   Marital_Status          Others\n",
       "1          Single   Marital_Status          Single\n",
       "0         Married   Marital_Status         Married"
      ]
     },
     "execution_count": 8519,
     "metadata": {},
     "output_type": "execute_result"
    }
   ],
   "source": [
    "result"
   ]
  },
  {
   "cell_type": "markdown",
   "id": "08dcf114-5a61-4423-bd50-e0a2b5ee9533",
   "metadata": {},
   "source": [
    "*def:* Guardamos un archivo por cada variable categorica, que contiene las reglas aplicadas para la transformación, así como también realizar el merge (left) con el dataframe que resultó de la limpieza de variables númericas continuas. \\\n",
    "Se eliminaron las columnas duplicadas donde se realizó la limpieza y transformación tanto de variables numéricas continuas como de variables categoricas y se dejó únicamente el nuevo valor obtenido de la limpieza y transformación, guardando este dataframe con el nombre *data_cleaned.csv* en la carpeta *data_sources*. "
   ]
  },
  {
   "cell_type": "code",
   "execution_count": 8520,
   "id": "b61dbe5e-4379-475a-8d9c-625f18799196",
   "metadata": {},
   "outputs": [],
   "source": [
    "for var in result.loc[:,'var'].drop_duplicates():\n",
    "    dataTmp = result.loc[ result['var'] == var, ['level','new_level']]\n",
    "    nombre_archivo = var + '_rules.csv'\n",
    "    dataTmp.to_csv('../rules_categorical/' + nombre_archivo, index = False)\n",
    "    dataTmp = dataTmp.rename(columns={\"level\": var, \"new_level\": 'new_level_'+var})\n",
    "    df_f = df_f.merge(dataTmp, on = var, how = 'left')\n",
    "    df_f = df_f.drop(columns=[var])"
   ]
  },
  {
   "cell_type": "code",
   "execution_count": 8521,
   "id": "a04e0140-f1e2-44dc-9520-b7fa893db5b7",
   "metadata": {},
   "outputs": [
    {
     "data": {
      "text/plain": [
       "Index(['CLIENTNUM', 'Attrition_Flag', 'Customer_Age', 'Dependent_count',\n",
       "       'Card_Category', 'Months_on_book', 'Total_Relationship_Count',\n",
       "       'Months_Inactive_12_mon', 'Contacts_Count_12_mon', 'Credit_Limit',\n",
       "       'Total_Revolving_Bal', 'Avg_Open_To_Buy', 'Total_Amt_Chng_Q4_Q1',\n",
       "       'Total_Trans_Amt', 'Total_Trans_Ct', 'Total_Ct_Chng_Q4_Q1',\n",
       "       'Avg_Utilization_Ratio',\n",
       "       'Naive_Bayes_Classifier_Attrition_Flag_Card_Category_Contacts_Count_12_mon_Dependent_count_Education_Level_Months_Inactive_12_mon_1',\n",
       "       'Naive_Bayes_Classifier_Attrition_Flag_Card_Category_Contacts_Count_12_mon_Dependent_count_Education_Level_Months_Inactive_12_mon_2',\n",
       "       'Credit_Limit_Q1', 'Credit_Limit_Q3', 'Credit_Limit_MEAN', 'iqr',\n",
       "       'upper_bound', 'lower_bound', 'new_Credit_Limit',\n",
       "       'Avg_Utilization_Ratio_Q1', 'Avg_Utilization_Ratio_Q3',\n",
       "       'Avg_Utilization_Ratio_MEAN', 'iqr_Avg', 'upper_bound_Avg',\n",
       "       'lower_bound_Avg', 'new_Avg_Utilization_Ratio', 'Avg_Open_To_Buy_Q1',\n",
       "       'Avg_Open_To_Buy_Q3', 'Avg_Open_To_Buy_MEAN', 'iqr_Avg_Open',\n",
       "       'upper_bound_Avg_Open', 'lower_bound_Avg_Open', 'new_Avg_Open_To_Buy',\n",
       "       'new_level_Education_Level', 'new_level_Gender',\n",
       "       'new_level_Income_Category', 'new_level_Marital_Status'],\n",
       "      dtype='object')"
      ]
     },
     "execution_count": 8521,
     "metadata": {},
     "output_type": "execute_result"
    }
   ],
   "source": [
    "df_f.columns"
   ]
  },
  {
   "cell_type": "code",
   "execution_count": 8522,
   "id": "3448143e-8b38-4680-9f78-3923a64ce573",
   "metadata": {},
   "outputs": [],
   "source": [
    "df_f = df_f.drop(columns = Columns_drop)"
   ]
  },
  {
   "cell_type": "code",
   "execution_count": 8523,
   "id": "2c09ef8f-e928-43ec-9918-9293c1c11372",
   "metadata": {},
   "outputs": [],
   "source": [
    "df_f.to_csv('../data_sources/data_cleaned.csv', index = False)"
   ]
  }
 ],
 "metadata": {
  "kernelspec": {
   "display_name": "Python 3 (ipykernel)",
   "language": "python",
   "name": "python3"
  },
  "language_info": {
   "codemirror_mode": {
    "name": "ipython",
    "version": 3
   },
   "file_extension": ".py",
   "mimetype": "text/x-python",
   "name": "python",
   "nbconvert_exporter": "python",
   "pygments_lexer": "ipython3",
   "version": "3.9.12"
  }
 },
 "nbformat": 4,
 "nbformat_minor": 5
}
