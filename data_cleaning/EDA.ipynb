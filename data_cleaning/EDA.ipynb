{
 "cells": [
  {
   "cell_type": "code",
   "execution_count": 2,
   "id": "24a76bbe-6394-4fb2-a74f-4bade8f26724",
   "metadata": {},
   "outputs": [],
   "source": [
    "import pandas as pd\n",
    "import numpy as np\n",
    "\n",
    "from datetime import date\n",
    "\n",
    "import matplotlib.pyplot as plt\n",
    "import seaborn as sns"
   ]
  },
  {
   "cell_type": "code",
   "execution_count": 3,
   "id": "8c8c9c02-deaf-4672-964c-b022919fc7db",
   "metadata": {},
   "outputs": [],
   "source": [
    "data = pd.read_csv(\"../data_sources/BankChurners.csv\")"
   ]
  },
  {
   "cell_type": "code",
   "execution_count": 4,
   "id": "ecc5b294-1fd3-4b82-abd2-a3cc4a5e301a",
   "metadata": {},
   "outputs": [
    {
     "data": {
      "text/plain": [
       "Dependent_count\n",
       "3                  482\n",
       "2                  417\n",
       "1                  269\n",
       "4                  260\n",
       "0                  135\n",
       "5                   64\n",
       "dtype: int64"
      ]
     },
     "execution_count": 4,
     "metadata": {},
     "output_type": "execute_result"
    }
   ],
   "source": [
    "data.loc[(data['Attrition_Flag'] == 'Attrited Customer' ), ['Dependent_count'] ].value_counts()"
   ]
  },
  {
   "cell_type": "code",
   "execution_count": 5,
   "id": "7a481d04-7f5c-4c8e-9784-bb539f921641",
   "metadata": {},
   "outputs": [
    {
     "data": {
      "text/html": [
       "<div>\n",
       "<style scoped>\n",
       "    .dataframe tbody tr th:only-of-type {\n",
       "        vertical-align: middle;\n",
       "    }\n",
       "\n",
       "    .dataframe tbody tr th {\n",
       "        vertical-align: top;\n",
       "    }\n",
       "\n",
       "    .dataframe thead th {\n",
       "        text-align: right;\n",
       "    }\n",
       "</style>\n",
       "<table border=\"1\" class=\"dataframe\">\n",
       "  <thead>\n",
       "    <tr style=\"text-align: right;\">\n",
       "      <th></th>\n",
       "      <th>CLIENTNUM</th>\n",
       "      <th>Attrition_Flag</th>\n",
       "      <th>Customer_Age</th>\n",
       "      <th>Gender</th>\n",
       "      <th>Dependent_count</th>\n",
       "      <th>Education_Level</th>\n",
       "      <th>Marital_Status</th>\n",
       "      <th>Income_Category</th>\n",
       "      <th>Card_Category</th>\n",
       "      <th>Months_on_book</th>\n",
       "      <th>...</th>\n",
       "      <th>Credit_Limit</th>\n",
       "      <th>Total_Revolving_Bal</th>\n",
       "      <th>Avg_Open_To_Buy</th>\n",
       "      <th>Total_Amt_Chng_Q4_Q1</th>\n",
       "      <th>Total_Trans_Amt</th>\n",
       "      <th>Total_Trans_Ct</th>\n",
       "      <th>Total_Ct_Chng_Q4_Q1</th>\n",
       "      <th>Avg_Utilization_Ratio</th>\n",
       "      <th>Naive_Bayes_Classifier_Attrition_Flag_Card_Category_Contacts_Count_12_mon_Dependent_count_Education_Level_Months_Inactive_12_mon_1</th>\n",
       "      <th>Naive_Bayes_Classifier_Attrition_Flag_Card_Category_Contacts_Count_12_mon_Dependent_count_Education_Level_Months_Inactive_12_mon_2</th>\n",
       "    </tr>\n",
       "  </thead>\n",
       "  <tbody>\n",
       "    <tr>\n",
       "      <th>54</th>\n",
       "      <td>714374133</td>\n",
       "      <td>Attrited Customer</td>\n",
       "      <td>56</td>\n",
       "      <td>M</td>\n",
       "      <td>2</td>\n",
       "      <td>Graduate</td>\n",
       "      <td>Married</td>\n",
       "      <td>$120K +</td>\n",
       "      <td>Blue</td>\n",
       "      <td>36</td>\n",
       "      <td>...</td>\n",
       "      <td>15769.0</td>\n",
       "      <td>0</td>\n",
       "      <td>15769.0</td>\n",
       "      <td>1.041</td>\n",
       "      <td>602</td>\n",
       "      <td>15</td>\n",
       "      <td>0.364</td>\n",
       "      <td>0.000</td>\n",
       "      <td>0.99671</td>\n",
       "      <td>0.003294</td>\n",
       "    </tr>\n",
       "    <tr>\n",
       "      <th>61</th>\n",
       "      <td>712030833</td>\n",
       "      <td>Attrited Customer</td>\n",
       "      <td>48</td>\n",
       "      <td>M</td>\n",
       "      <td>2</td>\n",
       "      <td>Graduate</td>\n",
       "      <td>Married</td>\n",
       "      <td>$60K - $80K</td>\n",
       "      <td>Silver</td>\n",
       "      <td>35</td>\n",
       "      <td>...</td>\n",
       "      <td>34516.0</td>\n",
       "      <td>0</td>\n",
       "      <td>34516.0</td>\n",
       "      <td>0.763</td>\n",
       "      <td>691</td>\n",
       "      <td>15</td>\n",
       "      <td>0.500</td>\n",
       "      <td>0.000</td>\n",
       "      <td>0.99823</td>\n",
       "      <td>0.001771</td>\n",
       "    </tr>\n",
       "    <tr>\n",
       "      <th>99</th>\n",
       "      <td>711887583</td>\n",
       "      <td>Attrited Customer</td>\n",
       "      <td>47</td>\n",
       "      <td>M</td>\n",
       "      <td>2</td>\n",
       "      <td>Unknown</td>\n",
       "      <td>Married</td>\n",
       "      <td>$80K - $120K</td>\n",
       "      <td>Blue</td>\n",
       "      <td>37</td>\n",
       "      <td>...</td>\n",
       "      <td>5449.0</td>\n",
       "      <td>1628</td>\n",
       "      <td>3821.0</td>\n",
       "      <td>0.696</td>\n",
       "      <td>836</td>\n",
       "      <td>18</td>\n",
       "      <td>0.385</td>\n",
       "      <td>0.299</td>\n",
       "      <td>0.99700</td>\n",
       "      <td>0.002997</td>\n",
       "    </tr>\n",
       "    <tr>\n",
       "      <th>127</th>\n",
       "      <td>720201033</td>\n",
       "      <td>Attrited Customer</td>\n",
       "      <td>53</td>\n",
       "      <td>M</td>\n",
       "      <td>2</td>\n",
       "      <td>Graduate</td>\n",
       "      <td>Married</td>\n",
       "      <td>$80K - $120K</td>\n",
       "      <td>Blue</td>\n",
       "      <td>41</td>\n",
       "      <td>...</td>\n",
       "      <td>11669.0</td>\n",
       "      <td>2227</td>\n",
       "      <td>9442.0</td>\n",
       "      <td>0.622</td>\n",
       "      <td>720</td>\n",
       "      <td>23</td>\n",
       "      <td>0.353</td>\n",
       "      <td>0.191</td>\n",
       "      <td>0.99447</td>\n",
       "      <td>0.005530</td>\n",
       "    </tr>\n",
       "    <tr>\n",
       "      <th>144</th>\n",
       "      <td>767712558</td>\n",
       "      <td>Attrited Customer</td>\n",
       "      <td>59</td>\n",
       "      <td>M</td>\n",
       "      <td>1</td>\n",
       "      <td>College</td>\n",
       "      <td>Single</td>\n",
       "      <td>$60K - $80K</td>\n",
       "      <td>Blue</td>\n",
       "      <td>53</td>\n",
       "      <td>...</td>\n",
       "      <td>14979.0</td>\n",
       "      <td>0</td>\n",
       "      <td>14979.0</td>\n",
       "      <td>0.710</td>\n",
       "      <td>530</td>\n",
       "      <td>10</td>\n",
       "      <td>1.000</td>\n",
       "      <td>0.000</td>\n",
       "      <td>0.99639</td>\n",
       "      <td>0.003608</td>\n",
       "    </tr>\n",
       "    <tr>\n",
       "      <th>...</th>\n",
       "      <td>...</td>\n",
       "      <td>...</td>\n",
       "      <td>...</td>\n",
       "      <td>...</td>\n",
       "      <td>...</td>\n",
       "      <td>...</td>\n",
       "      <td>...</td>\n",
       "      <td>...</td>\n",
       "      <td>...</td>\n",
       "      <td>...</td>\n",
       "      <td>...</td>\n",
       "      <td>...</td>\n",
       "      <td>...</td>\n",
       "      <td>...</td>\n",
       "      <td>...</td>\n",
       "      <td>...</td>\n",
       "      <td>...</td>\n",
       "      <td>...</td>\n",
       "      <td>...</td>\n",
       "      <td>...</td>\n",
       "      <td>...</td>\n",
       "    </tr>\n",
       "    <tr>\n",
       "      <th>10112</th>\n",
       "      <td>708564858</td>\n",
       "      <td>Attrited Customer</td>\n",
       "      <td>33</td>\n",
       "      <td>M</td>\n",
       "      <td>2</td>\n",
       "      <td>College</td>\n",
       "      <td>Married</td>\n",
       "      <td>$120K +</td>\n",
       "      <td>Gold</td>\n",
       "      <td>20</td>\n",
       "      <td>...</td>\n",
       "      <td>34516.0</td>\n",
       "      <td>0</td>\n",
       "      <td>34516.0</td>\n",
       "      <td>1.004</td>\n",
       "      <td>9338</td>\n",
       "      <td>73</td>\n",
       "      <td>0.622</td>\n",
       "      <td>0.000</td>\n",
       "      <td>0.99438</td>\n",
       "      <td>0.005620</td>\n",
       "    </tr>\n",
       "    <tr>\n",
       "      <th>10113</th>\n",
       "      <td>713733633</td>\n",
       "      <td>Attrited Customer</td>\n",
       "      <td>27</td>\n",
       "      <td>M</td>\n",
       "      <td>0</td>\n",
       "      <td>High School</td>\n",
       "      <td>Divorced</td>\n",
       "      <td>$60K - $80K</td>\n",
       "      <td>Blue</td>\n",
       "      <td>36</td>\n",
       "      <td>...</td>\n",
       "      <td>13303.0</td>\n",
       "      <td>2517</td>\n",
       "      <td>10786.0</td>\n",
       "      <td>0.929</td>\n",
       "      <td>10219</td>\n",
       "      <td>85</td>\n",
       "      <td>0.809</td>\n",
       "      <td>0.189</td>\n",
       "      <td>0.99338</td>\n",
       "      <td>0.006620</td>\n",
       "    </tr>\n",
       "    <tr>\n",
       "      <th>10118</th>\n",
       "      <td>713755458</td>\n",
       "      <td>Attrited Customer</td>\n",
       "      <td>50</td>\n",
       "      <td>M</td>\n",
       "      <td>1</td>\n",
       "      <td>Unknown</td>\n",
       "      <td>Unknown</td>\n",
       "      <td>$80K - $120K</td>\n",
       "      <td>Blue</td>\n",
       "      <td>36</td>\n",
       "      <td>...</td>\n",
       "      <td>9959.0</td>\n",
       "      <td>952</td>\n",
       "      <td>9007.0</td>\n",
       "      <td>0.825</td>\n",
       "      <td>10310</td>\n",
       "      <td>63</td>\n",
       "      <td>1.100</td>\n",
       "      <td>0.096</td>\n",
       "      <td>0.99813</td>\n",
       "      <td>0.001874</td>\n",
       "    </tr>\n",
       "    <tr>\n",
       "      <th>10123</th>\n",
       "      <td>710638233</td>\n",
       "      <td>Attrited Customer</td>\n",
       "      <td>41</td>\n",
       "      <td>M</td>\n",
       "      <td>2</td>\n",
       "      <td>Unknown</td>\n",
       "      <td>Divorced</td>\n",
       "      <td>$40K - $60K</td>\n",
       "      <td>Blue</td>\n",
       "      <td>25</td>\n",
       "      <td>...</td>\n",
       "      <td>4277.0</td>\n",
       "      <td>2186</td>\n",
       "      <td>2091.0</td>\n",
       "      <td>0.804</td>\n",
       "      <td>8764</td>\n",
       "      <td>69</td>\n",
       "      <td>0.683</td>\n",
       "      <td>0.511</td>\n",
       "      <td>0.99527</td>\n",
       "      <td>0.004729</td>\n",
       "    </tr>\n",
       "    <tr>\n",
       "      <th>10125</th>\n",
       "      <td>717406983</td>\n",
       "      <td>Attrited Customer</td>\n",
       "      <td>30</td>\n",
       "      <td>M</td>\n",
       "      <td>2</td>\n",
       "      <td>Graduate</td>\n",
       "      <td>Unknown</td>\n",
       "      <td>$40K - $60K</td>\n",
       "      <td>Blue</td>\n",
       "      <td>36</td>\n",
       "      <td>...</td>\n",
       "      <td>5281.0</td>\n",
       "      <td>0</td>\n",
       "      <td>5281.0</td>\n",
       "      <td>0.535</td>\n",
       "      <td>8395</td>\n",
       "      <td>62</td>\n",
       "      <td>0.722</td>\n",
       "      <td>0.000</td>\n",
       "      <td>0.99671</td>\n",
       "      <td>0.003294</td>\n",
       "    </tr>\n",
       "  </tbody>\n",
       "</table>\n",
       "<p>697 rows × 23 columns</p>\n",
       "</div>"
      ],
      "text/plain": [
       "       CLIENTNUM     Attrition_Flag  Customer_Age Gender  Dependent_count  \\\n",
       "54     714374133  Attrited Customer            56      M                2   \n",
       "61     712030833  Attrited Customer            48      M                2   \n",
       "99     711887583  Attrited Customer            47      M                2   \n",
       "127    720201033  Attrited Customer            53      M                2   \n",
       "144    767712558  Attrited Customer            59      M                1   \n",
       "...          ...                ...           ...    ...              ...   \n",
       "10112  708564858  Attrited Customer            33      M                2   \n",
       "10113  713733633  Attrited Customer            27      M                0   \n",
       "10118  713755458  Attrited Customer            50      M                1   \n",
       "10123  710638233  Attrited Customer            41      M                2   \n",
       "10125  717406983  Attrited Customer            30      M                2   \n",
       "\n",
       "      Education_Level Marital_Status Income_Category Card_Category  \\\n",
       "54           Graduate        Married         $120K +          Blue   \n",
       "61           Graduate        Married     $60K - $80K        Silver   \n",
       "99            Unknown        Married    $80K - $120K          Blue   \n",
       "127          Graduate        Married    $80K - $120K          Blue   \n",
       "144           College         Single     $60K - $80K          Blue   \n",
       "...               ...            ...             ...           ...   \n",
       "10112         College        Married         $120K +          Gold   \n",
       "10113     High School       Divorced     $60K - $80K          Blue   \n",
       "10118         Unknown        Unknown    $80K - $120K          Blue   \n",
       "10123         Unknown       Divorced     $40K - $60K          Blue   \n",
       "10125        Graduate        Unknown     $40K - $60K          Blue   \n",
       "\n",
       "       Months_on_book  ...  Credit_Limit  Total_Revolving_Bal  \\\n",
       "54                 36  ...       15769.0                    0   \n",
       "61                 35  ...       34516.0                    0   \n",
       "99                 37  ...        5449.0                 1628   \n",
       "127                41  ...       11669.0                 2227   \n",
       "144                53  ...       14979.0                    0   \n",
       "...               ...  ...           ...                  ...   \n",
       "10112              20  ...       34516.0                    0   \n",
       "10113              36  ...       13303.0                 2517   \n",
       "10118              36  ...        9959.0                  952   \n",
       "10123              25  ...        4277.0                 2186   \n",
       "10125              36  ...        5281.0                    0   \n",
       "\n",
       "       Avg_Open_To_Buy  Total_Amt_Chng_Q4_Q1  Total_Trans_Amt  Total_Trans_Ct  \\\n",
       "54             15769.0                 1.041              602              15   \n",
       "61             34516.0                 0.763              691              15   \n",
       "99              3821.0                 0.696              836              18   \n",
       "127             9442.0                 0.622              720              23   \n",
       "144            14979.0                 0.710              530              10   \n",
       "...                ...                   ...              ...             ...   \n",
       "10112          34516.0                 1.004             9338              73   \n",
       "10113          10786.0                 0.929            10219              85   \n",
       "10118           9007.0                 0.825            10310              63   \n",
       "10123           2091.0                 0.804             8764              69   \n",
       "10125           5281.0                 0.535             8395              62   \n",
       "\n",
       "       Total_Ct_Chng_Q4_Q1  Avg_Utilization_Ratio  \\\n",
       "54                   0.364                  0.000   \n",
       "61                   0.500                  0.000   \n",
       "99                   0.385                  0.299   \n",
       "127                  0.353                  0.191   \n",
       "144                  1.000                  0.000   \n",
       "...                    ...                    ...   \n",
       "10112                0.622                  0.000   \n",
       "10113                0.809                  0.189   \n",
       "10118                1.100                  0.096   \n",
       "10123                0.683                  0.511   \n",
       "10125                0.722                  0.000   \n",
       "\n",
       "       Naive_Bayes_Classifier_Attrition_Flag_Card_Category_Contacts_Count_12_mon_Dependent_count_Education_Level_Months_Inactive_12_mon_1  \\\n",
       "54                                               0.99671                                                                                    \n",
       "61                                               0.99823                                                                                    \n",
       "99                                               0.99700                                                                                    \n",
       "127                                              0.99447                                                                                    \n",
       "144                                              0.99639                                                                                    \n",
       "...                                                  ...                                                                                    \n",
       "10112                                            0.99438                                                                                    \n",
       "10113                                            0.99338                                                                                    \n",
       "10118                                            0.99813                                                                                    \n",
       "10123                                            0.99527                                                                                    \n",
       "10125                                            0.99671                                                                                    \n",
       "\n",
       "       Naive_Bayes_Classifier_Attrition_Flag_Card_Category_Contacts_Count_12_mon_Dependent_count_Education_Level_Months_Inactive_12_mon_2  \n",
       "54                                              0.003294                                                                                   \n",
       "61                                              0.001771                                                                                   \n",
       "99                                              0.002997                                                                                   \n",
       "127                                             0.005530                                                                                   \n",
       "144                                             0.003608                                                                                   \n",
       "...                                                  ...                                                                                   \n",
       "10112                                           0.005620                                                                                   \n",
       "10113                                           0.006620                                                                                   \n",
       "10118                                           0.001874                                                                                   \n",
       "10123                                           0.004729                                                                                   \n",
       "10125                                           0.003294                                                                                   \n",
       "\n",
       "[697 rows x 23 columns]"
      ]
     },
     "execution_count": 5,
     "metadata": {},
     "output_type": "execute_result"
    }
   ],
   "source": [
    "data.loc[ (data['Gender'] == 'M') & (data['Attrition_Flag'] == 'Attrited Customer' ) ]"
   ]
  },
  {
   "cell_type": "code",
   "execution_count": 6,
   "id": "04aaf86d-e5cc-401a-af11-83bbd90300e8",
   "metadata": {},
   "outputs": [
    {
     "data": {
      "text/plain": [
       "CLIENTNUM                                                                                                                               int64\n",
       "Attrition_Flag                                                                                                                         object\n",
       "Customer_Age                                                                                                                            int64\n",
       "Gender                                                                                                                                 object\n",
       "Dependent_count                                                                                                                         int64\n",
       "Education_Level                                                                                                                        object\n",
       "Marital_Status                                                                                                                         object\n",
       "Income_Category                                                                                                                        object\n",
       "Card_Category                                                                                                                          object\n",
       "Months_on_book                                                                                                                          int64\n",
       "Total_Relationship_Count                                                                                                                int64\n",
       "Months_Inactive_12_mon                                                                                                                  int64\n",
       "Contacts_Count_12_mon                                                                                                                   int64\n",
       "Credit_Limit                                                                                                                          float64\n",
       "Total_Revolving_Bal                                                                                                                     int64\n",
       "Avg_Open_To_Buy                                                                                                                       float64\n",
       "Total_Amt_Chng_Q4_Q1                                                                                                                  float64\n",
       "Total_Trans_Amt                                                                                                                         int64\n",
       "Total_Trans_Ct                                                                                                                          int64\n",
       "Total_Ct_Chng_Q4_Q1                                                                                                                   float64\n",
       "Avg_Utilization_Ratio                                                                                                                 float64\n",
       "Naive_Bayes_Classifier_Attrition_Flag_Card_Category_Contacts_Count_12_mon_Dependent_count_Education_Level_Months_Inactive_12_mon_1    float64\n",
       "Naive_Bayes_Classifier_Attrition_Flag_Card_Category_Contacts_Count_12_mon_Dependent_count_Education_Level_Months_Inactive_12_mon_2    float64\n",
       "dtype: object"
      ]
     },
     "execution_count": 6,
     "metadata": {},
     "output_type": "execute_result"
    }
   ],
   "source": [
    "data.dtypes"
   ]
  },
  {
   "cell_type": "markdown",
   "id": "811d79ef-3132-4052-ac56-5e08e8740b29",
   "metadata": {},
   "source": [
    "# EXAMEN LIMPIEZA DE DATOS\n",
    "*def: Un gerente comercial de una cartera de tarjetas de crédito de consumo se enfrenta al problema de la deserción de clientes. Quieren analizar los datos para descubrir la razón detrás de esto y aprovechar lo mismo para predecir los clientes que probablemente abandonarán* \\\n",
    "1. Tratar variables nulas"
   ]
  },
  {
   "cell_type": "code",
   "execution_count": 7,
   "id": "e9cefa6a-5419-4921-8f61-622cc30542df",
   "metadata": {},
   "outputs": [
    {
     "data": {
      "text/plain": [
       "Index(['Attrition_Flag', 'Gender', 'Education_Level', 'Marital_Status',\n",
       "       'Income_Category', 'Card_Category'],\n",
       "      dtype='object')"
      ]
     },
     "execution_count": 7,
     "metadata": {},
     "output_type": "execute_result"
    }
   ],
   "source": [
    "data.select_dtypes('object').columns"
   ]
  },
  {
   "cell_type": "code",
   "execution_count": 8,
   "id": "3cc271ee-462f-44ac-b536-49f7c035c2d0",
   "metadata": {},
   "outputs": [
    {
     "data": {
      "text/plain": [
       "Index(['CLIENTNUM', 'Customer_Age', 'Dependent_count', 'Months_on_book',\n",
       "       'Total_Relationship_Count', 'Months_Inactive_12_mon',\n",
       "       'Contacts_Count_12_mon', 'Total_Revolving_Bal', 'Total_Trans_Amt',\n",
       "       'Total_Trans_Ct'],\n",
       "      dtype='object')"
      ]
     },
     "execution_count": 8,
     "metadata": {},
     "output_type": "execute_result"
    }
   ],
   "source": [
    "data.select_dtypes('int64').columns"
   ]
  },
  {
   "cell_type": "code",
   "execution_count": 9,
   "id": "8feb0694-57bc-42c5-8315-6ef71476dace",
   "metadata": {},
   "outputs": [
    {
     "data": {
      "text/plain": [
       "Index(['Credit_Limit', 'Avg_Open_To_Buy', 'Total_Amt_Chng_Q4_Q1',\n",
       "       'Total_Ct_Chng_Q4_Q1', 'Avg_Utilization_Ratio',\n",
       "       'Naive_Bayes_Classifier_Attrition_Flag_Card_Category_Contacts_Count_12_mon_Dependent_count_Education_Level_Months_Inactive_12_mon_1',\n",
       "       'Naive_Bayes_Classifier_Attrition_Flag_Card_Category_Contacts_Count_12_mon_Dependent_count_Education_Level_Months_Inactive_12_mon_2'],\n",
       "      dtype='object')"
      ]
     },
     "execution_count": 9,
     "metadata": {},
     "output_type": "execute_result"
    }
   ],
   "source": [
    "data.select_dtypes('float64').columns"
   ]
  },
  {
   "cell_type": "markdown",
   "id": "e91aa6ff-e537-487e-8dc7-9c640ef2b3e9",
   "metadata": {},
   "source": [
    "- En caso de que la columna tenga mas del 90% de valores nulos excluir "
   ]
  },
  {
   "cell_type": "code",
   "execution_count": 10,
   "id": "ece7a226-4d09-4f12-ad23-479db3c00468",
   "metadata": {},
   "outputs": [
    {
     "data": {
      "text/plain": [
       "CLIENTNUM                                                                                                                             0\n",
       "Attrition_Flag                                                                                                                        0\n",
       "Customer_Age                                                                                                                          0\n",
       "Gender                                                                                                                                0\n",
       "Dependent_count                                                                                                                       0\n",
       "Education_Level                                                                                                                       0\n",
       "Marital_Status                                                                                                                        0\n",
       "Income_Category                                                                                                                       0\n",
       "Card_Category                                                                                                                         0\n",
       "Months_on_book                                                                                                                        0\n",
       "Total_Relationship_Count                                                                                                              0\n",
       "Months_Inactive_12_mon                                                                                                                0\n",
       "Contacts_Count_12_mon                                                                                                                 0\n",
       "Credit_Limit                                                                                                                          0\n",
       "Total_Revolving_Bal                                                                                                                   0\n",
       "Avg_Open_To_Buy                                                                                                                       0\n",
       "Total_Amt_Chng_Q4_Q1                                                                                                                  0\n",
       "Total_Trans_Amt                                                                                                                       0\n",
       "Total_Trans_Ct                                                                                                                        0\n",
       "Total_Ct_Chng_Q4_Q1                                                                                                                   0\n",
       "Avg_Utilization_Ratio                                                                                                                 0\n",
       "Naive_Bayes_Classifier_Attrition_Flag_Card_Category_Contacts_Count_12_mon_Dependent_count_Education_Level_Months_Inactive_12_mon_1    0\n",
       "Naive_Bayes_Classifier_Attrition_Flag_Card_Category_Contacts_Count_12_mon_Dependent_count_Education_Level_Months_Inactive_12_mon_2    0\n",
       "dtype: int64"
      ]
     },
     "execution_count": 10,
     "metadata": {},
     "output_type": "execute_result"
    }
   ],
   "source": [
    "data.isnull().sum() ## Para ver resumen de las columnas con el conteo de valores nulos."
   ]
  },
  {
   "cell_type": "code",
   "execution_count": 11,
   "id": "556cce3c-d56e-4030-a7c7-87c68852d134",
   "metadata": {},
   "outputs": [],
   "source": [
    "columns_valid = []\n",
    "for column_ in data.columns:\n",
    "    percentage = np.sum(pd.isna( data.loc[ : , column_ ] )) / data.shape[0]\n",
    "    if percentage <= 0.9:\n",
    "        columns_valid.append(column_)\n",
    "    else:\n",
    "        data = data.drop(columns=column_)"
   ]
  },
  {
   "cell_type": "code",
   "execution_count": 12,
   "id": "d295c9aa-0fd1-4d38-840d-5576bb7607ce",
   "metadata": {},
   "outputs": [
    {
     "data": {
      "text/plain": [
       "['CLIENTNUM',\n",
       " 'Attrition_Flag',\n",
       " 'Customer_Age',\n",
       " 'Gender',\n",
       " 'Dependent_count',\n",
       " 'Education_Level',\n",
       " 'Marital_Status',\n",
       " 'Income_Category',\n",
       " 'Card_Category',\n",
       " 'Months_on_book',\n",
       " 'Total_Relationship_Count',\n",
       " 'Months_Inactive_12_mon',\n",
       " 'Contacts_Count_12_mon',\n",
       " 'Credit_Limit',\n",
       " 'Total_Revolving_Bal',\n",
       " 'Avg_Open_To_Buy',\n",
       " 'Total_Amt_Chng_Q4_Q1',\n",
       " 'Total_Trans_Amt',\n",
       " 'Total_Trans_Ct',\n",
       " 'Total_Ct_Chng_Q4_Q1',\n",
       " 'Avg_Utilization_Ratio',\n",
       " 'Naive_Bayes_Classifier_Attrition_Flag_Card_Category_Contacts_Count_12_mon_Dependent_count_Education_Level_Months_Inactive_12_mon_1',\n",
       " 'Naive_Bayes_Classifier_Attrition_Flag_Card_Category_Contacts_Count_12_mon_Dependent_count_Education_Level_Months_Inactive_12_mon_2']"
      ]
     },
     "execution_count": 12,
     "metadata": {},
     "output_type": "execute_result"
    }
   ],
   "source": [
    "columns_valid ## Veremos la columnas validas (con menos del 90% de valores nulos)"
   ]
  },
  {
   "cell_type": "markdown",
   "id": "c9d56705-f12c-41ec-8396-2012442d8599",
   "metadata": {},
   "source": [
    "*Quitar columnas con un unico nivel (100% de representatividad), \\\n",
    "columnas con la totalidad de valores distintos (1% de representatividad) \\\n",
    "Columnas con más de un nivel y que al menos 1 nivel tengo más del 70% de representatividad*"
   ]
  },
  {
   "cell_type": "code",
   "execution_count": 13,
   "id": "bc730032-5046-417e-a8fe-faf3cbe4f5ca",
   "metadata": {},
   "outputs": [],
   "source": [
    "columnsAnalisys = [] \n",
    "for c_ in data.columns:\n",
    "    val = data.loc[ :, c_ ].drop_duplicates()\n",
    "    if (val.shape[0] > 1) & (val.shape[0] < data.shape[0]):\n",
    "        dfTmp = data.groupby(c_, as_index = False).agg({'CLIENTNUM': ['count']})\n",
    "        dfTmp.columns = dfTmp.columns.droplevel(1)\n",
    "        dfTmp['porcentage'] = dfTmp.apply(lambda r: ((r['CLIENTNUM'])/data.shape[0])*100, axis = 1)\n",
    "        valR = dfTmp.loc[ dfTmp['porcentage'] >= 70, : ].shape[0]\n",
    "        if valR == 0:\n",
    "            columnsAnalisys.append(c_)"
   ]
  },
  {
   "cell_type": "code",
   "execution_count": 14,
   "id": "831da4bc-a4a1-456b-be06-1785e8be03c7",
   "metadata": {},
   "outputs": [
    {
     "data": {
      "text/plain": [
       "['Customer_Age',\n",
       " 'Gender',\n",
       " 'Dependent_count',\n",
       " 'Education_Level',\n",
       " 'Marital_Status',\n",
       " 'Income_Category',\n",
       " 'Months_on_book',\n",
       " 'Total_Relationship_Count',\n",
       " 'Months_Inactive_12_mon',\n",
       " 'Contacts_Count_12_mon',\n",
       " 'Credit_Limit',\n",
       " 'Total_Revolving_Bal',\n",
       " 'Avg_Open_To_Buy',\n",
       " 'Total_Amt_Chng_Q4_Q1',\n",
       " 'Total_Trans_Amt',\n",
       " 'Total_Trans_Ct',\n",
       " 'Total_Ct_Chng_Q4_Q1',\n",
       " 'Avg_Utilization_Ratio',\n",
       " 'Naive_Bayes_Classifier_Attrition_Flag_Card_Category_Contacts_Count_12_mon_Dependent_count_Education_Level_Months_Inactive_12_mon_1',\n",
       " 'Naive_Bayes_Classifier_Attrition_Flag_Card_Category_Contacts_Count_12_mon_Dependent_count_Education_Level_Months_Inactive_12_mon_2']"
      ]
     },
     "execution_count": 14,
     "metadata": {},
     "output_type": "execute_result"
    }
   ],
   "source": [
    "columnsAnalisys"
   ]
  },
  {
   "cell_type": "code",
   "execution_count": 15,
   "id": "22203ae4-9b2a-4d13-8fa5-3bbdbea8ca02",
   "metadata": {},
   "outputs": [],
   "source": [
    "columns_valid = ['Customer_Age',\n",
    " 'Dependent_count',\n",
    " 'Education_Level',\n",
    " 'Marital_Status',\n",
    " 'Income_Category',\n",
    " 'Months_on_book',\n",
    " 'Total_Relationship_Count',\n",
    " 'Months_Inactive_12_mon',\n",
    " 'Contacts_Count_12_mon',\n",
    " 'Credit_Limit',\n",
    " 'Total_Revolving_Bal',\n",
    " 'Avg_Open_To_Buy',\n",
    " 'Total_Amt_Chng_Q4_Q1',\n",
    " 'Total_Trans_Amt',\n",
    " 'Total_Trans_Ct',\n",
    " 'Total_Ct_Chng_Q4_Q1',\n",
    " 'Avg_Utilization_Ratio']"
   ]
  },
  {
   "cell_type": "markdown",
   "id": "f303036e-d2d1-46fe-b517-53918e6a671e",
   "metadata": {
    "tags": []
   },
   "source": [
    "### Nota: \n",
    "Se decidió retirar la columna \"*Gender*\" para evitar estratificar la data con un sesgo relacionado al genero de la persona, porque nos podría afectar directamente al resultado. Lo orientamos al analisis imparcial al genero, es decir, no buscamos obtener respuesta de si es una persona Masculina o femenina la que está en riesgo de deserción, simplemente si lo está o no.\n",
    "\n",
    "Se retiraron las columnas \"*Naive_Bayes_Classifier_Attrition_Flag_Card_Category_Contacts_Count_12_mon_Dependent_count_Education_Level_Months_Inactive_12_mon_1* y *Naive_Bayes_Classifier_Attrition_Flag_Card_Category_Contacts_Count_12_mon_Dependent_count_Education_Level_Months_Inactive_12_mon_2*\" porque representan variables de respuestas o etiquetas"
   ]
  },
  {
   "cell_type": "code",
   "execution_count": 16,
   "id": "0dc1bc24-b0f3-4c3e-9889-89efc1229230",
   "metadata": {},
   "outputs": [],
   "source": [
    "columns_valid.append('Attrition_Flag')\n",
    "columns_valid.append('Card_Category')"
   ]
  },
  {
   "cell_type": "markdown",
   "id": "cab387b6-205b-49f0-80e3-cadef6ae3c12",
   "metadata": {
    "tags": []
   },
   "source": [
    "### Nota:\n",
    "Se deciden agregar las siguientes columnas:\n",
    "- \"*Attrition_Flag:* \" Se decide agregar para estratificar los registros por \"*Personas activas e inactivas*\", considerando está columna como la que contiene las categorias más grandes por las que podemos estratificar al no tener una columna de fechas para orientar a otro punto de vista el analisis. A pesar que un único nivel representa el 84% del total de la data\n",
    "- \"*Card_Category:* \" Se decide agregar porque la categoria de la tarjeta está orientada a la decisión del cliente y tendríamos la segunda categoría más grande de estratificación."
   ]
  },
  {
   "cell_type": "code",
   "execution_count": 17,
   "id": "3d005689-cce6-4c64-9d89-17ade96c99d9",
   "metadata": {},
   "outputs": [
    {
     "data": {
      "text/plain": [
       "['Customer_Age',\n",
       " 'Dependent_count',\n",
       " 'Education_Level',\n",
       " 'Marital_Status',\n",
       " 'Income_Category',\n",
       " 'Months_on_book',\n",
       " 'Total_Relationship_Count',\n",
       " 'Months_Inactive_12_mon',\n",
       " 'Contacts_Count_12_mon',\n",
       " 'Credit_Limit',\n",
       " 'Total_Revolving_Bal',\n",
       " 'Avg_Open_To_Buy',\n",
       " 'Total_Amt_Chng_Q4_Q1',\n",
       " 'Total_Trans_Amt',\n",
       " 'Total_Trans_Ct',\n",
       " 'Total_Ct_Chng_Q4_Q1',\n",
       " 'Avg_Utilization_Ratio',\n",
       " 'Attrition_Flag',\n",
       " 'Card_Category']"
      ]
     },
     "execution_count": 17,
     "metadata": {},
     "output_type": "execute_result"
    }
   ],
   "source": [
    "columns_valid"
   ]
  },
  {
   "cell_type": "markdown",
   "id": "1d46689b-6ad4-49e1-8588-d55978f52bb7",
   "metadata": {},
   "source": [
    "- Limpieza de valores númericas"
   ]
  },
  {
   "cell_type": "code",
   "execution_count": 18,
   "id": "18e8ef6c-9ccf-476a-a504-14ab828bd86d",
   "metadata": {},
   "outputs": [],
   "source": [
    "## Attrition_Flag\n",
    "## Tarjetas"
   ]
  },
  {
   "cell_type": "code",
   "execution_count": 19,
   "id": "858e333e-b078-47a5-9607-e7bac7647bd1",
   "metadata": {},
   "outputs": [
    {
     "data": {
      "text/plain": [
       "Attrition_Flag   \n",
       "Existing Customer    0.83934\n",
       "Attrited Customer    0.16066\n",
       "dtype: float64"
      ]
     },
     "execution_count": 19,
     "metadata": {},
     "output_type": "execute_result"
    }
   ],
   "source": [
    "data.loc[:, ['Attrition_Flag']].value_counts() / data.shape[0]"
   ]
  },
  {
   "cell_type": "code",
   "execution_count": 20,
   "id": "5f6954bd-36ea-43ac-b4cf-3bb9eff2a109",
   "metadata": {},
   "outputs": [
    {
     "data": {
      "text/plain": [
       "{'whiskers': [<matplotlib.lines.Line2D at 0x1ef02823610>,\n",
       "  <matplotlib.lines.Line2D at 0x1ef028238e0>],\n",
       " 'caps': [<matplotlib.lines.Line2D at 0x1ef02823c70>,\n",
       "  <matplotlib.lines.Line2D at 0x1ef02823e80>],\n",
       " 'boxes': [<matplotlib.lines.Line2D at 0x1ef02823340>],\n",
       " 'medians': [<matplotlib.lines.Line2D at 0x1ef02845190>],\n",
       " 'fliers': [<matplotlib.lines.Line2D at 0x1ef02845460>],\n",
       " 'means': []}"
      ]
     },
     "execution_count": 20,
     "metadata": {},
     "output_type": "execute_result"
    },
    {
     "data": {
      "image/png": "[encoded data removed]",
      "text/plain": [
       "<Figure size 432x288 with 1 Axes>"
      ]
     },
     "metadata": {
      "needs_background": "light"
     },
     "output_type": "display_data"
    }
   ],
   "source": [
    "plt.boxplot(data.loc[:, ['Attrition_Flag']].value_counts())"
   ]
  },
  {
   "cell_type": "markdown",
   "id": "da36c389-0b83-45be-a776-71926c36929f",
   "metadata": {},
   "source": [
    "Trabajamos ambos valores de \"*Attrition_Flag*\" porque el que representa el menor porcentaje, es un 16% y consideramos es demasiado información perdida."
   ]
  },
  {
   "cell_type": "code",
   "execution_count": 21,
   "id": "a1731518-b0c2-45cc-a28b-add2ba798210",
   "metadata": {},
   "outputs": [
    {
     "data": {
      "text/plain": [
       "Card_Category\n",
       "Blue             9436\n",
       "Silver            555\n",
       "Gold              116\n",
       "Platinum           20\n",
       "dtype: int64"
      ]
     },
     "execution_count": 21,
     "metadata": {},
     "output_type": "execute_result"
    }
   ],
   "source": [
    "data.loc[:, ['Card_Category']].value_counts()"
   ]
  },
  {
   "cell_type": "code",
   "execution_count": 22,
   "id": "5c3e90e8-887d-456c-bf44-13fc09986e09",
   "metadata": {},
   "outputs": [
    {
     "data": {
      "text/plain": [
       "Card_Category\n",
       "Blue             0.931767\n",
       "Silver           0.054804\n",
       "Gold             0.011455\n",
       "Platinum         0.001975\n",
       "dtype: float64"
      ]
     },
     "execution_count": 22,
     "metadata": {},
     "output_type": "execute_result"
    }
   ],
   "source": [
    "data.loc[:, ['Card_Category']].value_counts() / data.shape[0]"
   ]
  },
  {
   "cell_type": "code",
   "execution_count": 23,
   "id": "3a8ee7b3-cc12-4e49-8c47-c8c8ac148ee3",
   "metadata": {},
   "outputs": [
    {
     "data": {
      "text/plain": [
       "{'whiskers': [<matplotlib.lines.Line2D at 0x1ef02925100>,\n",
       "  <matplotlib.lines.Line2D at 0x1ef029253d0>],\n",
       " 'caps': [<matplotlib.lines.Line2D at 0x1ef029256a0>,\n",
       "  <matplotlib.lines.Line2D at 0x1ef02925970>],\n",
       " 'boxes': [<matplotlib.lines.Line2D at 0x1ef02914df0>],\n",
       " 'medians': [<matplotlib.lines.Line2D at 0x1ef02925c40>],\n",
       " 'fliers': [<matplotlib.lines.Line2D at 0x1ef02925f10>],\n",
       " 'means': []}"
      ]
     },
     "execution_count": 23,
     "metadata": {},
     "output_type": "execute_result"
    },
    {
     "data": {
      "image/png": "[encoded data removed]",
      "text/plain": [
       "<Figure size 432x288 with 1 Axes>"
      ]
     },
     "metadata": {
      "needs_background": "light"
     },
     "output_type": "display_data"
    }
   ],
   "source": [
    "plt.boxplot(data.loc[:, ['Card_Category']].value_counts())"
   ]
  },
  {
   "cell_type": "markdown",
   "id": "d6c3a78c-a70e-45be-9bfc-9dab42a881cf",
   "metadata": {},
   "source": [
    "### Nota:\n",
    "- Se decide excluir los valores *platinum* y *gold* de las categorias de tarjetas de credito, porque juntas representan menos del 2%"
   ]
  },
  {
   "cell_type": "code",
   "execution_count": 24,
   "id": "6c053efd-7e14-4703-9d52-34fbe5bc9fde",
   "metadata": {},
   "outputs": [],
   "source": [
    "data = data.loc[ (data['Card_Category'] != 'Platinum') & (data['Card_Category'] != 'Gold'), : ]"
   ]
  },
  {
   "cell_type": "code",
   "execution_count": 25,
   "id": "5cde1277-4263-4acb-b74b-782cfe2cdb9a",
   "metadata": {},
   "outputs": [
    {
     "data": {
      "text/plain": [
       "{'whiskers': [<matplotlib.lines.Line2D at 0x1ef02976fa0>,\n",
       "  <matplotlib.lines.Line2D at 0x1ef029852b0>],\n",
       " 'caps': [<matplotlib.lines.Line2D at 0x1ef02985580>,\n",
       "  <matplotlib.lines.Line2D at 0x1ef02985850>],\n",
       " 'boxes': [<matplotlib.lines.Line2D at 0x1ef02976cd0>],\n",
       " 'medians': [<matplotlib.lines.Line2D at 0x1ef02985b20>],\n",
       " 'fliers': [<matplotlib.lines.Line2D at 0x1ef02985df0>],\n",
       " 'means': []}"
      ]
     },
     "execution_count": 25,
     "metadata": {},
     "output_type": "execute_result"
    },
    {
     "data": {
      "image/png": "[encoded data removed]",
      "text/plain": [
       "<Figure size 432x288 with 1 Axes>"
      ]
     },
     "metadata": {
      "needs_background": "light"
     },
     "output_type": "display_data"
    }
   ],
   "source": [
    "plt.boxplot(data.loc[:, ['Card_Category']].value_counts())"
   ]
  },
  {
   "cell_type": "markdown",
   "id": "a9793bc7-a402-4963-8dbe-a1ddeebaa349",
   "metadata": {
    "tags": []
   },
   "source": [
    "### ANALISIS PARA LA VARIABLE NUMERICA *CREDIT_LIMIT*"
   ]
  },
  {
   "cell_type": "code",
   "execution_count": 26,
   "id": "d35898dc-14dd-4078-81ca-7d86322a752f",
   "metadata": {},
   "outputs": [
    {
     "data": {
      "text/plain": [
       "<AxesSubplot:xlabel='Card_Category', ylabel='Credit_Limit'>"
      ]
     },
     "execution_count": 26,
     "metadata": {},
     "output_type": "execute_result"
    },
    {
     "data": {
      "image/png": "[encoded data removed]",
      "text/plain": [
       "<Figure size 432x288 with 1 Axes>"
      ]
     },
     "metadata": {
      "needs_background": "light"
     },
     "output_type": "display_data"
    }
   ],
   "source": [
    "sns.boxplot(data = data.loc[ (data['Attrition_Flag'] == 'Existing Customer'), : ], x= 'Card_Category', y ='Credit_Limit' )"
   ]
  },
  {
   "cell_type": "markdown",
   "id": "d15c29a1-ae8a-47be-b426-0bad5f7ba34b",
   "metadata": {
    "tags": []
   },
   "source": [
    "# Caso #1\n",
    "- *Attrition_Flag:* Existing Customer\n",
    "- *Card_Category:* Blue\n",
    "- *Education_Level:* Uneducated\n",
    "- *Marital_Status:* Married"
   ]
  },
  {
   "cell_type": "code",
   "execution_count": 27,
   "id": "dcd6befa-998b-404f-ac9c-821c4f15898c",
   "metadata": {},
   "outputs": [
    {
     "data": {
      "text/plain": [
       "<AxesSubplot:xlabel='Education_Level', ylabel='Credit_Limit'>"
      ]
     },
     "execution_count": 27,
     "metadata": {},
     "output_type": "execute_result"
    },
    {
     "data": {
      "image/png": "[encoded data removed]",
      "text/plain": [
       "<Figure size 432x288 with 1 Axes>"
      ]
     },
     "metadata": {
      "needs_background": "light"
     },
     "output_type": "display_data"
    }
   ],
   "source": [
    "sns.boxplot(data = data.loc[ (data['Attrition_Flag'] == 'Existing Customer') & (data['Card_Category'] == 'Blue'), : ], x= 'Education_Level', y ='Credit_Limit' )"
   ]
  },
  {
   "cell_type": "code",
   "execution_count": 28,
   "id": "becdd929-3800-4633-b5b8-dabbfd87a365",
   "metadata": {},
   "outputs": [
    {
     "data": {
      "text/plain": [
       "<AxesSubplot:xlabel='Marital_Status', ylabel='Credit_Limit'>"
      ]
     },
     "execution_count": 28,
     "metadata": {},
     "output_type": "execute_result"
    },
    {
     "data": {
      "image/png": "[encoded data removed]",
      "text/plain": [
       "<Figure size 432x288 with 1 Axes>"
      ]
     },
     "metadata": {
      "needs_background": "light"
     },
     "output_type": "display_data"
    }
   ],
   "source": [
    "sns.boxplot(data = data.loc[ (data['Attrition_Flag'] == 'Existing Customer') & (data['Card_Category'] == 'Blue') & (data['Education_Level'] == 'Uneducated'), : ], x= 'Marital_Status', y ='Credit_Limit' )"
   ]
  },
  {
   "cell_type": "code",
   "execution_count": 29,
   "id": "fe501948-2ce0-458e-a76f-9ca5539ae368",
   "metadata": {},
   "outputs": [
    {
     "data": {
      "text/plain": [
       "<AxesSubplot:xlabel='Income_Category', ylabel='Credit_Limit'>"
      ]
     },
     "execution_count": 29,
     "metadata": {},
     "output_type": "execute_result"
    },
    {
     "data": {
      "image/png": "[encoded data removed]",
      "text/plain": [
       "<Figure size 432x288 with 1 Axes>"
      ]
     },
     "metadata": {
      "needs_background": "light"
     },
     "output_type": "display_data"
    }
   ],
   "source": [
    "sns.boxplot(data = data.loc[ (data['Attrition_Flag'] == 'Existing Customer') & (data['Card_Category'] == 'Blue') & (data['Education_Level'] == 'Uneducated') & (data['Marital_Status'] == 'Married'), : ], x= 'Income_Category', y ='Credit_Limit' )"
   ]
  },
  {
   "cell_type": "markdown",
   "id": "0a712b8f-b161-4e3d-913d-c6536aa41105",
   "metadata": {},
   "source": [
    "# Caso #2\n",
    "- *Attrition_Flag:* Existing Customer\n",
    "- *Card_Category:* Silver\n",
    "- *Education_Level:* Uneducated\n",
    "- *Marital_Status:* Married"
   ]
  },
  {
   "cell_type": "code",
   "execution_count": 30,
   "id": "1ffbae9f-ebfb-4df1-9d81-410bb4a13b37",
   "metadata": {},
   "outputs": [
    {
     "data": {
      "text/plain": [
       "<AxesSubplot:xlabel='Education_Level', ylabel='Credit_Limit'>"
      ]
     },
     "execution_count": 30,
     "metadata": {},
     "output_type": "execute_result"
    },
    {
     "data": {
      "image/png": "[encoded data removed]",
      "text/plain": [
       "<Figure size 432x288 with 1 Axes>"
      ]
     },
     "metadata": {
      "needs_background": "light"
     },
     "output_type": "display_data"
    }
   ],
   "source": [
    "sns.boxplot(data = data.loc[ (data['Attrition_Flag'] == 'Existing Customer') & (data['Card_Category'] == 'Silver'), : ], x= 'Education_Level', y ='Credit_Limit' )"
   ]
  },
  {
   "cell_type": "code",
   "execution_count": 31,
   "id": "9f4cf5b5-4dfa-4884-89da-897da785e1ff",
   "metadata": {},
   "outputs": [
    {
     "data": {
      "text/plain": [
       "<AxesSubplot:xlabel='Marital_Status', ylabel='Credit_Limit'>"
      ]
     },
     "execution_count": 31,
     "metadata": {},
     "output_type": "execute_result"
    },
    {
     "data": {
      "image/png": "[encoded data removed]",
      "text/plain": [
       "<Figure size 432x288 with 1 Axes>"
      ]
     },
     "metadata": {
      "needs_background": "light"
     },
     "output_type": "display_data"
    }
   ],
   "source": [
    "sns.boxplot(data = data.loc[ (data['Attrition_Flag'] == 'Existing Customer') & (data['Card_Category'] == 'Silver') & (data['Education_Level'] == 'Uneducated'), : ], x= 'Marital_Status', y ='Credit_Limit' )"
   ]
  },
  {
   "cell_type": "code",
   "execution_count": 32,
   "id": "37eb40a5-3201-4cc5-b6d6-9c25dcb2b9ee",
   "metadata": {},
   "outputs": [
    {
     "data": {
      "text/plain": [
       "<AxesSubplot:xlabel='Income_Category', ylabel='Credit_Limit'>"
      ]
     },
     "execution_count": 32,
     "metadata": {},
     "output_type": "execute_result"
    },
    {
     "data": {
      "image/png": "[encoded data removed]",
      "text/plain": [
       "<Figure size 432x288 with 1 Axes>"
      ]
     },
     "metadata": {
      "needs_background": "light"
     },
     "output_type": "display_data"
    }
   ],
   "source": [
    "sns.boxplot(data = data.loc[ (data['Attrition_Flag'] == 'Existing Customer') & (data['Card_Category'] == 'Silver') & (data['Education_Level'] == 'Uneducated') & (data['Marital_Status'] == 'Married'), : ], x= 'Income_Category', y ='Credit_Limit' )"
   ]
  },
  {
   "cell_type": "markdown",
   "id": "0be9398b-a5f3-4981-b93a-86a4a3b440df",
   "metadata": {},
   "source": [
    "### ANALISIS DE CASO ESPECIFICO\n",
    "*Def:* El caso seleccionado de los anteriormente vistos para la variable númerica \"*Credit_Limit*\", es el caso #1:\n",
    "- *Attrition_Flag:* Existing Customer\n",
    "- *Card_Category:* Blue\n",
    "- *Education_Level:* Uneducated\n",
    "- *Marital_Status:* Married\n",
    "- *Income_Category:* Unknown *Categoría seleccionada para hacer el zoom*"
   ]
  },
  {
   "cell_type": "code",
   "execution_count": 33,
   "id": "b5ea5c44-ec96-4969-8a85-d01f5d0d42de",
   "metadata": {},
   "outputs": [],
   "source": [
    "Unknow_Income = data.loc[ (data['Attrition_Flag'] == 'Existing Customer') & (data['Card_Category'] == 'Blue') & (data['Education_Level'] == 'Graduate') & (data['Marital_Status'] == 'Married') & (data['Income_Category'] == 'Unknown'), ['Credit_Limit']]"
   ]
  },
  {
   "cell_type": "code",
   "execution_count": 34,
   "id": "98d6b2c4-fc6b-4f18-975e-07bf1cf973e1",
   "metadata": {},
   "outputs": [
    {
     "data": {
      "text/plain": [
       "{'whiskers': [<matplotlib.lines.Line2D at 0x1ef03cd0c40>,\n",
       "  <matplotlib.lines.Line2D at 0x1ef03cd0f10>],\n",
       " 'caps': [<matplotlib.lines.Line2D at 0x1ef03cd1220>,\n",
       "  <matplotlib.lines.Line2D at 0x1ef03cd14f0>],\n",
       " 'boxes': [<matplotlib.lines.Line2D at 0x1ef03cd0970>],\n",
       " 'medians': [<matplotlib.lines.Line2D at 0x1ef03cd17c0>],\n",
       " 'fliers': [<matplotlib.lines.Line2D at 0x1ef03cd1a90>],\n",
       " 'means': []}"
      ]
     },
     "execution_count": 34,
     "metadata": {},
     "output_type": "execute_result"
    },
    {
     "data": {
      "image/png": "[encoded data removed]",
      "text/plain": [
       "<Figure size 432x288 with 1 Axes>"
      ]
     },
     "metadata": {
      "needs_background": "light"
     },
     "output_type": "display_data"
    }
   ],
   "source": [
    "plt.boxplot(Unknow_Income)"
   ]
  },
  {
   "cell_type": "code",
   "execution_count": 35,
   "id": "ab8e6976-f862-4e1f-84f0-e48fd3d72e26",
   "metadata": {},
   "outputs": [],
   "source": [
    "q1 = np.quantile(Unknow_Income, .25)\n",
    "q3 = np.quantile(Unknow_Income, .75)"
   ]
  },
  {
   "cell_type": "code",
   "execution_count": 36,
   "id": "e18d19b4-e502-45a3-9a09-ff922ff36409",
   "metadata": {},
   "outputs": [],
   "source": [
    "iqr = q3 - q1"
   ]
  },
  {
   "cell_type": "code",
   "execution_count": 37,
   "id": "6887918c-c177-4a8b-a384-d3e214693143",
   "metadata": {},
   "outputs": [],
   "source": [
    "lower_bound = q1 - (1.5*iqr)\n",
    "upper_bound = q3 + (1.5*iqr)"
   ]
  },
  {
   "cell_type": "code",
   "execution_count": 38,
   "id": "79b19222-27b8-4907-9be4-d593470d1393",
   "metadata": {},
   "outputs": [
    {
     "data": {
      "text/plain": [
       "18270.875"
      ]
     },
     "execution_count": 38,
     "metadata": {},
     "output_type": "execute_result"
    }
   ],
   "source": [
    "upper_bound"
   ]
  },
  {
   "cell_type": "markdown",
   "id": "a465d803-8be5-4212-b4c1-1dd1f6e83d9f",
   "metadata": {},
   "source": [
    "### AUTOMATIZAR PARA CREDIT_LIMIT"
   ]
  },
  {
   "cell_type": "code",
   "execution_count": 39,
   "id": "afadbf47-ce7c-4df7-bd6b-f348414aca83",
   "metadata": {},
   "outputs": [],
   "source": [
    "dfq1 = data.loc[: , ['Attrition_Flag','Card_Category','Education_Level','Marital_Status','Income_Category','Credit_Limit']].groupby(['Attrition_Flag','Card_Category','Education_Level','Marital_Status','Income_Category'], as_index = False).quantile(0.25)\n",
    "dfq1.columns = ['Attrition_Flag','Card_Category','Education_Level','Marital_Status','Income_Category','Credit_Limit_Q1']"
   ]
  },
  {
   "cell_type": "code",
   "execution_count": 40,
   "id": "0aaa1900-0c1a-4ac4-9838-e87a8aa4a079",
   "metadata": {},
   "outputs": [],
   "source": [
    "dfq3 = data.loc[: , ['Attrition_Flag','Card_Category','Education_Level','Marital_Status','Income_Category','Credit_Limit']].groupby(['Attrition_Flag','Card_Category','Education_Level','Marital_Status','Income_Category'], as_index = False).quantile(0.75)\n",
    "dfq3.columns = ['Attrition_Flag','Card_Category','Education_Level','Marital_Status','Income_Category','Credit_Limit_Q3']"
   ]
  },
  {
   "cell_type": "code",
   "execution_count": 41,
   "id": "7cc159c3-4f4e-4504-b5a8-29115b0e5625",
   "metadata": {},
   "outputs": [],
   "source": [
    "dfmean = data.loc[: , ['Attrition_Flag','Card_Category','Education_Level','Marital_Status','Income_Category','Credit_Limit']].groupby(['Attrition_Flag','Card_Category','Education_Level','Marital_Status','Income_Category'], as_index = False).mean()\n",
    "dfmean.columns = ['Attrition_Flag','Card_Category','Education_Level','Marital_Status','Income_Category','Credit_Limit_MEAN']"
   ]
  },
  {
   "cell_type": "code",
   "execution_count": 42,
   "id": "b4c4153a-8af2-4d08-877b-909ce3750809",
   "metadata": {},
   "outputs": [],
   "source": [
    "df_iqr = dfq1.merge(dfq3, on = ['Attrition_Flag','Card_Category','Education_Level','Marital_Status','Income_Category'], how = 'inner').merge(dfmean, on = ['Attrition_Flag','Card_Category','Education_Level','Marital_Status','Income_Category'], how = 'inner')"
   ]
  },
  {
   "cell_type": "code",
   "execution_count": 43,
   "id": "e733b26c-1f43-481f-8d2f-a2bfff6f42aa",
   "metadata": {},
   "outputs": [
    {
     "data": {
      "text/html": [
       "<div>\n",
       "<style scoped>\n",
       "    .dataframe tbody tr th:only-of-type {\n",
       "        vertical-align: middle;\n",
       "    }\n",
       "\n",
       "    .dataframe tbody tr th {\n",
       "        vertical-align: top;\n",
       "    }\n",
       "\n",
       "    .dataframe thead th {\n",
       "        text-align: right;\n",
       "    }\n",
       "</style>\n",
       "<table border=\"1\" class=\"dataframe\">\n",
       "  <thead>\n",
       "    <tr style=\"text-align: right;\">\n",
       "      <th></th>\n",
       "      <th>Attrition_Flag</th>\n",
       "      <th>Card_Category</th>\n",
       "      <th>Education_Level</th>\n",
       "      <th>Marital_Status</th>\n",
       "      <th>Income_Category</th>\n",
       "      <th>Credit_Limit_Q1</th>\n",
       "      <th>Credit_Limit_Q3</th>\n",
       "      <th>Credit_Limit_MEAN</th>\n",
       "    </tr>\n",
       "  </thead>\n",
       "  <tbody>\n",
       "    <tr>\n",
       "      <th>0</th>\n",
       "      <td>Attrited Customer</td>\n",
       "      <td>Blue</td>\n",
       "      <td>College</td>\n",
       "      <td>Divorced</td>\n",
       "      <td>$120K +</td>\n",
       "      <td>34516.00</td>\n",
       "      <td>34516.0</td>\n",
       "      <td>34516.00</td>\n",
       "    </tr>\n",
       "    <tr>\n",
       "      <th>1</th>\n",
       "      <td>Attrited Customer</td>\n",
       "      <td>Blue</td>\n",
       "      <td>College</td>\n",
       "      <td>Divorced</td>\n",
       "      <td>$40K - $60K</td>\n",
       "      <td>3409.50</td>\n",
       "      <td>4076.5</td>\n",
       "      <td>3743.00</td>\n",
       "    </tr>\n",
       "    <tr>\n",
       "      <th>2</th>\n",
       "      <td>Attrited Customer</td>\n",
       "      <td>Blue</td>\n",
       "      <td>College</td>\n",
       "      <td>Divorced</td>\n",
       "      <td>$80K - $120K</td>\n",
       "      <td>6578.25</td>\n",
       "      <td>17977.0</td>\n",
       "      <td>14684.25</td>\n",
       "    </tr>\n",
       "  </tbody>\n",
       "</table>\n",
       "</div>"
      ],
      "text/plain": [
       "      Attrition_Flag Card_Category Education_Level Marital_Status  \\\n",
       "0  Attrited Customer          Blue         College       Divorced   \n",
       "1  Attrited Customer          Blue         College       Divorced   \n",
       "2  Attrited Customer          Blue         College       Divorced   \n",
       "\n",
       "  Income_Category  Credit_Limit_Q1  Credit_Limit_Q3  Credit_Limit_MEAN  \n",
       "0         $120K +         34516.00          34516.0           34516.00  \n",
       "1     $40K - $60K          3409.50           4076.5            3743.00  \n",
       "2    $80K - $120K          6578.25          17977.0           14684.25  "
      ]
     },
     "execution_count": 43,
     "metadata": {},
     "output_type": "execute_result"
    }
   ],
   "source": [
    "df_iqr.head(3)"
   ]
  },
  {
   "cell_type": "code",
   "execution_count": 44,
   "id": "dba81e50-1748-414e-9369-fc7980a0151f",
   "metadata": {},
   "outputs": [],
   "source": [
    "df_iqr['iqr'] = df_iqr.apply(lambda r: (r['Credit_Limit_Q3'] - r['Credit_Limit_Q1']), axis = 1)"
   ]
  },
  {
   "cell_type": "code",
   "execution_count": 45,
   "id": "04a489ac-e1c2-4a60-851b-965e826cdbaf",
   "metadata": {},
   "outputs": [
    {
     "data": {
      "text/html": [
       "<div>\n",
       "<style scoped>\n",
       "    .dataframe tbody tr th:only-of-type {\n",
       "        vertical-align: middle;\n",
       "    }\n",
       "\n",
       "    .dataframe tbody tr th {\n",
       "        vertical-align: top;\n",
       "    }\n",
       "\n",
       "    .dataframe thead th {\n",
       "        text-align: right;\n",
       "    }\n",
       "</style>\n",
       "<table border=\"1\" class=\"dataframe\">\n",
       "  <thead>\n",
       "    <tr style=\"text-align: right;\">\n",
       "      <th></th>\n",
       "      <th>Attrition_Flag</th>\n",
       "      <th>Card_Category</th>\n",
       "      <th>Education_Level</th>\n",
       "      <th>Marital_Status</th>\n",
       "      <th>Income_Category</th>\n",
       "      <th>Credit_Limit_Q1</th>\n",
       "      <th>Credit_Limit_Q3</th>\n",
       "      <th>Credit_Limit_MEAN</th>\n",
       "      <th>iqr</th>\n",
       "    </tr>\n",
       "  </thead>\n",
       "  <tbody>\n",
       "    <tr>\n",
       "      <th>0</th>\n",
       "      <td>Attrited Customer</td>\n",
       "      <td>Blue</td>\n",
       "      <td>College</td>\n",
       "      <td>Divorced</td>\n",
       "      <td>$120K +</td>\n",
       "      <td>34516.00</td>\n",
       "      <td>34516.0</td>\n",
       "      <td>34516.00</td>\n",
       "      <td>0.00</td>\n",
       "    </tr>\n",
       "    <tr>\n",
       "      <th>1</th>\n",
       "      <td>Attrited Customer</td>\n",
       "      <td>Blue</td>\n",
       "      <td>College</td>\n",
       "      <td>Divorced</td>\n",
       "      <td>$40K - $60K</td>\n",
       "      <td>3409.50</td>\n",
       "      <td>4076.5</td>\n",
       "      <td>3743.00</td>\n",
       "      <td>667.00</td>\n",
       "    </tr>\n",
       "    <tr>\n",
       "      <th>2</th>\n",
       "      <td>Attrited Customer</td>\n",
       "      <td>Blue</td>\n",
       "      <td>College</td>\n",
       "      <td>Divorced</td>\n",
       "      <td>$80K - $120K</td>\n",
       "      <td>6578.25</td>\n",
       "      <td>17977.0</td>\n",
       "      <td>14684.25</td>\n",
       "      <td>11398.75</td>\n",
       "    </tr>\n",
       "  </tbody>\n",
       "</table>\n",
       "</div>"
      ],
      "text/plain": [
       "      Attrition_Flag Card_Category Education_Level Marital_Status  \\\n",
       "0  Attrited Customer          Blue         College       Divorced   \n",
       "1  Attrited Customer          Blue         College       Divorced   \n",
       "2  Attrited Customer          Blue         College       Divorced   \n",
       "\n",
       "  Income_Category  Credit_Limit_Q1  Credit_Limit_Q3  Credit_Limit_MEAN  \\\n",
       "0         $120K +         34516.00          34516.0           34516.00   \n",
       "1     $40K - $60K          3409.50           4076.5            3743.00   \n",
       "2    $80K - $120K          6578.25          17977.0           14684.25   \n",
       "\n",
       "        iqr  \n",
       "0      0.00  \n",
       "1    667.00  \n",
       "2  11398.75  "
      ]
     },
     "execution_count": 45,
     "metadata": {},
     "output_type": "execute_result"
    }
   ],
   "source": [
    "df_iqr.head(3)"
   ]
  },
  {
   "cell_type": "code",
   "execution_count": 46,
   "id": "ac4c1efb-c7fd-4316-a0c2-8598853b09c1",
   "metadata": {},
   "outputs": [],
   "source": [
    "df_iqr['upper_bound'] = df_iqr.apply(lambda r: (r['Credit_Limit_Q3'] + (1.5*r['iqr'])), axis = 1)\n",
    "df_iqr['lower_bound'] = df_iqr.apply(lambda r: (r['Credit_Limit_Q1'] - (1.5*r['iqr'])), axis = 1)"
   ]
  },
  {
   "cell_type": "code",
   "execution_count": 47,
   "id": "0212d4ba-ebc0-4251-8651-ed013e579109",
   "metadata": {},
   "outputs": [
    {
     "data": {
      "text/html": [
       "<div>\n",
       "<style scoped>\n",
       "    .dataframe tbody tr th:only-of-type {\n",
       "        vertical-align: middle;\n",
       "    }\n",
       "\n",
       "    .dataframe tbody tr th {\n",
       "        vertical-align: top;\n",
       "    }\n",
       "\n",
       "    .dataframe thead th {\n",
       "        text-align: right;\n",
       "    }\n",
       "</style>\n",
       "<table border=\"1\" class=\"dataframe\">\n",
       "  <thead>\n",
       "    <tr style=\"text-align: right;\">\n",
       "      <th></th>\n",
       "      <th>Attrition_Flag</th>\n",
       "      <th>Card_Category</th>\n",
       "      <th>Education_Level</th>\n",
       "      <th>Marital_Status</th>\n",
       "      <th>Income_Category</th>\n",
       "      <th>Credit_Limit_Q1</th>\n",
       "      <th>Credit_Limit_Q3</th>\n",
       "      <th>Credit_Limit_MEAN</th>\n",
       "      <th>iqr</th>\n",
       "      <th>upper_bound</th>\n",
       "      <th>lower_bound</th>\n",
       "    </tr>\n",
       "  </thead>\n",
       "  <tbody>\n",
       "    <tr>\n",
       "      <th>0</th>\n",
       "      <td>Attrited Customer</td>\n",
       "      <td>Blue</td>\n",
       "      <td>College</td>\n",
       "      <td>Divorced</td>\n",
       "      <td>$120K +</td>\n",
       "      <td>34516.00</td>\n",
       "      <td>34516.0</td>\n",
       "      <td>34516.00</td>\n",
       "      <td>0.00</td>\n",
       "      <td>34516.000</td>\n",
       "      <td>34516.000</td>\n",
       "    </tr>\n",
       "    <tr>\n",
       "      <th>1</th>\n",
       "      <td>Attrited Customer</td>\n",
       "      <td>Blue</td>\n",
       "      <td>College</td>\n",
       "      <td>Divorced</td>\n",
       "      <td>$40K - $60K</td>\n",
       "      <td>3409.50</td>\n",
       "      <td>4076.5</td>\n",
       "      <td>3743.00</td>\n",
       "      <td>667.00</td>\n",
       "      <td>5077.000</td>\n",
       "      <td>2409.000</td>\n",
       "    </tr>\n",
       "    <tr>\n",
       "      <th>2</th>\n",
       "      <td>Attrited Customer</td>\n",
       "      <td>Blue</td>\n",
       "      <td>College</td>\n",
       "      <td>Divorced</td>\n",
       "      <td>$80K - $120K</td>\n",
       "      <td>6578.25</td>\n",
       "      <td>17977.0</td>\n",
       "      <td>14684.25</td>\n",
       "      <td>11398.75</td>\n",
       "      <td>35075.125</td>\n",
       "      <td>-10519.875</td>\n",
       "    </tr>\n",
       "  </tbody>\n",
       "</table>\n",
       "</div>"
      ],
      "text/plain": [
       "      Attrition_Flag Card_Category Education_Level Marital_Status  \\\n",
       "0  Attrited Customer          Blue         College       Divorced   \n",
       "1  Attrited Customer          Blue         College       Divorced   \n",
       "2  Attrited Customer          Blue         College       Divorced   \n",
       "\n",
       "  Income_Category  Credit_Limit_Q1  Credit_Limit_Q3  Credit_Limit_MEAN  \\\n",
       "0         $120K +         34516.00          34516.0           34516.00   \n",
       "1     $40K - $60K          3409.50           4076.5            3743.00   \n",
       "2    $80K - $120K          6578.25          17977.0           14684.25   \n",
       "\n",
       "        iqr  upper_bound  lower_bound  \n",
       "0      0.00    34516.000    34516.000  \n",
       "1    667.00     5077.000     2409.000  \n",
       "2  11398.75    35075.125   -10519.875  "
      ]
     },
     "execution_count": 47,
     "metadata": {},
     "output_type": "execute_result"
    }
   ],
   "source": [
    "df_iqr.head(3)"
   ]
  },
  {
   "cell_type": "code",
   "execution_count": 48,
   "id": "cdfa7bb4-6860-4900-bdec-8ddb4990825f",
   "metadata": {},
   "outputs": [],
   "source": [
    "df_f = data.merge(df_iqr, on = ['Attrition_Flag','Card_Category','Education_Level','Marital_Status','Income_Category'], how='left').copy()"
   ]
  },
  {
   "cell_type": "code",
   "execution_count": 49,
   "id": "83d85b4d-0ee5-41b8-917f-106416f650ca",
   "metadata": {},
   "outputs": [
    {
     "data": {
      "text/plain": [
       "(9991, 29)"
      ]
     },
     "execution_count": 49,
     "metadata": {},
     "output_type": "execute_result"
    }
   ],
   "source": [
    "df_f.shape"
   ]
  },
  {
   "cell_type": "code",
   "execution_count": 50,
   "id": "9ee90e7a-c2ed-4de3-a5ce-052c6a18dab5",
   "metadata": {},
   "outputs": [],
   "source": [
    "def newCredit_Limit(r):\n",
    "    if (r['Credit_Limit'] < r['lower_bound']) | (r['Credit_Limit'] > r['upper_bound']):\n",
    "        return r['Credit_Limit_MEAN']\n",
    "    else:\n",
    "        return r['Credit_Limit']"
   ]
  },
  {
   "cell_type": "code",
   "execution_count": 51,
   "id": "78b587c9-8b0e-4d5a-b430-c1f292b717b7",
   "metadata": {},
   "outputs": [],
   "source": [
    "df_f['new_Credit_Limit'] = df_f.apply( lambda r: newCredit_Limit(r), axis = 1 )"
   ]
  },
  {
   "cell_type": "markdown",
   "id": "bb885638-1dd4-40ff-a8eb-bd04c9c2a3ec",
   "metadata": {},
   "source": [
    "### COMPARACIONES"
   ]
  },
  {
   "cell_type": "markdown",
   "id": "62cb2ae2-1928-4a8c-9bf2-bbd5cdc6e3d7",
   "metadata": {},
   "source": [
    "- Credit_limit vs new_Credit_Limit"
   ]
  },
  {
   "cell_type": "code",
   "execution_count": 52,
   "id": "2f969881-b72e-4398-9834-8e03130995fb",
   "metadata": {},
   "outputs": [],
   "source": [
    "prueba1 = data.loc[ (data['Attrition_Flag'] == 'Existing Customer') & (data['Card_Category'] == 'Blue') & (data['Education_Level'] == 'Graduate') & (data['Marital_Status'] == 'Married') & (data['Income_Category'] == 'Unknown'), ['Credit_Limit']]"
   ]
  },
  {
   "cell_type": "code",
   "execution_count": 53,
   "id": "f0f60d97-6e9c-4418-a853-d4a16d58dd66",
   "metadata": {},
   "outputs": [
    {
     "data": {
      "text/plain": [
       "{'whiskers': [<matplotlib.lines.Line2D at 0x1ef04013a90>,\n",
       "  <matplotlib.lines.Line2D at 0x1ef04013d60>],\n",
       " 'caps': [<matplotlib.lines.Line2D at 0x1ef040080a0>,\n",
       "  <matplotlib.lines.Line2D at 0x1ef04008370>],\n",
       " 'boxes': [<matplotlib.lines.Line2D at 0x1ef040137c0>],\n",
       " 'medians': [<matplotlib.lines.Line2D at 0x1ef04008640>],\n",
       " 'fliers': [<matplotlib.lines.Line2D at 0x1ef04008910>],\n",
       " 'means': []}"
      ]
     },
     "execution_count": 53,
     "metadata": {},
     "output_type": "execute_result"
    },
    {
     "data": {
      "image/png": "[encoded data removed]",
      "text/plain": [
       "<Figure size 432x288 with 1 Axes>"
      ]
     },
     "metadata": {
      "needs_background": "light"
     },
     "output_type": "display_data"
    }
   ],
   "source": [
    "plt.boxplot(prueba1)"
   ]
  },
  {
   "cell_type": "code",
   "execution_count": 54,
   "id": "d1962655-cebf-46a5-a68b-0893d7cb1a55",
   "metadata": {},
   "outputs": [],
   "source": [
    "prueba2 = df_f.loc[ (df_f['Attrition_Flag'] == 'Existing Customer') & (df_f['Card_Category'] == 'Blue') & (df_f['Education_Level'] == 'Graduate') & (df_f['Marital_Status'] == 'Married') & (df_f['Income_Category'] == 'Unknown'), ['new_Credit_Limit']]"
   ]
  },
  {
   "cell_type": "code",
   "execution_count": 55,
   "id": "9d1de96f-b070-4c2a-9d4b-b787eb768d3c",
   "metadata": {},
   "outputs": [
    {
     "data": {
      "text/plain": [
       "{'whiskers': [<matplotlib.lines.Line2D at 0x1ef0462e460>,\n",
       "  <matplotlib.lines.Line2D at 0x1ef0462e730>],\n",
       " 'caps': [<matplotlib.lines.Line2D at 0x1ef0462ea00>,\n",
       "  <matplotlib.lines.Line2D at 0x1ef0462ecd0>],\n",
       " 'boxes': [<matplotlib.lines.Line2D at 0x1ef0462e190>],\n",
       " 'medians': [<matplotlib.lines.Line2D at 0x1ef0462efa0>],\n",
       " 'fliers': [<matplotlib.lines.Line2D at 0x1ef047492b0>],\n",
       " 'means': []}"
      ]
     },
     "execution_count": 55,
     "metadata": {},
     "output_type": "execute_result"
    },
    {
     "data": {
      "image/png": "[encoded data removed]",
      "text/plain": [
       "<Figure size 432x288 with 1 Axes>"
      ]
     },
     "metadata": {
      "needs_background": "light"
     },
     "output_type": "display_data"
    }
   ],
   "source": [
    "plt.boxplot(prueba2)"
   ]
  },
  {
   "cell_type": "code",
   "execution_count": 56,
   "id": "d5b4656c-8a04-4bb1-8e5d-3814b6db7f50",
   "metadata": {},
   "outputs": [
    {
     "data": {
      "text/plain": [
       "26"
      ]
     },
     "execution_count": 56,
     "metadata": {},
     "output_type": "execute_result"
    }
   ],
   "source": [
    "df_f['Customer_Age'].min()"
   ]
  },
  {
   "cell_type": "code",
   "execution_count": 57,
   "id": "08f834ac-8d2a-4273-89e1-e678153c0978",
   "metadata": {},
   "outputs": [
    {
     "data": {
      "text/plain": [
       "<AxesSubplot:xlabel='Education_Level', ylabel='Credit_Limit'>"
      ]
     },
     "execution_count": 57,
     "metadata": {},
     "output_type": "execute_result"
    },
    {
     "data": {
      "image/png": "[encoded data removed]",
      "text/plain": [
       "<Figure size 432x288 with 1 Axes>"
      ]
     },
     "metadata": {
      "needs_background": "light"
     },
     "output_type": "display_data"
    }
   ],
   "source": [
    "sns.boxplot(data = data.loc[ (data['Attrition_Flag'] == 'Existing Customer') & (data['Card_Category'] == 'Blue'), : ], x= 'Education_Level', y ='Credit_Limit' )"
   ]
  },
  {
   "cell_type": "code",
   "execution_count": 58,
   "id": "9fd64ff1-a6dc-4e0f-8ae3-cc79e7be3464",
   "metadata": {},
   "outputs": [
    {
     "data": {
      "text/plain": [
       "<AxesSubplot:xlabel='Education_Level', ylabel='new_Credit_Limit'>"
      ]
     },
     "execution_count": 58,
     "metadata": {},
     "output_type": "execute_result"
    },
    {
     "data": {
      "image/png": "[encoded data removed]",
      "text/plain": [
       "<Figure size 432x288 with 1 Axes>"
      ]
     },
     "metadata": {
      "needs_background": "light"
     },
     "output_type": "display_data"
    }
   ],
   "source": [
    "sns.boxplot(data = df_f.loc[ (df_f['Attrition_Flag'] == 'Existing Customer') & (df_f['Card_Category'] == 'Blue'), : ], x= 'Education_Level', y ='new_Credit_Limit' )"
   ]
  },
  {
   "cell_type": "code",
   "execution_count": 59,
   "id": "ac7332e9-1184-42ed-a3cd-2e851b354851",
   "metadata": {},
   "outputs": [
    {
     "data": {
      "text/html": [
       "<div>\n",
       "<style scoped>\n",
       "    .dataframe tbody tr th:only-of-type {\n",
       "        vertical-align: middle;\n",
       "    }\n",
       "\n",
       "    .dataframe tbody tr th {\n",
       "        vertical-align: top;\n",
       "    }\n",
       "\n",
       "    .dataframe thead th {\n",
       "        text-align: right;\n",
       "    }\n",
       "</style>\n",
       "<table border=\"1\" class=\"dataframe\">\n",
       "  <thead>\n",
       "    <tr style=\"text-align: right;\">\n",
       "      <th></th>\n",
       "      <th>CLIENTNUM</th>\n",
       "      <th>Attrition_Flag</th>\n",
       "      <th>Customer_Age</th>\n",
       "      <th>Gender</th>\n",
       "      <th>Dependent_count</th>\n",
       "      <th>Education_Level</th>\n",
       "      <th>Marital_Status</th>\n",
       "      <th>Income_Category</th>\n",
       "      <th>Card_Category</th>\n",
       "      <th>Months_on_book</th>\n",
       "      <th>...</th>\n",
       "      <th>Avg_Utilization_Ratio</th>\n",
       "      <th>Naive_Bayes_Classifier_Attrition_Flag_Card_Category_Contacts_Count_12_mon_Dependent_count_Education_Level_Months_Inactive_12_mon_1</th>\n",
       "      <th>Naive_Bayes_Classifier_Attrition_Flag_Card_Category_Contacts_Count_12_mon_Dependent_count_Education_Level_Months_Inactive_12_mon_2</th>\n",
       "      <th>Credit_Limit_Q1</th>\n",
       "      <th>Credit_Limit_Q3</th>\n",
       "      <th>Credit_Limit_MEAN</th>\n",
       "      <th>iqr</th>\n",
       "      <th>upper_bound</th>\n",
       "      <th>lower_bound</th>\n",
       "      <th>new_Credit_Limit</th>\n",
       "    </tr>\n",
       "  </thead>\n",
       "  <tbody>\n",
       "    <tr>\n",
       "      <th>0</th>\n",
       "      <td>768805383</td>\n",
       "      <td>Existing Customer</td>\n",
       "      <td>45</td>\n",
       "      <td>M</td>\n",
       "      <td>3</td>\n",
       "      <td>High School</td>\n",
       "      <td>Married</td>\n",
       "      <td>$60K - $80K</td>\n",
       "      <td>Blue</td>\n",
       "      <td>39</td>\n",
       "      <td>...</td>\n",
       "      <td>0.061</td>\n",
       "      <td>0.000093</td>\n",
       "      <td>0.99991</td>\n",
       "      <td>3842.00</td>\n",
       "      <td>11476.0</td>\n",
       "      <td>8049.679200</td>\n",
       "      <td>7634.00</td>\n",
       "      <td>22927.000</td>\n",
       "      <td>-7609.000</td>\n",
       "      <td>12691.000000</td>\n",
       "    </tr>\n",
       "    <tr>\n",
       "      <th>1</th>\n",
       "      <td>818770008</td>\n",
       "      <td>Existing Customer</td>\n",
       "      <td>49</td>\n",
       "      <td>F</td>\n",
       "      <td>5</td>\n",
       "      <td>Graduate</td>\n",
       "      <td>Single</td>\n",
       "      <td>Less than $40K</td>\n",
       "      <td>Blue</td>\n",
       "      <td>44</td>\n",
       "      <td>...</td>\n",
       "      <td>0.105</td>\n",
       "      <td>0.000057</td>\n",
       "      <td>0.99994</td>\n",
       "      <td>2120.25</td>\n",
       "      <td>4284.5</td>\n",
       "      <td>3469.597929</td>\n",
       "      <td>2164.25</td>\n",
       "      <td>7530.875</td>\n",
       "      <td>-1126.125</td>\n",
       "      <td>3469.597929</td>\n",
       "    </tr>\n",
       "  </tbody>\n",
       "</table>\n",
       "<p>2 rows × 30 columns</p>\n",
       "</div>"
      ],
      "text/plain": [
       "   CLIENTNUM     Attrition_Flag  Customer_Age Gender  Dependent_count  \\\n",
       "0  768805383  Existing Customer            45      M                3   \n",
       "1  818770008  Existing Customer            49      F                5   \n",
       "\n",
       "  Education_Level Marital_Status Income_Category Card_Category  \\\n",
       "0     High School        Married     $60K - $80K          Blue   \n",
       "1        Graduate         Single  Less than $40K          Blue   \n",
       "\n",
       "   Months_on_book  ...  Avg_Utilization_Ratio  \\\n",
       "0              39  ...                  0.061   \n",
       "1              44  ...                  0.105   \n",
       "\n",
       "   Naive_Bayes_Classifier_Attrition_Flag_Card_Category_Contacts_Count_12_mon_Dependent_count_Education_Level_Months_Inactive_12_mon_1  \\\n",
       "0                                           0.000093                                                                                    \n",
       "1                                           0.000057                                                                                    \n",
       "\n",
       "   Naive_Bayes_Classifier_Attrition_Flag_Card_Category_Contacts_Count_12_mon_Dependent_count_Education_Level_Months_Inactive_12_mon_2  \\\n",
       "0                                            0.99991                                                                                    \n",
       "1                                            0.99994                                                                                    \n",
       "\n",
       "   Credit_Limit_Q1  Credit_Limit_Q3  Credit_Limit_MEAN      iqr  upper_bound  \\\n",
       "0          3842.00          11476.0        8049.679200  7634.00    22927.000   \n",
       "1          2120.25           4284.5        3469.597929  2164.25     7530.875   \n",
       "\n",
       "   lower_bound  new_Credit_Limit  \n",
       "0    -7609.000      12691.000000  \n",
       "1    -1126.125       3469.597929  \n",
       "\n",
       "[2 rows x 30 columns]"
      ]
     },
     "execution_count": 59,
     "metadata": {},
     "output_type": "execute_result"
    }
   ],
   "source": [
    "df_f.head(2)"
   ]
  }
 ],
 "metadata": {
  "kernelspec": {
   "display_name": "Python 3 (ipykernel)",
   "language": "python",
   "name": "python3"
  },
  "language_info": {
   "codemirror_mode": {
    "name": "ipython",
    "version": 3
   },
   "file_extension": ".py",
   "mimetype": "text/x-python",
   "name": "python",
   "nbconvert_exporter": "python",
   "pygments_lexer": "ipython3",
   "version": "3.9.12"
  }
 },
 "nbformat": 4,
 "nbformat_minor": 5
}
